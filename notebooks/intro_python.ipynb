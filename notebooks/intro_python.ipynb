{
 "cells": [
  {
   "cell_type": "markdown",
   "id": "855bc612",
   "metadata": {
    "slideshow": {
     "slide_type": "slide"
    }
   },
   "source": [
    "# Introduction to Python & Examples from Neuroscience/Psychology \n",
    "\n",
    "[Peer Herholz (he/him)](https://peerherholz.github.io/)    \n",
    "Research affiliate - [NeuroDataScience lab](https://neurodatascience.github.io/) at [MNI](https://www.mcgill.ca/neuro/)/[McGill](https://www.mcgill.ca/)  \n",
    "Member - [BIDS](https://bids-specification.readthedocs.io/en/stable/), [ReproNim](https://www.repronim.org/), [Brainhack](https://brainhack.org/), [Neuromod](https://www.cneuromod.ca/), [OHBM SEA-SIG](https://ohbm-environment.org/), [UNIQUE](https://sites.google.com/view/unique-neuro-ai)  \n",
    "\n",
    "<img align=\"left\" src=\"https://raw.githubusercontent.com/G0RELLA/gorella_mwn/master/lecture/static/Twitter%20social%20icons%20-%20circle%20-%20blue.png\" alt=\"logo\" title=\"Twitter\" width=\"32\" height=\"20\" /> <img align=\"left\" src=\"https://raw.githubusercontent.com/G0RELLA/gorella_mwn/master/lecture/static/GitHub-Mark-120px-plus.png\" alt=\"logo\" title=\"Github\" width=\"30\" height=\"20\" />   &nbsp;&nbsp;@peerherholz \n",
    "\n"
   ]
  },
  {
   "cell_type": "markdown",
   "id": "823d76b8",
   "metadata": {
    "slideshow": {
     "slide_type": "slide"
    }
   },
   "source": [
    "## Before we get started 1...\n",
    "<br>\n",
    "\n",
    "- most of what you’ll see within this lecture regarding \"general\" `Python` was prepared by Ross Markello, Michael Notter and Peer Herholz and further adapted for this course by Peer Herholz \n",
    "- \"general\" `Python` content is furthermore based on Tal Yarkoni's [\"Introduction to Python\" lecture at Neurohackademy 2019](https://neurohackademy.org/course/introduction-to-python-2/) and\n",
    "    - on [IPython notebooks from J. R. Johansson](http://github.com/jrjohansson/scientific-python-lectures)\n",
    "    - on http://www.stavros.io/tutorials/python/ & http://www.swaroopch.com/notes/python\n",
    "    - on https://github.com/oesteban/biss2016 &  https://github.com/jvns/pandas-cookbook\n"
   ]
  },
  {
   "cell_type": "markdown",
   "id": "b9021c16",
   "metadata": {
    "slideshow": {
     "slide_type": "slide"
    }
   },
   "source": [
    "## Objectives 📍\n",
    "\n",
    "* learn basic and efficient usage of the python programming language\n",
    "    * what is python & how to utilize it\n",
    "    * building blocks of & operations in python \n",
    "* get to know `python`'s capabilities concerning `neuroscience`/`psychology` research\n",
    "    * explore generally useful `libraries`\n",
    "    * explore `libraries` for specific `analyses`"
   ]
  },
  {
   "cell_type": "markdown",
   "id": "af1afbbc",
   "metadata": {
    "slideshow": {
     "slide_type": "slide"
    }
   },
   "source": [
    "## What is Python?\n",
    "\n",
    "* Python is a programming language\n",
    "* Specifically, it's a **widely used/very flexible**, **high-level**, **general-purpose**, **dynamic** programming language\n",
    "* That's a mouthful! Let's explore each of these points in more detail..."
   ]
  },
  {
   "cell_type": "markdown",
   "id": "7cfc977e",
   "metadata": {
    "slideshow": {
     "slide_type": "subslide"
    }
   },
   "source": [
    "### Widely-used\n",
    "* Python is the fastest-growing major programming language\n",
    "* Top 3 overall (with JavaScript, Java)"
   ]
  },
  {
   "cell_type": "markdown",
   "id": "52992989",
   "metadata": {
    "slideshow": {
     "slide_type": "subslide"
    }
   },
   "source": [
    "<center><img src=\"https://149351115.v2.pressablecdn.com/wp-content/uploads/2017/09/growth_major_languages-1-1400x1200.png\" width=\"800px\" style=\"margin-bottom: 10px;\"></center>"
   ]
  },
  {
   "cell_type": "markdown",
   "id": "b504cb1a",
   "metadata": {
    "slideshow": {
     "slide_type": "subslide"
    }
   },
   "source": [
    "### High-level\n",
    "Python features a high level of abstraction\n",
    "* Many operations that are explicit in lower-level languages (e.g., C/C++) are implicit in Python\n",
    "* E.g., memory allocation, garbage collection, etc.\n",
    "* Python lets you write code faster"
   ]
  },
  {
   "cell_type": "markdown",
   "id": "7ffd6863",
   "metadata": {
    "slideshow": {
     "slide_type": "subslide"
    }
   },
   "source": [
    "#### File reading in Java\n",
    "```java\n",
    "import java.io.BufferedReader;\n",
    "import java.io.FileReader;\n",
    "import java.io.IOException;\n",
    " \n",
    "public class ReadFile {\n",
    "    public static void main(String[] args) throws IOException{\n",
    "        String fileContents = readEntireFile(\"./foo.txt\");\n",
    "    }\n",
    " \n",
    "    private static String readEntireFile(String filename) throws IOException {\n",
    "        FileReader in = new FileReader(filename);\n",
    "        StringBuilder contents = new StringBuilder();\n",
    "        char[] buffer = new char[4096];\n",
    "        int read = 0;\n",
    "        do {\n",
    "            contents.append(buffer, 0, read);\n",
    "            read = in.read(buffer);\n",
    "        } while (read >= 0);\n",
    "        return contents.toString();\n",
    "    }\n",
    "}\n",
    "```"
   ]
  },
  {
   "cell_type": "markdown",
   "id": "a9af30f0",
   "metadata": {
    "slideshow": {
     "slide_type": "subslide"
    }
   },
   "source": [
    "#### File-reading in Python\n",
    "```python\n",
    "open(filename).read()\n",
    "```"
   ]
  },
  {
   "cell_type": "markdown",
   "id": "909ad578",
   "metadata": {
    "slideshow": {
     "slide_type": "subslide"
    }
   },
   "source": [
    "### General-purpose\n",
    "You can do almost everything in Python\n",
    "* Comprehensive standard library\n",
    "* Enormous ecosystem of third-party packages\n",
    "* Widely used in many areas of software development (web, dev-ops, data science, etc.)\n",
    "\n",
    "<center><img src=\"https://raw.githubusercontent.com/PeerHerholz/Python_for_Psychologists_Winter2021/master/lecture/static/general_purpose_meme.png\"></center>"
   ]
  },
  {
   "cell_type": "markdown",
   "id": "0015f150",
   "metadata": {
    "slideshow": {
     "slide_type": "subslide"
    }
   },
   "source": [
    "### Dynamic\n",
    "Code is interpreted at run-time\n",
    "* No compilation process*; code is read line-by-line when executed\n",
    "* Eliminates delays between development and execution\n",
    "* The downside: poorer performance compared to compiled languages"
   ]
  },
  {
   "cell_type": "markdown",
   "id": "27531d43",
   "metadata": {
    "slideshow": {
     "slide_type": "subslide"
    }
   },
   "source": [
    "<center><img src=\"https://imgs.xkcd.com/comics/python.png\"></center>"
   ]
  },
  {
   "cell_type": "markdown",
   "id": "7a33039a",
   "metadata": {
    "slideshow": {
     "slide_type": "fragment"
    }
   },
   "source": [
    "(Try typing `import antigravity` into a new cell and running it!)"
   ]
  },
  {
   "cell_type": "markdown",
   "id": "d50679d6",
   "metadata": {
    "slideshow": {
     "slide_type": "slide"
    }
   },
   "source": [
    "What we will do in this section of the course is a _short_ introduction to `Python` to help beginners to get familiar with this `programming language`.\n",
    "\n",
    "It is divided into the following chapters:\n",
    "\n",
    "- [Module](#Module)\n",
    "- [Help and Descriptions](#Help-and-Descriptions)\n",
    "- [Variables and types](#Variables-and-types)\n",
    "    - [Symbol names](#Symbol-names)\n",
    "    - [Assignment](#Assignment)\n",
    "    - [Fundamental types](#Fundamental-types)\n",
    "- [Operators and comparisons](#Operators-and-comparisons)\n",
    "    - [Shortcut math operation and assignment](#Shortcut-math-operation-and-assignment)\n",
    "- [Strings, List and dictionaries](#Strings,-List-and-dictionaries)\n",
    "    - [Strings](#Strings)\n",
    "    - [List](#List)\n",
    "    - [Tuples](#Tuples)\n",
    "    - [Dictionaries](#Dictionaries)\n",
    "- [Indentation](#Indentation)\n",
    "- [Control Flow](#Control-Flow)\n",
    "    - [Conditional statements: `if`, `elif`, `else`](#Conditional-statements:-if,-elif,-else)\n",
    "- [Loops](#Loops)\n",
    "    - [`for` loops](#for-loops)\n",
    "    - [`break`, `continue` and `pass`](#break,-continue-and-pass)\n",
    "- [Functions](#Functions)\n",
    "    - [Default argument and keyword arguments](#Default-argument-and-keyword-arguments)\n",
    "    - [`*args` and `*kwargs` parameters](#*args-and-*kwargs-parameters)\n",
    "    - [Unnamed functions: `lambda` function](#Unnamed-functions:-lambda-function)\n",
    "- [Classes](#Classes)\n",
    "- [Modules](#Modules)\n",
    "- [Exceptions](#Exceptions)"
   ]
  },
  {
   "cell_type": "markdown",
   "id": "636292c6",
   "metadata": {
    "slideshow": {
     "slide_type": "slide"
    }
   },
   "source": [
    "## Modules\n",
    "\n",
    "Most of the functionality in `Python` is provided by *modules*. To use a module in a Python program it first has to be imported. A module can be imported using the `import` statement. \n",
    "\n",
    "\n",
    "<center><img src=\"https://raw.githubusercontent.com/PeerHerholz/Python_for_Psychologists_Winter2021/master/lecture/static/python_import.png\"></center>"
   ]
  },
  {
   "cell_type": "markdown",
   "id": "d91c92ee",
   "metadata": {
    "slideshow": {
     "slide_type": "subslide"
    }
   },
   "source": [
    "For example, to import the module `math`, which contains many standard mathematical functions, we can do:"
   ]
  },
  {
   "cell_type": "code",
   "execution_count": 1,
   "id": "c21c1356",
   "metadata": {
    "slideshow": {
     "slide_type": "fragment"
    }
   },
   "outputs": [],
   "source": [
    "import math"
   ]
  },
  {
   "cell_type": "markdown",
   "id": "c026c4af",
   "metadata": {
    "slideshow": {
     "slide_type": "fragment"
    }
   },
   "source": [
    "This includes the whole module and makes it available for use later in the program. For example, we can do:"
   ]
  },
  {
   "cell_type": "code",
   "execution_count": 2,
   "id": "5c6c39c6",
   "metadata": {
    "slideshow": {
     "slide_type": "fragment"
    }
   },
   "outputs": [
    {
     "name": "stdout",
     "output_type": "stream",
     "text": [
      "1.0\n"
     ]
    }
   ],
   "source": [
    "import math\n",
    "\n",
    "x = math.cos(2 * math.pi)\n",
    "\n",
    "print(x)"
   ]
  },
  {
   "cell_type": "markdown",
   "id": "1e9f0da1",
   "metadata": {
    "slideshow": {
     "slide_type": "subslide"
    }
   },
   "source": [
    "Importing the whole module us often times unnecessary and can lead to longer loading time or increase the memory consumption. An alternative to the previous method, we can also choose to import only a few selected functions from a module by explicitly listing which ones we want to import:"
   ]
  },
  {
   "cell_type": "code",
   "execution_count": 3,
   "id": "e0f7bf9c",
   "metadata": {
    "slideshow": {
     "slide_type": "fragment"
    }
   },
   "outputs": [
    {
     "name": "stdout",
     "output_type": "stream",
     "text": [
      "1.0\n"
     ]
    }
   ],
   "source": [
    "from math import cos, pi\n",
    "\n",
    "x = cos(2 * pi)\n",
    "\n",
    "print(x)"
   ]
  },
  {
   "cell_type": "markdown",
   "id": "799597f8",
   "metadata": {
    "slideshow": {
     "slide_type": "subslide"
    }
   },
   "source": [
    "You can make use of `tab` again to get a list of `functions`/`classes`/etc. for a given `module`. Try it out via navigating the cursor behind the `import statement` and press `tab`:"
   ]
  },
  {
   "cell_type": "code",
   "execution_count": 4,
   "id": "a7789198",
   "metadata": {},
   "outputs": [
    {
     "ename": "SyntaxError",
     "evalue": "invalid syntax (<ipython-input-4-b02e6e6c7025>, line 1)",
     "output_type": "error",
     "traceback": [
      "\u001b[0;36m  File \u001b[0;32m\"<ipython-input-4-b02e6e6c7025>\"\u001b[0;36m, line \u001b[0;32m1\u001b[0m\n\u001b[0;31m    from math import\u001b[0m\n\u001b[0m                     ^\u001b[0m\n\u001b[0;31mSyntaxError\u001b[0m\u001b[0;31m:\u001b[0m invalid syntax\n"
     ]
    }
   ],
   "source": [
    "from math import "
   ]
  },
  {
   "cell_type": "markdown",
   "id": "3d19f540",
   "metadata": {
    "slideshow": {
     "slide_type": "fragment"
    }
   },
   "source": [
    "Comparably you can also use the `help` function to find out more about a given `module`:"
   ]
  },
  {
   "cell_type": "code",
   "execution_count": null,
   "id": "05e974ed",
   "metadata": {},
   "outputs": [],
   "source": [
    "import math\n",
    "help(math)"
   ]
  },
  {
   "cell_type": "markdown",
   "id": "ce487d2a",
   "metadata": {
    "slideshow": {
     "slide_type": "subslide"
    }
   },
   "source": [
    "It is also possible to give an imported module or symbol your own access name with the `as` additional:"
   ]
  },
  {
   "cell_type": "code",
   "execution_count": 6,
   "id": "1c947cdc",
   "metadata": {
    "slideshow": {
     "slide_type": "fragment"
    }
   },
   "outputs": [
    {
     "name": "stdout",
     "output_type": "stream",
     "text": [
      "180.0\n"
     ]
    }
   ],
   "source": [
    "import numpy as np\n",
    "from math import pi as number_pi\n",
    "\n",
    "x  = np.rad2deg(number_pi)\n",
    "\n",
    "print(x)"
   ]
  },
  {
   "cell_type": "markdown",
   "id": "f838291c",
   "metadata": {
    "slideshow": {
     "slide_type": "fragment"
    }
   },
   "source": [
    "You can basically provide any name (given it's following `python`/`coding` conventions) but focusing on intelligibility won't be the worst idea: "
   ]
  },
  {
   "cell_type": "code",
   "execution_count": 7,
   "id": "1ec758cb",
   "metadata": {
    "slideshow": {
     "slide_type": "fragment"
    }
   },
   "outputs": [],
   "source": [
    "import matplotlib as pineapple"
   ]
  },
  {
   "cell_type": "code",
   "execution_count": null,
   "id": "01f59ca4",
   "metadata": {
    "slideshow": {
     "slide_type": "fragment"
    }
   },
   "outputs": [],
   "source": [
    "pineapple."
   ]
  },
  {
   "cell_type": "markdown",
   "id": "0d99c2b2",
   "metadata": {
    "slideshow": {
     "slide_type": "skip"
    }
   },
   "source": [
    "##### Exercise 1.1\n",
    "\n",
    "Import the `max` from `numpy` and find out what it does."
   ]
  },
  {
   "cell_type": "code",
   "execution_count": 9,
   "id": "b403f139",
   "metadata": {
    "solution2": "hidden",
    "solution2_first": true
   },
   "outputs": [],
   "source": [
    "# write your solution in this code cell"
   ]
  },
  {
   "cell_type": "code",
   "execution_count": null,
   "id": "40decab7",
   "metadata": {
    "solution2": "hidden"
   },
   "outputs": [],
   "source": [
    "from numpy import max\n",
    "help(max)"
   ]
  },
  {
   "cell_type": "markdown",
   "id": "30d6d520",
   "metadata": {
    "slideshow": {
     "slide_type": "skip"
    }
   },
   "source": [
    "##### Exercise 1.2\n",
    "\n",
    "Import the `scipy` package and assign the access name `middle_earth` and check its `functions`."
   ]
  },
  {
   "cell_type": "code",
   "execution_count": 11,
   "id": "2ca7e8af",
   "metadata": {
    "solution2": "hidden",
    "solution2_first": true
   },
   "outputs": [],
   "source": [
    "# write your solution in this code cell"
   ]
  },
  {
   "cell_type": "code",
   "execution_count": 12,
   "id": "998b7a09",
   "metadata": {
    "solution2": "hidden"
   },
   "outputs": [],
   "source": [
    "import scipy as middle_earth"
   ]
  },
  {
   "cell_type": "code",
   "execution_count": null,
   "id": "bd8f1b81",
   "metadata": {
    "solution2": "hidden"
   },
   "outputs": [],
   "source": [
    "help(middle_earth)"
   ]
  },
  {
   "cell_type": "markdown",
   "id": "51f3daf0",
   "metadata": {
    "slideshow": {
     "slide_type": "skip"
    },
    "solution2": "hidden",
    "solution2_first": true
   },
   "source": [
    "##### Exercise 1.3\n",
    "\n",
    "What happens when we try to import a `module` that is either misspelled or doesn't exist in our `environment` or at all?\n",
    "\n",
    "1. `python` provides us a hint that the `module` name might be misspelled\n",
    "2. we'll get an `error` telling us that the `module` doesn't exist\n",
    "3. `python` automatically searches for the `module` and if it exists downloads/installs it"
   ]
  },
  {
   "cell_type": "code",
   "execution_count": null,
   "id": "97b2d62d",
   "metadata": {
    "solution2": "hidden"
   },
   "outputs": [],
   "source": [
    "import welovethistutorial"
   ]
  },
  {
   "cell_type": "markdown",
   "id": "94443523",
   "metadata": {
    "slideshow": {
     "slide_type": "subslide"
    }
   },
   "source": [
    "## Namespaces and imports\n",
    "* Python is **very** serious about maintaining orderly `namespaces`\n",
    "* If you want to use some code outside the current scope, you need to explicitly \"`import`\" it\n",
    "* Python's import system often annoys beginners, but it substantially increases `code` clarity\n",
    "    * Almost completely eliminates naming conflicts and confusion"
   ]
  },
  {
   "cell_type": "markdown",
   "id": "744d966e",
   "metadata": {
    "slideshow": {
     "slide_type": "slide"
    }
   },
   "source": [
    "## Help and Descriptions\n",
    "\n",
    "Using the function `help` we can get a description of almost all functions. "
   ]
  },
  {
   "cell_type": "code",
   "execution_count": 13,
   "id": "7dfdf3ee",
   "metadata": {
    "slideshow": {
     "slide_type": "fragment"
    }
   },
   "outputs": [
    {
     "name": "stdout",
     "output_type": "stream",
     "text": [
      "Help on built-in function log in module math:\n",
      "\n",
      "log(...)\n",
      "    log(x[, base])\n",
      "    \n",
      "    Return the logarithm of x to the given base.\n",
      "    If the base not specified, returns the natural logarithm (base e) of x.\n",
      "\n"
     ]
    }
   ],
   "source": [
    "help(math.log)"
   ]
  },
  {
   "cell_type": "code",
   "execution_count": 14,
   "id": "c19cd6f2",
   "metadata": {
    "slideshow": {
     "slide_type": "fragment"
    }
   },
   "outputs": [
    {
     "data": {
      "text/plain": [
       "2.302585092994046"
      ]
     },
     "execution_count": 14,
     "metadata": {},
     "output_type": "execute_result"
    }
   ],
   "source": [
    "math.log(10)"
   ]
  },
  {
   "cell_type": "code",
   "execution_count": 15,
   "id": "fd5d6cff",
   "metadata": {
    "slideshow": {
     "slide_type": "fragment"
    }
   },
   "outputs": [
    {
     "data": {
      "text/plain": [
       "3.3219280948873626"
      ]
     },
     "execution_count": 15,
     "metadata": {},
     "output_type": "execute_result"
    }
   ],
   "source": [
    "math.log(10, 2)"
   ]
  },
  {
   "cell_type": "markdown",
   "id": "1b714bc0",
   "metadata": {
    "slideshow": {
     "slide_type": "slide"
    }
   },
   "source": [
    "## Variables and data types\n",
    "* in programming `variables` are things that store `values`\n",
    "* in `Python`, we declare a `variable` by **assigning** it a `value` with the `=` sign\n",
    "    * `name = value`\n",
    "    * code `variables` **!=** math variables\n",
    "        * in mathematics `=` refers to equality (statement of truth), e.g. `y = 10x + 2`\n",
    "        * in coding `=` refers to assignments, e.g. `x = x + 1`\n",
    "    * Variables are pointers, not data stores!\n",
    "    \n",
    "<center><img src=\"https://raw.githubusercontent.com/PeerHerholz/Python_for_Psychologists_Winter2021/master/lecture/static/python_data_types.png\"></center>"
   ]
  },
  {
   "cell_type": "markdown",
   "id": "f6e0fdff",
   "metadata": {
    "slideshow": {
     "slide_type": "subslide"
    }
   },
   "source": [
    "* `Python` supports a variety of `data types` and `structures`:\n",
    "    * `booleans`\n",
    "    * `numbers` (`ints`, `floats`, etc.)\n",
    "    * `strings`\n",
    "    * `lists`\n",
    "    * `dictionaries`\n",
    "    * many others!\n",
    "* We don't specify a variable's type at assignment"
   ]
  },
  {
   "cell_type": "markdown",
   "id": "a339dfcb",
   "metadata": {
    "slideshow": {
     "slide_type": "slide"
    }
   },
   "source": [
    "## Variables and types\n",
    "\n",
    "\n",
    "### Symbol names \n",
    "\n",
    "Variable names in Python can contain alphanumerical characters `a-z`, `A-Z`, `0-9` and some special characters such as `_`. Normal variable names must start with a letter. \n",
    "\n",
    "By convention, variable names start with a lower-case letter, and Class names start with a capital letter. \n",
    "\n",
    "In addition, there are a number of Python keywords that cannot be used as variable names. These keywords are:\n",
    "\n",
    "    and, as, assert, break, class, continue, def, del, elif, else, except, exec, finally, for, from, global, if, import, in, is, lambda, not, or, pass, print, raise, return, try, while, with, yield"
   ]
  },
  {
   "cell_type": "markdown",
   "id": "a01bd001",
   "metadata": {
    "slideshow": {
     "slide_type": "subslide"
    }
   },
   "source": [
    "### Assignment\n",
    "\n",
    "The assignment operator in `Python` is `=`. `Python` is a `dynamically typed language`, so we do not need to specify the type of a `variable` when we create one.\n",
    "\n",
    "`Assigning` a `value` to a new `variable` _creates_ the `variable`:"
   ]
  },
  {
   "cell_type": "code",
   "execution_count": 16,
   "id": "63287972",
   "metadata": {
    "slideshow": {
     "slide_type": "fragment"
    }
   },
   "outputs": [],
   "source": [
    "x = 1.0"
   ]
  },
  {
   "cell_type": "markdown",
   "id": "5a6cdc7c",
   "metadata": {
    "slideshow": {
     "slide_type": "subslide"
    }
   },
   "source": [
    "Again, this does not mean that `x` equals `1` but that the `variable` `x` has the `value` `1`. Thus, our `variable` `x` is _stored_ in the respective `namespace`:"
   ]
  },
  {
   "cell_type": "code",
   "execution_count": 17,
   "id": "b252933a",
   "metadata": {},
   "outputs": [
    {
     "data": {
      "text/plain": [
       "1.0"
      ]
     },
     "execution_count": 17,
     "metadata": {},
     "output_type": "execute_result"
    }
   ],
   "source": [
    "x"
   ]
  },
  {
   "cell_type": "markdown",
   "id": "c4ff8e83",
   "metadata": {
    "slideshow": {
     "slide_type": "fragment"
    }
   },
   "source": [
    "This means that we can directly utilize the `value` of our `variable`: "
   ]
  },
  {
   "cell_type": "code",
   "execution_count": 18,
   "id": "e8b65473",
   "metadata": {},
   "outputs": [
    {
     "data": {
      "text/plain": [
       "4.0"
      ]
     },
     "execution_count": 18,
     "metadata": {},
     "output_type": "execute_result"
    }
   ],
   "source": [
    "x + 3"
   ]
  },
  {
   "cell_type": "markdown",
   "id": "a9061dbe",
   "metadata": {
    "slideshow": {
     "slide_type": "subslide"
    }
   },
   "source": [
    "Although not explicitly specified, a `variable` does have a `type` associated with it. The `type` is _derived_ from the `value` it was `assigned`."
   ]
  },
  {
   "cell_type": "code",
   "execution_count": 19,
   "id": "d7d052fc",
   "metadata": {
    "slideshow": {
     "slide_type": "fragment"
    }
   },
   "outputs": [
    {
     "data": {
      "text/plain": [
       "float"
      ]
     },
     "execution_count": 19,
     "metadata": {},
     "output_type": "execute_result"
    }
   ],
   "source": [
    "type(x)"
   ]
  },
  {
   "cell_type": "markdown",
   "id": "59909176",
   "metadata": {
    "slideshow": {
     "slide_type": "subslide"
    }
   },
   "source": [
    "If we `assign` a new `value` to a `variable`, its `type` can change."
   ]
  },
  {
   "cell_type": "code",
   "execution_count": 20,
   "id": "1ad016e7",
   "metadata": {
    "slideshow": {
     "slide_type": "fragment"
    }
   },
   "outputs": [],
   "source": [
    "x = 1"
   ]
  },
  {
   "cell_type": "code",
   "execution_count": 21,
   "id": "63d1d41a",
   "metadata": {
    "slideshow": {
     "slide_type": "fragment"
    }
   },
   "outputs": [
    {
     "data": {
      "text/plain": [
       "int"
      ]
     },
     "execution_count": 21,
     "metadata": {},
     "output_type": "execute_result"
    }
   ],
   "source": [
    "type(x)"
   ]
  },
  {
   "cell_type": "markdown",
   "id": "592c4ad5",
   "metadata": {
    "slideshow": {
     "slide_type": "subslide"
    }
   },
   "source": [
    "This outline one further _very important_ characteristic of `python` (and many other programming languages): `variables` can be directly overwritten by `assigning` them a new `value`. We don't get an error like \"This `namespace` is already taken.\" Thus, always remember/keep track of what `namespaces` were already used to avoid unintentional deletions/errors (reproducibility/replicability much?). "
   ]
  },
  {
   "cell_type": "code",
   "execution_count": 22,
   "id": "9828fa0d",
   "metadata": {
    "slideshow": {
     "slide_type": "fragment"
    }
   },
   "outputs": [
    {
     "data": {
      "text/plain": [
       "'Bilbo'"
      ]
     },
     "execution_count": 22,
     "metadata": {},
     "output_type": "execute_result"
    }
   ],
   "source": [
    "ring_bearer = 'Bilbo'\n",
    "ring_bearer"
   ]
  },
  {
   "cell_type": "code",
   "execution_count": 23,
   "id": "1343582e",
   "metadata": {
    "slideshow": {
     "slide_type": "fragment"
    }
   },
   "outputs": [
    {
     "data": {
      "text/plain": [
       "'Frodo'"
      ]
     },
     "execution_count": 23,
     "metadata": {},
     "output_type": "execute_result"
    }
   ],
   "source": [
    "ring_bearer = 'Frodo'\n",
    "ring_bearer"
   ]
  },
  {
   "cell_type": "markdown",
   "id": "8921663c",
   "metadata": {
    "slideshow": {
     "slide_type": "subslide"
    }
   },
   "source": [
    "If we try to use a variable that has not yet been defined we get an `NameError` (Note for later sessions, that we will use in the notebooks `try/except` blocks to handle the exception, so the notebook doesn't stop. The code below will try to execute `print` function and if the `NameError` occurs the error message will be printed. Otherwise, an error will be raised. You will learn more about exception handling later.):"
   ]
  },
  {
   "cell_type": "code",
   "execution_count": 24,
   "id": "6a0fc64c",
   "metadata": {
    "slideshow": {
     "slide_type": "fragment"
    }
   },
   "outputs": [
    {
     "name": "stdout",
     "output_type": "stream",
     "text": [
      "NameError name 'Peer' is not defined\n"
     ]
    }
   ],
   "source": [
    "try:\n",
    "    print(Peer)\n",
    "except(NameError) as err:\n",
    "    print(\"NameError\", err)\n",
    "else:\n",
    "    raise"
   ]
  },
  {
   "cell_type": "markdown",
   "id": "79d2a27f",
   "metadata": {
    "slideshow": {
     "slide_type": "subslide"
    }
   },
   "source": [
    "Variable names:\n",
    "\n",
    "* Can include `letters` (A-Z), `digits` (0-9), and `underscores` ( _ )\n",
    "* Cannot start with a `digit`\n",
    "* Are **case sensitive** (questions: where did \"lower/upper case\" originate?)\n",
    "\n",
    "This means that, for example:\n",
    "\n",
    "* `shire0` is a valid variable name, whereas `0shire` is not\n",
    "* `shire` and `Shire` are different variables"
   ]
  },
  {
   "cell_type": "markdown",
   "id": "4b0e9e57",
   "metadata": {
    "slideshow": {
     "slide_type": "skip"
    }
   },
   "source": [
    "##### Exercise 2.1\n",
    "\n",
    "Create the following `variables` `n_elves`, `n_dwarfs`, `n_humans` with the respective values `3`, `7.0` and `nine`."
   ]
  },
  {
   "cell_type": "code",
   "execution_count": 26,
   "id": "5bf5e6d6",
   "metadata": {
    "solution2": "hidden",
    "solution2_first": true
   },
   "outputs": [],
   "source": [
    "# write your solution here"
   ]
  },
  {
   "cell_type": "code",
   "execution_count": 27,
   "id": "ae1bebc5",
   "metadata": {
    "solution2": "hidden"
   },
   "outputs": [],
   "source": [
    "n_elves = 3\n",
    "n_dwarfs = 7.0\n",
    "n_humans = \"nine\""
   ]
  },
  {
   "cell_type": "markdown",
   "id": "283d493a",
   "metadata": {
    "slideshow": {
     "slide_type": "skip"
    },
    "solution2": "hidden",
    "solution2_first": true
   },
   "source": [
    "##### Exercise 2.2\n",
    "\n",
    "What's the output of `n_elves + n_dwarfs`?\n",
    "\n",
    "1. `n_elves + n_dwarfs`\n",
    "2. 10\n",
    "3. 10.0"
   ]
  },
  {
   "cell_type": "code",
   "execution_count": 28,
   "id": "447d0fcf",
   "metadata": {
    "solution2": "hidden"
   },
   "outputs": [
    {
     "data": {
      "text/plain": [
       "10.0"
      ]
     },
     "execution_count": 28,
     "metadata": {},
     "output_type": "execute_result"
    }
   ],
   "source": [
    "n_elves + n_dwarfs"
   ]
  },
  {
   "cell_type": "markdown",
   "id": "7e72733b",
   "metadata": {
    "slideshow": {
     "slide_type": "skip"
    },
    "solution2": "hidden",
    "solution2_first": true
   },
   "source": [
    "##### Exercise 2.3\n",
    "\n",
    "Consider the following lines of code. \n",
    "\n",
    "`ring_bearer = 'Gollum'`  \n",
    "`ring_bearer`  \n",
    "`ring_bearer = 'Bilbo'`  \n",
    "`ring_bearer`  \n",
    "\n",
    "What is the final output?\n",
    "\n",
    "1. `'Bilbo'`\n",
    "2. `'Gollum'`\n",
    "3. neither, the variable got deleted"
   ]
  },
  {
   "cell_type": "code",
   "execution_count": 29,
   "id": "55b8b431",
   "metadata": {
    "solution2": "hidden"
   },
   "outputs": [
    {
     "data": {
      "text/plain": [
       "'Bilbo'"
      ]
     },
     "execution_count": 29,
     "metadata": {},
     "output_type": "execute_result"
    }
   ],
   "source": [
    "ring_bearer = 'Gollum'\n",
    "ring_bearer  \n",
    "ring_bearer = 'Bilbo'\n",
    "ring_bearer"
   ]
  },
  {
   "cell_type": "markdown",
   "id": "4a3ad59f",
   "metadata": {
    "slideshow": {
     "slide_type": "subslide"
    }
   },
   "source": [
    "### Fundamental types & data structures\n",
    "\n",
    "* Most code requires more _complex structures_ built out of _basic data `types`_\n",
    "* `data type` refers to the `value` that is `assigned` to a `variable` \n",
    "* `Python` provides built-in support for many common structures\n",
    "    * Many additional structures can be found in the [collections](https://docs.python.org/3/library/collections.html) module"
   ]
  },
  {
   "cell_type": "markdown",
   "id": "7eaf8cf9",
   "metadata": {
    "slideshow": {
     "slide_type": "subslide"
    }
   },
   "source": [
    "Most of the time you'll encounter the following `data types`\n",
    "\n",
    "* `integers` (e.g. `1`, `42`, `180`)\n",
    "* `floating-point numbers` (e.g. `1.0`, `42.42`, `180.90`)\n",
    "* `strings` (e.g. `\"Rivendell\"`, `\"Weathertop\"`)\n",
    "* `Boolean` (`True`, `False`)\n",
    "\n",
    "If you're unsure about the `data type` of a given `variable`, you can always use the `type()` command."
   ]
  },
  {
   "cell_type": "markdown",
   "id": "ca838245",
   "metadata": {
    "slideshow": {
     "slide_type": "subslide"
    }
   },
   "source": [
    "#### Integers\n",
    "\n",
    "Lets check out the different `data types` in more detail, starting with `integers`. `Intergers` are _natural numbers_ that can be _signed_ (e.g. `1`, `42`, `180`, `-1`, `-42`, `-180`)."
   ]
  },
  {
   "cell_type": "code",
   "execution_count": 30,
   "id": "4e95c4f9",
   "metadata": {
    "slideshow": {
     "slide_type": "fragment"
    }
   },
   "outputs": [
    {
     "data": {
      "text/plain": [
       "int"
      ]
     },
     "execution_count": 30,
     "metadata": {},
     "output_type": "execute_result"
    }
   ],
   "source": [
    "x = 1\n",
    "type(x)"
   ]
  },
  {
   "cell_type": "code",
   "execution_count": 31,
   "id": "81fe0158",
   "metadata": {
    "slideshow": {
     "slide_type": "fragment"
    }
   },
   "outputs": [
    {
     "data": {
      "text/plain": [
       "int"
      ]
     },
     "execution_count": 31,
     "metadata": {},
     "output_type": "execute_result"
    }
   ],
   "source": [
    "n_nazgul = 9\n",
    "type(n_nazgul)"
   ]
  },
  {
   "cell_type": "code",
   "execution_count": 32,
   "id": "9524efd3",
   "metadata": {
    "slideshow": {
     "slide_type": "fragment"
    }
   },
   "outputs": [
    {
     "data": {
      "text/plain": [
       "int"
      ]
     },
     "execution_count": 32,
     "metadata": {},
     "output_type": "execute_result"
    }
   ],
   "source": [
    "remaining_rings = -1\n",
    "type(remaining_rings)"
   ]
  },
  {
   "cell_type": "markdown",
   "id": "78d7f71d",
   "metadata": {
    "slideshow": {
     "slide_type": "subslide"
    }
   },
   "source": [
    "#### Floating-point numbers\n",
    "\n",
    "So what's the difference to `floating-point numbers`? `Floating-point numbers` are _decimal-point number_ that can be _signed_ (e.g. `1.0`, `42.42`, `180.90`, `-1.0`, `-42.42`, `-180.90`)."
   ]
  },
  {
   "cell_type": "code",
   "execution_count": 33,
   "id": "da8e5b72",
   "metadata": {
    "slideshow": {
     "slide_type": "fragment"
    }
   },
   "outputs": [
    {
     "data": {
      "text/plain": [
       "float"
      ]
     },
     "execution_count": 33,
     "metadata": {},
     "output_type": "execute_result"
    }
   ],
   "source": [
    "x_float = 1.0\n",
    "type(x_float)"
   ]
  },
  {
   "cell_type": "code",
   "execution_count": 34,
   "id": "52e8147a",
   "metadata": {
    "slideshow": {
     "slide_type": "fragment"
    }
   },
   "outputs": [
    {
     "data": {
      "text/plain": [
       "float"
      ]
     },
     "execution_count": 34,
     "metadata": {},
     "output_type": "execute_result"
    }
   ],
   "source": [
    "n_nazgul_float = 9.0\n",
    "type(n_nazgul_float)"
   ]
  },
  {
   "cell_type": "code",
   "execution_count": 35,
   "id": "433042ec",
   "metadata": {
    "slideshow": {
     "slide_type": "fragment"
    }
   },
   "outputs": [
    {
     "data": {
      "text/plain": [
       "float"
      ]
     },
     "execution_count": 35,
     "metadata": {},
     "output_type": "execute_result"
    }
   ],
   "source": [
    "remaining_rings_float = -1.0\n",
    "type(remaining_rings_float)"
   ]
  },
  {
   "cell_type": "markdown",
   "id": "55b1166c",
   "metadata": {
    "slideshow": {
     "slide_type": "subslide"
    }
   },
   "source": [
    "#### Strings\n",
    "\n",
    "Next up: `strings`. `Strings` are basically `text elements`, from `letters` to `words` to `sentences` all can be/are `strings` in `python`. In order to define a `string`, `Python` needs **quotation marks**, more precisely `strings` start and end with quotation marks, e.g. `\"Rivendell\"`. You can choose between `\"` and `'` as both will work (NB: `python` will put `'` around `strings` even if you specified `\"`). However, it is recommended to decide on one and be consistent."
   ]
  },
  {
   "cell_type": "code",
   "execution_count": 36,
   "id": "21f2f96d",
   "metadata": {
    "slideshow": {
     "slide_type": "fragment"
    }
   },
   "outputs": [
    {
     "data": {
      "text/plain": [
       "str"
      ]
     },
     "execution_count": 36,
     "metadata": {},
     "output_type": "execute_result"
    }
   ],
   "source": [
    "location = \"Weathertop\"\n",
    "type(location)"
   ]
  },
  {
   "cell_type": "code",
   "execution_count": 37,
   "id": "b3918072",
   "metadata": {
    "slideshow": {
     "slide_type": "fragment"
    }
   },
   "outputs": [
    {
     "data": {
      "text/plain": [
       "str"
      ]
     },
     "execution_count": 37,
     "metadata": {},
     "output_type": "execute_result"
    }
   ],
   "source": [
    "abbreviation = 'LOTR'\n",
    "type(abbreviation)"
   ]
  },
  {
   "cell_type": "code",
   "execution_count": 38,
   "id": "6c8793ab",
   "metadata": {
    "slideshow": {
     "slide_type": "fragment"
    }
   },
   "outputs": [
    {
     "data": {
      "text/plain": [
       "str"
      ]
     },
     "execution_count": 38,
     "metadata": {},
     "output_type": "execute_result"
    }
   ],
   "source": [
    "book_one = \"The fellowship of the ring\"\n",
    "type(book_one)"
   ]
  },
  {
   "cell_type": "markdown",
   "id": "4258df08",
   "metadata": {
    "slideshow": {
     "slide_type": "subslide"
    }
   },
   "source": [
    "#### Booleans\n",
    "\n",
    "How about some `Boolean`s? At this point it gets a bit more \"abstract\". While there are many possible `numbers` and `strings`, a Boolean can only have one of two `values`: `True` or `False`. That is, a `Boolean` says something about whether something _is the case or not_. It's easier to understand with some examples. First try the `type()` function with a `Boolean` as an argument. "
   ]
  },
  {
   "cell_type": "code",
   "execution_count": 39,
   "id": "c11140e5",
   "metadata": {
    "slideshow": {
     "slide_type": "fragment"
    }
   },
   "outputs": [
    {
     "data": {
      "text/plain": [
       "bool"
      ]
     },
     "execution_count": 39,
     "metadata": {},
     "output_type": "execute_result"
    }
   ],
   "source": [
    "b1 = True\n",
    "type(b1)"
   ]
  },
  {
   "cell_type": "code",
   "execution_count": 40,
   "id": "54ebd587",
   "metadata": {
    "slideshow": {
     "slide_type": "fragment"
    }
   },
   "outputs": [
    {
     "data": {
      "text/plain": [
       "bool"
      ]
     },
     "execution_count": 40,
     "metadata": {},
     "output_type": "execute_result"
    }
   ],
   "source": [
    "b2 = False\n",
    "type(b2)"
   ]
  },
  {
   "cell_type": "code",
   "execution_count": 41,
   "id": "4a2e655b",
   "metadata": {
    "slideshow": {
     "slide_type": "fragment"
    }
   },
   "outputs": [
    {
     "data": {
      "text/plain": [
       "bool"
      ]
     },
     "execution_count": 41,
     "metadata": {},
     "output_type": "execute_result"
    }
   ],
   "source": [
    "lotr_is_awesome = True\n",
    "type(lotr_is_awesome)"
   ]
  },
  {
   "cell_type": "markdown",
   "id": "f112e8a1",
   "metadata": {
    "slideshow": {
     "slide_type": "subslide"
    }
   },
   "source": [
    "Interestingly, `True` and `False` also have `numeric values`! `True` has a value of `1` and `False` has a value of `0`. "
   ]
  },
  {
   "cell_type": "code",
   "execution_count": 42,
   "id": "b6be4cdd",
   "metadata": {
    "slideshow": {
     "slide_type": "fragment"
    }
   },
   "outputs": [
    {
     "data": {
      "text/plain": [
       "2"
      ]
     },
     "execution_count": 42,
     "metadata": {},
     "output_type": "execute_result"
    }
   ],
   "source": [
    "True + True"
   ]
  },
  {
   "cell_type": "code",
   "execution_count": 43,
   "id": "a71d5ef9",
   "metadata": {
    "slideshow": {
     "slide_type": "fragment"
    }
   },
   "outputs": [
    {
     "data": {
      "text/plain": [
       "0"
      ]
     },
     "execution_count": 43,
     "metadata": {},
     "output_type": "execute_result"
    }
   ],
   "source": [
    "False + False"
   ]
  },
  {
   "cell_type": "markdown",
   "id": "4fd94e2b",
   "metadata": {
    "slideshow": {
     "slide_type": "subslide"
    }
   },
   "source": [
    "#### Converting data types\n",
    "\n",
    "As mentioned before the `data type` is not set when `assigning` a `value` to a `variable` but determined based on its properties. Additionally, the `data type` of a given `value` can also be changed via set of functions.\n",
    "\n",
    "- `int()` -> convert the `value` of a `variable` to an `integer`\n",
    "- `float()` -> convert the `value` of a `variable` to a `floating-point number`\n",
    "- `str()` -> convert the `value` of a `variable` to a `string`\n",
    "- `bool()` -> convert the `value` of a `variable` to a `Boolean`  "
   ]
  },
  {
   "cell_type": "code",
   "execution_count": 44,
   "id": "64f6cf9c",
   "metadata": {
    "slideshow": {
     "slide_type": "fragment"
    }
   },
   "outputs": [
    {
     "data": {
      "text/plain": [
       "4"
      ]
     },
     "execution_count": 44,
     "metadata": {},
     "output_type": "execute_result"
    }
   ],
   "source": [
    "int(\"4\")"
   ]
  },
  {
   "cell_type": "code",
   "execution_count": 45,
   "id": "5277c2e3",
   "metadata": {
    "slideshow": {
     "slide_type": "fragment"
    }
   },
   "outputs": [
    {
     "data": {
      "text/plain": [
       "3.0"
      ]
     },
     "execution_count": 45,
     "metadata": {},
     "output_type": "execute_result"
    }
   ],
   "source": [
    "float(3)"
   ]
  },
  {
   "cell_type": "code",
   "execution_count": 46,
   "id": "424963dc",
   "metadata": {
    "slideshow": {
     "slide_type": "fragment"
    }
   },
   "outputs": [
    {
     "data": {
      "text/plain": [
       "'2'"
      ]
     },
     "execution_count": 46,
     "metadata": {},
     "output_type": "execute_result"
    }
   ],
   "source": [
    "str(2)"
   ]
  },
  {
   "cell_type": "code",
   "execution_count": 47,
   "id": "8a266352",
   "metadata": {
    "slideshow": {
     "slide_type": "fragment"
    }
   },
   "outputs": [
    {
     "data": {
      "text/plain": [
       "True"
      ]
     },
     "execution_count": 47,
     "metadata": {},
     "output_type": "execute_result"
    }
   ],
   "source": [
    "bool(1)"
   ]
  },
  {
   "cell_type": "markdown",
   "id": "efd39061",
   "metadata": {
    "slideshow": {
     "slide_type": "skip"
    }
   },
   "source": [
    "##### Exercise 3.1\n",
    "\n",
    "Define the following `variables` with the respective `values` and `data types`: `fellowship_n_humans` with a `value` of two as a `float`, `fellowship_n_hobbits` with a `value` of four as a `string` and `fellowship_n_elves` with a value of one as an `integer`. "
   ]
  },
  {
   "cell_type": "code",
   "execution_count": 48,
   "id": "2cf9edcd",
   "metadata": {
    "solution2": "hidden",
    "solution2_first": true
   },
   "outputs": [],
   "source": [
    "# write your solution here"
   ]
  },
  {
   "cell_type": "code",
   "execution_count": 18,
   "id": "56411fa5",
   "metadata": {
    "solution2": "hidden"
   },
   "outputs": [],
   "source": [
    "fellowship_n_humans = 2.0\n",
    "fellowship_n_hobbits = 'four'\n",
    "fellowship_n_elves = 1"
   ]
  },
  {
   "cell_type": "markdown",
   "id": "fada0c67",
   "metadata": {
    "slideshow": {
     "slide_type": "skip"
    },
    "solution2": "hidden",
    "solution2_first": true
   },
   "source": [
    "##### Exercise 3.2\n",
    "\n",
    "What outcome would you expect based on the following lines of code?\n",
    "\n",
    "1. `True - False`\n",
    "2. `type(True)`"
   ]
  },
  {
   "cell_type": "markdown",
   "id": "cdf33756",
   "metadata": {
    "solution2": "hidden"
   },
   "source": [
    "1. `1`\n",
    "2. `bool`"
   ]
  },
  {
   "cell_type": "markdown",
   "id": "86ab0573",
   "metadata": {
    "slideshow": {
     "slide_type": "skip"
    },
    "solution2": "hidden",
    "solution2_first": true
   },
   "source": [
    "##### Exercise 3.3\n",
    "\n",
    "Define two `variables`, `fellowship_n_dwarfs` with a `value` of one as a `string` and `fellowship_n_wizards` with a `value` of one as a `float`. Subsequently, change the `data type` of `fellowship_n_dwarfs` to `integer` and the `data type` of `fellowship_n_wizard` to `string`.    "
   ]
  },
  {
   "cell_type": "code",
   "execution_count": 19,
   "id": "9752e2f9",
   "metadata": {
    "solution2": "hidden"
   },
   "outputs": [],
   "source": [
    "fellowship_n_dwarfs = 1.0\n",
    "fellowship_n_wizards = '1.0'"
   ]
  },
  {
   "cell_type": "code",
   "execution_count": 20,
   "id": "abc29965",
   "metadata": {
    "solution2": "hidden"
   },
   "outputs": [
    {
     "data": {
      "text/plain": [
       "1"
      ]
     },
     "execution_count": 20,
     "metadata": {},
     "output_type": "execute_result"
    }
   ],
   "source": [
    "int(fellowship_n_dwarfs)"
   ]
  },
  {
   "cell_type": "code",
   "execution_count": 21,
   "id": "4cb6568a",
   "metadata": {
    "solution2": "hidden"
   },
   "outputs": [
    {
     "data": {
      "text/plain": [
       "'1.0'"
      ]
     },
     "execution_count": 21,
     "metadata": {},
     "output_type": "execute_result"
    }
   ],
   "source": [
    "str(fellowship_n_wizards)"
   ]
  },
  {
   "cell_type": "markdown",
   "id": "d28373ff",
   "metadata": {
    "slideshow": {
     "slide_type": "slide"
    }
   },
   "source": [
    "## Strings, List and dictionaries\n",
    "\n",
    "So far, we've explored `integers`, `float`, `strings` and `boolean` as `fundamental types`. However, there are a few more that are equally important within the `python` programing language and allow you to easily achieve complex behavoir and ease up your everyday programming life: `strings`, `lists`, `tuples` and `dictionaries`.\n",
    "\n",
    "</br>\n",
    "<center><img src=\"https://raw.githubusercontent.com/PeerHerholz/Python_for_Psychologists_Winter2021/master/lecture/static/python_data_types_2.png\"></center>"
   ]
  },
  {
   "cell_type": "markdown",
   "id": "c36e3d90",
   "metadata": {
    "slideshow": {
     "slide_type": "subslide"
    }
   },
   "source": [
    "### Strings\n",
    "\n",
    "Wait, what? Why are we talking about strings again? Well, actually, `strings` are more than a \"just\" fundamental type. There are quite a few things you can do with `strings` that we haven't talked about yet. However, first things first: `strings` contain text:\n"
   ]
  },
  {
   "cell_type": "code",
   "execution_count": 49,
   "id": "54e92fcb",
   "metadata": {
    "slideshow": {
     "slide_type": "fragment"
    }
   },
   "outputs": [
    {
     "data": {
      "text/plain": [
       "'The wombat and the capybara are equally cute. However, while the wombat lives in Australia, the capybara can be found in south america.'"
      ]
     },
     "execution_count": 49,
     "metadata": {},
     "output_type": "execute_result"
    }
   ],
   "source": [
    "statement = \"The wombat and the capybara are equally cute. However, while the wombat lives in Australia, the capybara can be found in south america.\"\n",
    "statement"
   ]
  },
  {
   "cell_type": "code",
   "execution_count": 50,
   "id": "7684535b",
   "metadata": {
    "slideshow": {
     "slide_type": "fragment"
    }
   },
   "outputs": [
    {
     "data": {
      "text/plain": [
       "str"
      ]
     },
     "execution_count": 50,
     "metadata": {},
     "output_type": "execute_result"
    }
   ],
   "source": [
    "type(statement)"
   ]
  },
  {
   "cell_type": "markdown",
   "id": "c741a659",
   "metadata": {
    "slideshow": {
     "slide_type": "subslide"
    }
   },
   "source": [
    "So, what else can we do? For example, we can get the `length` of the `string` which reflects the number of `characters` in the `string`. The respective `len` function is one of the `python functions` that's always available to you, even without `importing` it. Notably, `len` can `operate` on various `data types` which we will explore later."
   ]
  },
  {
   "cell_type": "code",
   "execution_count": 51,
   "id": "d96210ac",
   "metadata": {
    "slideshow": {
     "slide_type": "-"
    }
   },
   "outputs": [
    {
     "data": {
      "text/plain": [
       "135"
      ]
     },
     "execution_count": 51,
     "metadata": {},
     "output_type": "execute_result"
    }
   ],
   "source": [
    "len(statement)"
   ]
  },
  {
   "cell_type": "markdown",
   "id": "923003cf",
   "metadata": {
    "slideshow": {
     "slide_type": "subslide"
    }
   },
   "source": [
    "The `string` `data types` also allows us to `replace` parts of it, i.e. `substrings`, with a different `string`. The respective syntax is `string.replace(\"substring_to_replace\", \"replacement_string\")`, that is, `.replace` searches for `\"substring_to_replace\"` and `replaces` it with `\"replacement_string\"`. If we for example want to state that `wombats` and `capybaras` are `awesome` instead of `cute`, we could do the following:"
   ]
  },
  {
   "cell_type": "code",
   "execution_count": 52,
   "id": "f77b7040",
   "metadata": {
    "slideshow": {
     "slide_type": "fragment"
    }
   },
   "outputs": [
    {
     "data": {
      "text/plain": [
       "'The wombat and the capybara are equally awesome. However, while the wombat lives in Australia, the capybara can be found in south america.'"
      ]
     },
     "execution_count": 52,
     "metadata": {},
     "output_type": "execute_result"
    }
   ],
   "source": [
    "statement.replace(\"cute\", \"awesome\")"
   ]
  },
  {
   "cell_type": "markdown",
   "id": "1f880c50",
   "metadata": {
    "slideshow": {
     "slide_type": "subslide"
    }
   },
   "source": [
    "Importantly, `strings` are not `replaced` in-place but require a new `variable assignment`."
   ]
  },
  {
   "cell_type": "code",
   "execution_count": 53,
   "id": "e365588c",
   "metadata": {
    "slideshow": {
     "slide_type": "fragment"
    }
   },
   "outputs": [
    {
     "data": {
      "text/plain": [
       "'The wombat and the capybara are equally cute. However, while the wombat lives in Australia, the capybara can be found in south america.'"
      ]
     },
     "execution_count": 53,
     "metadata": {},
     "output_type": "execute_result"
    }
   ],
   "source": [
    "statement"
   ]
  },
  {
   "cell_type": "code",
   "execution_count": 54,
   "id": "d37f0706",
   "metadata": {
    "slideshow": {
     "slide_type": "fragment"
    }
   },
   "outputs": [
    {
     "data": {
      "text/plain": [
       "'The wombat and the capybara are equally awesome. However, while the wombat lives in Australia, the capybara can be found in south america.'"
      ]
     },
     "execution_count": 54,
     "metadata": {},
     "output_type": "execute_result"
    }
   ],
   "source": [
    "statement_2 = statement.replace(\"cute\", \"awesome\")\n",
    "statement_2"
   ]
  },
  {
   "cell_type": "markdown",
   "id": "6ad9bf96",
   "metadata": {
    "slideshow": {
     "slide_type": "subslide"
    }
   },
   "source": [
    "We can also `index` a `string` using `string[x]` to get the `character` at the specified `index`:"
   ]
  },
  {
   "cell_type": "code",
   "execution_count": 55,
   "id": "adef191b",
   "metadata": {
    "slideshow": {
     "slide_type": "fragment"
    }
   },
   "outputs": [
    {
     "data": {
      "text/plain": [
       "'The wombat and the capybara are equally awesome. However, while the wombat lives in Australia, the capybara can be found in south america.'"
      ]
     },
     "execution_count": 55,
     "metadata": {},
     "output_type": "execute_result"
    }
   ],
   "source": [
    "statement_2"
   ]
  },
  {
   "cell_type": "code",
   "execution_count": 56,
   "id": "39827d8c",
   "metadata": {
    "slideshow": {
     "slide_type": "fragment"
    }
   },
   "outputs": [
    {
     "data": {
      "text/plain": [
       "'h'"
      ]
     },
     "execution_count": 56,
     "metadata": {},
     "output_type": "execute_result"
    }
   ],
   "source": [
    "statement_2[1]"
   ]
  },
  {
   "cell_type": "markdown",
   "id": "71386a1c",
   "metadata": {
    "slideshow": {
     "slide_type": "fragment"
    }
   },
   "source": [
    "Pump the breaks right there: why do we get `h` when we specify `1` as `index`? Shouldn't this get us the `first index` and thus `T`? "
   ]
  },
  {
   "cell_type": "markdown",
   "id": "b99c9976",
   "metadata": {
    "slideshow": {
     "slide_type": "subslide"
    }
   },
   "source": [
    "<center><img src=\"https://media1.giphy.com/media/BXOEmFSzNkOObZhIA3/giphy.gif?cid=ecf05e47iuhbrrici7z2tn33dxeu0xxi96i19uk7qphiojb3&rid=giphy.gif&ct=g\" width=\"300\"></center>\n",
    "\n",
    "<center><a href=\"https://giphy.com/gifs/theoffice-the-office-tv-secret-santa-BXOEmFSzNkOObZhIA3\">via GIPHY</a></center>\n",
    "\n",
    "**HEADS UP EVERYONE: INDEXING IN `PYTHON` STARTS AT 0**\n",
    "\n",
    "</br>\n",
    "<center><img src=\"https://raw.githubusercontent.com/PeerHerholz/Python_for_Psychologists_Winter2021/master/lecture/static/index_string.png\"></center>\n",
    "\n",
    "This means that the `first index` is `0`, the `second index` `1`, the `third index` 2, etc. . This holds true independent of the `data type` and is one of the major confusions when folks start programming in `python`, so always watch out!"
   ]
  },
  {
   "cell_type": "code",
   "execution_count": 57,
   "id": "98d0912d",
   "metadata": {
    "slideshow": {
     "slide_type": "subslide"
    }
   },
   "outputs": [
    {
     "data": {
      "text/plain": [
       "'The wombat and the capybara are equally awesome. However, while the wombat lives in Australia, the capybara can be found in south america.'"
      ]
     },
     "execution_count": 57,
     "metadata": {},
     "output_type": "execute_result"
    }
   ],
   "source": [
    "statement_2"
   ]
  },
  {
   "cell_type": "code",
   "execution_count": 58,
   "id": "7c1c5fe8",
   "metadata": {
    "slideshow": {
     "slide_type": "fragment"
    }
   },
   "outputs": [
    {
     "data": {
      "text/plain": [
       "'T'"
      ]
     },
     "execution_count": 58,
     "metadata": {},
     "output_type": "execute_result"
    }
   ],
   "source": [
    "statement_2[0]"
   ]
  },
  {
   "cell_type": "code",
   "execution_count": 59,
   "id": "0f0a177a",
   "metadata": {
    "slideshow": {
     "slide_type": "fragment"
    }
   },
   "outputs": [
    {
     "data": {
      "text/plain": [
       "'h'"
      ]
     },
     "execution_count": 59,
     "metadata": {},
     "output_type": "execute_result"
    }
   ],
   "source": [
    "statement_2[1]"
   ]
  },
  {
   "cell_type": "code",
   "execution_count": 60,
   "id": "7309d42b",
   "metadata": {
    "slideshow": {
     "slide_type": "fragment"
    }
   },
   "outputs": [
    {
     "data": {
      "text/plain": [
       "'e'"
      ]
     },
     "execution_count": 60,
     "metadata": {},
     "output_type": "execute_result"
    }
   ],
   "source": [
    "statement_2[2]"
   ]
  },
  {
   "cell_type": "markdown",
   "id": "6c2e8064",
   "metadata": {
    "slideshow": {
     "slide_type": "subslide"
    }
   },
   "source": [
    "If we want to get more than one `character` of a `string` we can use the following syntax `string[start:stop]` which extracts characters between `index` `start` and `stop`. This technique is called *slicing*."
   ]
  },
  {
   "cell_type": "code",
   "execution_count": 61,
   "id": "0e2e8076",
   "metadata": {
    "slideshow": {
     "slide_type": "fragment"
    }
   },
   "outputs": [
    {
     "data": {
      "text/plain": [
       "'wombat'"
      ]
     },
     "execution_count": 61,
     "metadata": {},
     "output_type": "execute_result"
    }
   ],
   "source": [
    "statement_2[4:10]"
   ]
  },
  {
   "cell_type": "markdown",
   "id": "fb5c3728",
   "metadata": {
    "slideshow": {
     "slide_type": "subslide"
    }
   },
   "source": [
    "If we omit either (or both) of `start` or `stop` from `[start:stop]`, the default is the beginning and the end of the `string`, respectively:"
   ]
  },
  {
   "cell_type": "code",
   "execution_count": 62,
   "id": "fa58b95b",
   "metadata": {
    "slideshow": {
     "slide_type": "fragment"
    }
   },
   "outputs": [
    {
     "data": {
      "text/plain": [
       "'The wombat'"
      ]
     },
     "execution_count": 62,
     "metadata": {},
     "output_type": "execute_result"
    }
   ],
   "source": [
    "statement_2[:10]"
   ]
  },
  {
   "cell_type": "code",
   "execution_count": 63,
   "id": "31861727",
   "metadata": {
    "slideshow": {
     "slide_type": "fragment"
    }
   },
   "outputs": [
    {
     "data": {
      "text/plain": [
       "' and the capybara are equally awesome. However, while the wombat lives in Australia, the capybara can be found in south america.'"
      ]
     },
     "execution_count": 63,
     "metadata": {},
     "output_type": "execute_result"
    }
   ],
   "source": [
    "statement_2[10:]"
   ]
  },
  {
   "cell_type": "code",
   "execution_count": 64,
   "id": "9ce7c101",
   "metadata": {
    "slideshow": {
     "slide_type": "fragment"
    }
   },
   "outputs": [
    {
     "data": {
      "text/plain": [
       "'The wombat and the capybara are equally awesome. However, while the wombat lives in Australia, the capybara can be found in south america.'"
      ]
     },
     "execution_count": 64,
     "metadata": {},
     "output_type": "execute_result"
    }
   ],
   "source": [
    "statement_2[:]"
   ]
  },
  {
   "cell_type": "markdown",
   "id": "92bdf3de",
   "metadata": {
    "slideshow": {
     "slide_type": "subslide"
    }
   },
   "source": [
    "We can also define the `step size` using the syntax `[start:end:step]` (the default value for `step` is `1`, as we saw above):"
   ]
  },
  {
   "cell_type": "code",
   "execution_count": 65,
   "id": "4037e3da",
   "metadata": {
    "slideshow": {
     "slide_type": "fragment"
    }
   },
   "outputs": [
    {
     "data": {
      "text/plain": [
       "'The wombat and the capybara are equally awesome. However, while the wombat lives in Australia, the capybara can be found in south america.'"
      ]
     },
     "execution_count": 65,
     "metadata": {},
     "output_type": "execute_result"
    }
   ],
   "source": [
    "statement_2[::1]"
   ]
  },
  {
   "cell_type": "code",
   "execution_count": 66,
   "id": "caa6aeb7",
   "metadata": {
    "slideshow": {
     "slide_type": "fragment"
    }
   },
   "outputs": [
    {
     "data": {
      "text/plain": [
       "'Tewma n h ayaaaeeulyaeoe oee,wietewma ie nAsrla h ayaacnb on nsuhaeia'"
      ]
     },
     "execution_count": 66,
     "metadata": {},
     "output_type": "execute_result"
    }
   ],
   "source": [
    "statement_2[::2]"
   ]
  },
  {
   "cell_type": "markdown",
   "id": "5b5efcf2",
   "metadata": {
    "slideshow": {
     "slide_type": "subslide"
    }
   },
   "source": [
    "#### String formatting \n",
    "\n",
    "Besides `operating` on `strings` we can also apply different `formatting styles`. More precisely, this refers to different ways of displaying `strings`. The main `function` we'll explore regarding this will be the `print` function. Comparable to `len`, it's one of the `python` `functions` that's always available to you, even without `import`. \n",
    "\n",
    "For example, if we `print` `strings` added with `+`, they are concatenated without space: "
   ]
  },
  {
   "cell_type": "code",
   "execution_count": 67,
   "id": "87c8d1d1",
   "metadata": {
    "slideshow": {
     "slide_type": "fragment"
    }
   },
   "outputs": [
    {
     "name": "stdout",
     "output_type": "stream",
     "text": [
      "Theresultsweresignificant\n"
     ]
    }
   ],
   "source": [
    "print(\"The\" + \"results\" + \"were\" + \"significant\")"
   ]
  },
  {
   "cell_type": "markdown",
   "id": "ff85afc9",
   "metadata": {
    "slideshow": {
     "slide_type": "subslide"
    }
   },
   "source": [
    "The `print` `function` concatenates `strings` differently, depending how the `inputs` are specified. If we just provide all `strings` without anything else, they will be concatenated without spaces:"
   ]
  },
  {
   "cell_type": "code",
   "execution_count": 68,
   "id": "e1f7583c",
   "metadata": {
    "slideshow": {
     "slide_type": "fragment"
    }
   },
   "outputs": [
    {
     "name": "stdout",
     "output_type": "stream",
     "text": [
      "Theresultsweresignificant\n"
     ]
    }
   ],
   "source": [
    "print(\"The\" \"results\" \"were\" \"significant\")"
   ]
  },
  {
   "cell_type": "markdown",
   "id": "419ad913",
   "metadata": {
    "slideshow": {
     "slide_type": "subslide"
    }
   },
   "source": [
    "If we provide `strings` separated by `,`, they will be concatenated with spaces:"
   ]
  },
  {
   "cell_type": "code",
   "execution_count": 69,
   "id": "fafdb8b0",
   "metadata": {
    "slideshow": {
     "slide_type": "fragment"
    }
   },
   "outputs": [
    {
     "name": "stdout",
     "output_type": "stream",
     "text": [
      "The results were significant\n"
     ]
    }
   ],
   "source": [
    "print(\"The\", \"results\", \"were\", \"significant\")"
   ]
  },
  {
   "cell_type": "markdown",
   "id": "570a04a4",
   "metadata": {
    "slideshow": {
     "slide_type": "subslide"
    }
   },
   "source": [
    "Interestingly, the `print` `function` converts all `inputs` to `strings`, no matter their actual `type`:"
   ]
  },
  {
   "cell_type": "code",
   "execution_count": 70,
   "id": "8aceb5c3",
   "metadata": {
    "slideshow": {
     "slide_type": "fragment"
    }
   },
   "outputs": [
    {
     "name": "stdout",
     "output_type": "stream",
     "text": [
      "The results were significant 0.049 False\n"
     ]
    }
   ],
   "source": [
    "print(\"The\", \"results\", \"were\", \"significant\", 0.049, False)"
   ]
  },
  {
   "cell_type": "markdown",
   "id": "eb6b8f8a",
   "metadata": {
    "slideshow": {
     "slide_type": "subslide"
    }
   },
   "source": [
    "Another very cool and handy option that we can specify `placeholders` which will be filled with an `input` according to a given `formatting style`. `Python` has two `string formatting styles`. An example of the old style is below, the `placeholder` or `specifier` `%.3f` transforms the `input` `number` into a `string`, that corresponds to a `floating point number` with `3 decimal places` and the `specifier` `%d` transforms the `input` `number` into a `string`, corresponding to a `decimal number`."
   ]
  },
  {
   "cell_type": "code",
   "execution_count": 71,
   "id": "2672d6a5",
   "metadata": {
    "slideshow": {
     "slide_type": "fragment"
    }
   },
   "outputs": [
    {
     "name": "stdout",
     "output_type": "stream",
     "text": [
      "The results were significant at 0.049\n"
     ]
    }
   ],
   "source": [
    "print(\"The results were significant at %.3f\" %(0.049))"
   ]
  },
  {
   "cell_type": "code",
   "execution_count": 72,
   "id": "0b7f41cd",
   "metadata": {
    "slideshow": {
     "slide_type": "-"
    }
   },
   "outputs": [
    {
     "name": "stdout",
     "output_type": "stream",
     "text": [
      "The results were significant at 0\n"
     ]
    }
   ],
   "source": [
    "print(\"The results were significant at %d\" %(0.049))"
   ]
  },
  {
   "cell_type": "markdown",
   "id": "1c0fcab1",
   "metadata": {
    "slideshow": {
     "slide_type": "subslide"
    }
   },
   "source": [
    "As you can see, you have to be very careful with `string formatting` as important information might otherwise get lost!  "
   ]
  },
  {
   "cell_type": "markdown",
   "id": "fc46ec5d",
   "metadata": {
    "slideshow": {
     "slide_type": "subslide"
    }
   },
   "source": [
    "We can achieve the same outcome using the new style string formatting which uses `{}` followed by `.format()`."
   ]
  },
  {
   "cell_type": "code",
   "execution_count": 73,
   "id": "be60772d",
   "metadata": {
    "slideshow": {
     "slide_type": "fragment"
    }
   },
   "outputs": [
    {
     "name": "stdout",
     "output_type": "stream",
     "text": [
      "The results were significant at 0.049\n"
     ]
    }
   ],
   "source": [
    "print(\"The results were significant at {:.3f}\" .format(0.049))"
   ]
  },
  {
   "cell_type": "markdown",
   "id": "c8c0bd4a",
   "metadata": {
    "slideshow": {
     "slide_type": "subslide"
    }
   },
   "source": [
    "If you would like to include `line-breaks` and/or `tabs` in your `strings`, you can use `\\n` and `\\t` respectively: "
   ]
  },
  {
   "cell_type": "code",
   "execution_count": 74,
   "id": "546d36ab",
   "metadata": {
    "slideshow": {
     "slide_type": "fragment"
    }
   },
   "outputs": [
    {
     "name": "stdout",
     "output_type": "stream",
     "text": [
      "Geez, there are some many things \n",
      "Python can do with \t strings.\n"
     ]
    }
   ],
   "source": [
    "print(\"Geez, there are some many things \\nPython can do with \\t strings.\")"
   ]
  },
  {
   "cell_type": "markdown",
   "id": "f6b5e2ff",
   "metadata": {
    "slideshow": {
     "slide_type": "subslide"
    }
   },
   "source": [
    "We can of course also combine the different `string formatting` options:"
   ]
  },
  {
   "cell_type": "code",
   "execution_count": 75,
   "id": "d97c739b",
   "metadata": {
    "slideshow": {
     "slide_type": "-"
    }
   },
   "outputs": [
    {
     "name": "stdout",
     "output_type": "stream",
     "text": [
      "Animal: Wombat\n",
      "Habitat: Australia\n",
      "Rating: 5\n"
     ]
    }
   ],
   "source": [
    "print(\"Animal: {}\\nHabitat: {}\\nRating: {}\".format(\"Wombat\", \"Australia\", 5))"
   ]
  },
  {
   "cell_type": "markdown",
   "id": "af4fde87",
   "metadata": {
    "slideshow": {
     "slide_type": "subslide"
    }
   },
   "source": [
    "#### Single Quote\n",
    "You can specify strings using single quotes such as `'Quote me on this'`.\n",
    "All white space i.e. spaces and tabs, within the quotes, are preserved as-is.\n",
    "\n",
    "#### Double Quotes\n",
    "Strings in double quotes work exactly the same way as strings in single quotes. An example is `\"What's your name?\"`.\n",
    "\n",
    "#### Triple Quotes\n",
    "\n",
    "You can specify multi-line strings using triple quotes - (`\"\"\"` or `'''`). You can use single quotes and double quotes freely within the triple quotes. An example is:"
   ]
  },
  {
   "cell_type": "code",
   "execution_count": 76,
   "id": "6a1690d8",
   "metadata": {
    "slideshow": {
     "slide_type": "subslide"
    }
   },
   "outputs": [
    {
     "data": {
      "text/plain": [
       "'I\\'m the first line. Check how line-breaks are shown in the second line.\\nDo you see the line-break?\\n\"What\\'s going on here?,\" you might ask.\\nWell, \"that\\'s just how tiple quotes work.\"\\n'"
      ]
     },
     "execution_count": 76,
     "metadata": {},
     "output_type": "execute_result"
    }
   ],
   "source": [
    "'''I'm the first line. Check how line-breaks are shown in the second line.\n",
    "Do you see the line-break?\n",
    "\"What's going on here?,\" you might ask.\n",
    "Well, \"that's just how tiple quotes work.\"\n",
    "'''"
   ]
  },
  {
   "cell_type": "markdown",
   "id": "840953c3",
   "metadata": {
    "slideshow": {
     "slide_type": "skip"
    }
   },
   "source": [
    "##### Exercise 5.1\n",
    "\n",
    "Create two `variable`s called `info_wombat` and `info_capybara` and provide them the following `values` respectively:\n",
    "\n",
    "\"The wombat is quadrupedal marsupial and can weigh up to 35 kg.\"\n",
    "\n",
    "\"The capybara is the largest rodent on earth. Its relatives include the guinea pig and the chinchilla.\" \n",
    "\n",
    "Once created, please verify that the `type` is `string`."
   ]
  },
  {
   "cell_type": "code",
   "execution_count": 77,
   "id": "6ecd3cca",
   "metadata": {
    "slideshow": {
     "slide_type": "skip"
    },
    "solution2": "hidden",
    "solution2_first": true
   },
   "outputs": [],
   "source": [
    "# Please write your solution here"
   ]
  },
  {
   "cell_type": "code",
   "execution_count": 78,
   "id": "d4565793",
   "metadata": {
    "solution2": "hidden"
   },
   "outputs": [
    {
     "name": "stdout",
     "output_type": "stream",
     "text": [
      "<class 'str'>\n",
      "<class 'str'>\n"
     ]
    }
   ],
   "source": [
    "info_wombat = \"The wombat is quadrupedal marsupial and can weigh up to 35 kg.\"\n",
    "info_capybara = \"The capybara is the largest rodent on earth. Its relatives include the guinea pig and the chinchilla.\"\n",
    "\n",
    "print(type(info_wombat))\n",
    "print(type(info_capybara))"
   ]
  },
  {
   "cell_type": "markdown",
   "id": "23a34167",
   "metadata": {
    "slideshow": {
     "slide_type": "skip"
    }
   },
   "source": [
    "##### Exercise 5.2\n",
    "\n",
    "Compute the `length` and `print` within the `strings` \"The wombat information has [insert length here] characters.\" and \"The capybara information has [insert length here] characters.\" After that, please compare the length of the `strings` and `print` if they are equal."
   ]
  },
  {
   "cell_type": "code",
   "execution_count": 79,
   "id": "b43008a2",
   "metadata": {
    "solution2": "hidden",
    "solution2_first": true
   },
   "outputs": [],
   "source": [
    "# Please write your solution here"
   ]
  },
  {
   "cell_type": "code",
   "execution_count": 80,
   "id": "97f0620b",
   "metadata": {
    "solution2": "hidden"
   },
   "outputs": [
    {
     "name": "stdout",
     "output_type": "stream",
     "text": [
      "The wombat information has 62 characters.\n",
      "The capybara information has 101 characters.\n",
      "The information has an equal amount of characters: False\n"
     ]
    }
   ],
   "source": [
    "print(\"The wombat information has %s characters.\" %len(info_wombat))\n",
    "print(\"The capybara information has %s characters.\" %len(info_capybara))\n",
    "print(\"The information has an equal amount of characters: %s\" %str(len(info_wombat)==len(info_capybara)))"
   ]
  },
  {
   "cell_type": "markdown",
   "id": "c82e52e8",
   "metadata": {
    "solution2": "hidden",
    "solution2_first": true
   },
   "source": [
    "##### Exercise 5.3\n",
    "\n",
    "Get the following `indices` from the `info_wombat` and `info_capybara` respectively: `4`-`10` and `4`-`12`. Replace the resulting word in `info_wombat` with `capybara` and the resulting word in `info_capybara` with `wombat`."
   ]
  },
  {
   "cell_type": "code",
   "execution_count": 81,
   "id": "446ecb0e",
   "metadata": {
    "solution2": "hidden"
   },
   "outputs": [
    {
     "name": "stdout",
     "output_type": "stream",
     "text": [
      "wombat\n",
      "capybara\n",
      "The capybara is quadrupedal marsupial and can weigh up to 35 kg.\n",
      "The wombat is the largest rodent on earth. Its relatives include the guinea pig and the chinchilla.\n"
     ]
    }
   ],
   "source": [
    "print(info_wombat[4:10])\n",
    "print(info_capybara[4:12])\n",
    "\n",
    "print(info_wombat.replace('wombat', 'capybara'))\n",
    "print(info_capybara.replace('capybara', 'wombat'))"
   ]
  },
  {
   "cell_type": "markdown",
   "id": "16a5dc46",
   "metadata": {
    "slideshow": {
     "slide_type": "subslide"
    }
   },
   "source": [
    "### List\n",
    "\n",
    "Next up: `list`s. In general, `list`s are very similar to `strings`. One crucial difference is that `list` elements (things in the `list`) can be of any `type`: `integers`, `floats`, `strings`, etc. . Additionally, `types` can be freely mixed within a `list`, that is, each `element` of a list can be of a different `type`. `List`s are among the `data types` and `structures` you'll work with almost every time you do something in `python`. They are super handy and comparably to `strings`, have a lot of \"in-built\" functionality.\n",
    "\n",
    "\n",
    "</br>\n",
    "<center><img src=\"https://raw.githubusercontent.com/PeerHerholz/Python_for_Psychologists_Winter2021/master/lecture/static/python_data_types_2.png\"></center>"
   ]
  },
  {
   "cell_type": "markdown",
   "id": "ff8e49ea",
   "metadata": {
    "slideshow": {
     "slide_type": "subslide"
    }
   },
   "source": [
    "The basic `syntax` for creating `list`s in `python` is `[...]`:"
   ]
  },
  {
   "cell_type": "code",
   "execution_count": 82,
   "id": "71d15301",
   "metadata": {
    "slideshow": {
     "slide_type": "fragment"
    }
   },
   "outputs": [
    {
     "data": {
      "text/plain": [
       "[1, 2, 3, 4]"
      ]
     },
     "execution_count": 82,
     "metadata": {},
     "output_type": "execute_result"
    }
   ],
   "source": [
    "[1,2,3,4]"
   ]
  },
  {
   "cell_type": "code",
   "execution_count": 83,
   "id": "a1ad89e6",
   "metadata": {
    "slideshow": {
     "slide_type": "fragment"
    }
   },
   "outputs": [
    {
     "data": {
      "text/plain": [
       "list"
      ]
     },
     "execution_count": 83,
     "metadata": {},
     "output_type": "execute_result"
    }
   ],
   "source": [
    "type([1,2,3,4])"
   ]
  },
  {
   "cell_type": "markdown",
   "id": "8a391a90",
   "metadata": {
    "slideshow": {
     "slide_type": "subslide"
    }
   },
   "source": [
    "You can of course also set `list`s as the `value` of a `variable`. For example, we could create a `list` containing `reaction times` (or `age`/other `behavioral` or `test scores` of `participants`, etc.):"
   ]
  },
  {
   "cell_type": "code",
   "execution_count": 84,
   "id": "dd7890f8",
   "metadata": {
    "slideshow": {
     "slide_type": "fragment"
    }
   },
   "outputs": [
    {
     "name": "stdout",
     "output_type": "stream",
     "text": [
      "<class 'list'>\n",
      "[1.2, 1.0, 1.5, 1.9, 1.3, 1.2, 1.7]\n"
     ]
    }
   ],
   "source": [
    "reaction_times = [1.2, 1.0, 1.5, 1.9, 1.3, 1.2, 1.7]\n",
    "print(type(reaction_times))\n",
    "print(reaction_times)"
   ]
  },
  {
   "cell_type": "markdown",
   "id": "dc3a2df7",
   "metadata": {
    "slideshow": {
     "slide_type": "subslide"
    }
   },
   "source": [
    "Going back to the comparison with `strings`, we can use the same `index` and `slicing` techniques to manipulate `list`s as we could use on `strings`: `list[index]`, `list[start:stop]`."
   ]
  },
  {
   "cell_type": "code",
   "execution_count": 85,
   "id": "427d9207",
   "metadata": {
    "slideshow": {
     "slide_type": "fragment"
    }
   },
   "outputs": [
    {
     "name": "stdout",
     "output_type": "stream",
     "text": [
      "[1.2, 1.0, 1.5, 1.9, 1.3, 1.2, 1.7]\n",
      "[1.0, 1.5]\n",
      "[1.2, 1.5, 1.3, 1.7]\n"
     ]
    }
   ],
   "source": [
    "print(reaction_times)\n",
    "print(reaction_times[1:3])\n",
    "print(reaction_times[::2])"
   ]
  },
  {
   "cell_type": "markdown",
   "id": "f7aaae8b",
   "metadata": {
    "slideshow": {
     "slide_type": "subslide"
    }
   },
   "source": [
    "<center><img src=\"https://media1.giphy.com/media/BXOEmFSzNkOObZhIA3/giphy.gif?cid=ecf05e47iuhbrrici7z2tn33dxeu0xxi96i19uk7qphiojb3&rid=giphy.gif&ct=g\" width=\"300\"></center>\n",
    "\n",
    "<center><a href=\"https://giphy.com/gifs/theoffice-the-office-tv-secret-santa-BXOEmFSzNkOObZhIA3\">via GIPHY</a></center>\n",
    "\n",
    "**HEADS UP EVERYONE: INDEXING IN `PYTHON` STARTS AT 0**\n",
    "\n",
    "</br>\n",
    "<center><img src=\"https://raw.githubusercontent.com/PeerHerholz/Python_for_Psychologists_Winter2021/master/lecture/static/index_list.png\"></center>\n",
    "\n",
    "This means that the `first index` is `0`, the `second index` `1`, the `third index` 2, etc. . This holds true independent of the `data type` and is one of the major confusions when folks start programming in `python`, so always watch out!"
   ]
  },
  {
   "cell_type": "markdown",
   "id": "02372796",
   "metadata": {
    "slideshow": {
     "slide_type": "subslide"
    }
   },
   "source": [
    "Thus, to get the first index of our `reaction_times`, we have to do the following:"
   ]
  },
  {
   "cell_type": "code",
   "execution_count": 86,
   "id": "267e7ee6",
   "metadata": {
    "slideshow": {
     "slide_type": "fragment"
    }
   },
   "outputs": [
    {
     "data": {
      "text/plain": [
       "1.2"
      ]
     },
     "execution_count": 86,
     "metadata": {},
     "output_type": "execute_result"
    }
   ],
   "source": [
    "reaction_times[0]"
   ]
  },
  {
   "cell_type": "markdown",
   "id": "75aa7f1e",
   "metadata": {
    "slideshow": {
     "slide_type": "fragment"
    }
   },
   "source": [
    "There's another important aspect related to `index` and `slicing`. Have a look at the following example that _should_ get us the `reaction times` from index `1` to `4`: "
   ]
  },
  {
   "cell_type": "code",
   "execution_count": 87,
   "id": "b0288623",
   "metadata": {
    "slideshow": {
     "slide_type": "fragment"
    }
   },
   "outputs": [
    {
     "name": "stdout",
     "output_type": "stream",
     "text": [
      "[1.2, 1.0, 1.5, 1.9, 1.3, 1.2, 1.7]\n",
      "[1.0, 1.5, 1.9]\n"
     ]
    }
   ],
   "source": [
    "print(reaction_times)\n",
    "print(reaction_times[1:4])"
   ]
  },
  {
   "cell_type": "markdown",
   "id": "28160f6b",
   "metadata": {
    "slideshow": {
     "slide_type": "fragment"
    }
   },
   "source": [
    "Isn't there something missing, specifically the last `index` we wanted to grasp, i.e. `4`?"
   ]
  },
  {
   "cell_type": "markdown",
   "id": "bb3e3bf1",
   "metadata": {
    "slideshow": {
     "slide_type": "subslide"
    }
   },
   "source": [
    "<center><img src=\"https://media1.giphy.com/media/BXOEmFSzNkOObZhIA3/giphy.gif?cid=ecf05e47iuhbrrici7z2tn33dxeu0xxi96i19uk7qphiojb3&rid=giphy.gif&ct=g\" width=\"300\"></center>\n",
    "\n",
    "<center><a href=\"https://giphy.com/gifs/theoffice-the-office-tv-secret-santa-BXOEmFSzNkOObZhIA3\">via GIPHY</a></center>\n",
    "\n",
    "**HEADS UP EVERYONE: SLICING IN `PYTHON` EXCLUDES THE \"STOP\" INDEX**\n",
    "\n",
    "</br>\n",
    "<center><img src=\"https://raw.githubusercontent.com/PeerHerholz/Python_for_Psychologists_Winter2021/master/lecture/static/index_list_slicing.png\"></center>\n",
    "\n",
    "This means that the `slicing` technique gives you everything up to the `stop` `index` but does not include the `stop` `index` itself. For example, `reaction_times[1:4]` will return the `list elements` from index `1` up to `4` but not the fourth `index`. This holds true independent of the `data type` and is one of the major confusions when folks start programming in `python`, so always watch out!"
   ]
  },
  {
   "cell_type": "markdown",
   "id": "b458f545",
   "metadata": {
    "slideshow": {
     "slide_type": "subslide"
    }
   },
   "source": [
    "So, to get to `list elements` from `index` `0` - `4`, including `4`, we have to do the following:"
   ]
  },
  {
   "cell_type": "code",
   "execution_count": 88,
   "id": "f8bceab8",
   "metadata": {
    "slideshow": {
     "slide_type": "fragment"
    }
   },
   "outputs": [
    {
     "name": "stdout",
     "output_type": "stream",
     "text": [
      "[1.2, 1.0, 1.5, 1.9, 1.3, 1.2, 1.7]\n",
      "[1.2, 1.0, 1.5, 1.9, 1.3]\n"
     ]
    }
   ],
   "source": [
    "print(reaction_times)\n",
    "print(reaction_times[0:5])"
   ]
  },
  {
   "cell_type": "markdown",
   "id": "6be48311",
   "metadata": {
    "slideshow": {
     "slide_type": "fragment"
    }
   },
   "source": [
    "As mentioned before, `elements` in a `list` do not all have to be of the same `type`:"
   ]
  },
  {
   "cell_type": "code",
   "execution_count": 89,
   "id": "64a2ec66",
   "metadata": {
    "slideshow": {
     "slide_type": "fragment"
    }
   },
   "outputs": [
    {
     "name": "stdout",
     "output_type": "stream",
     "text": [
      "[1, 'a', 4.0, 'What is happening?']\n"
     ]
    }
   ],
   "source": [
    "mixed_list = [1, 'a', 4.0, 'What is happening?']\n",
    "\n",
    "print(mixed_list)"
   ]
  },
  {
   "cell_type": "markdown",
   "id": "c6dbd54c",
   "metadata": {
    "slideshow": {
     "slide_type": "subslide"
    }
   },
   "source": [
    "Another nice thing to know: `python` `list`s can be `inhomogeneous` and `arbitrarily nested`, meaning that we can define and access `list`s within `list`s. Is this `list`-ception??"
   ]
  },
  {
   "cell_type": "code",
   "execution_count": 90,
   "id": "03340f89",
   "metadata": {
    "slideshow": {
     "slide_type": "fragment"
    }
   },
   "outputs": [
    {
     "name": "stdout",
     "output_type": "stream",
     "text": [
      "our nest list looks like this: [1, [2, [3, [4, [5]]]]]\n",
      "the length of our nested list is: 2\n",
      "the first index of our nested_list is: 1\n",
      "the second index of our nested_list is: [2, [3, [4, [5]]]]\n",
      "the second index of our nested_list is a list we can index again via nested_list[1][1]: [3, [4, [5]]]\n"
     ]
    }
   ],
   "source": [
    "nested_list = [1, [2, [3, [4, [5]]]]]\n",
    "\n",
    "print(\"our nest list looks like this: %s\" %nested_list)\n",
    "print(\"the length of our nested list is: %s\" %len(nested_list))\n",
    "print(\"the first index of our nested_list is: %s\" %nested_list[0])\n",
    "print(\"the second index of our nested_list is: %s\" %nested_list[1])\n",
    "print(\"the second index of our nested_list is a list we can index again via nested_list[1][1]: %s\" %nested_list[1][1])"
   ]
  },
  {
   "cell_type": "markdown",
   "id": "73e7b829",
   "metadata": {
    "slideshow": {
     "slide_type": "subslide"
    }
   },
   "source": [
    "Lets have a look at another `list`. Assuming you obtain data describing the favorite `movies` and `snacks` of a sample population, we can put the respective responses in `list`s for easy handling:"
   ]
  },
  {
   "cell_type": "code",
   "execution_count": 164,
   "id": "49cbca28",
   "metadata": {
    "slideshow": {
     "slide_type": "fragment"
    }
   },
   "outputs": [],
   "source": [
    "movies = ['Nomadland', 'Trainspotting', 'Napoleon Dynamite', 'Fargo', 'Little Miss Sunshine',\n",
    "          'Moon', 'Back to the Future', 'Shutter Island', 'Gremlins', 'Eternal Sunshine of the spotless mind',\n",
    "          'Interstellar', 'Inception', 'Donnie Darko', 'Fight Club', 'Shutter Island',\n",
    "          'Beasts of the Southern Wild', 'Being John Malkovich', 'Garden State', 'Inception']"
   ]
  },
  {
   "cell_type": "code",
   "execution_count": 129,
   "id": "7e20786b",
   "metadata": {
    "slideshow": {
     "slide_type": "subslide"
    }
   },
   "outputs": [],
   "source": [
    "snacks = ['pancakes', 'chocolate', 'plantain', 'carrots', 'hummus', 'peanuts', 'chocolate', 'mochi', 'pineapple',\n",
    "          'chocolate', 'nori', 'fruit', 'sushi',  'nigiri', 'dried mango', 'dark chocolate', \n",
    "          'too complicated', 'maple syrup candy', 'coconut']"
   ]
  },
  {
   "cell_type": "markdown",
   "id": "0786542c",
   "metadata": {
    "slideshow": {
     "slide_type": "subslide"
    }
   },
   "source": [
    "A smaller subsample also provided their favorite animal."
   ]
  },
  {
   "cell_type": "code",
   "execution_count": 95,
   "id": "c154c8f9",
   "metadata": {
    "slideshow": {
     "slide_type": "fragment"
    }
   },
   "outputs": [],
   "source": [
    "animals = ['cat', 'lizard', 'coral', 'elephant', 'barred owl', 'groundhog']"
   ]
  },
  {
   "cell_type": "markdown",
   "id": "f745d1ca",
   "metadata": {
    "slideshow": {
     "slide_type": "subslide"
    }
   },
   "source": [
    "So lets check what we can do with these lists. At first, here they are again:"
   ]
  },
  {
   "cell_type": "code",
   "execution_count": 96,
   "id": "9c00bdb6",
   "metadata": {
    "slideshow": {
     "slide_type": "fragment"
    }
   },
   "outputs": [
    {
     "name": "stdout",
     "output_type": "stream",
     "text": [
      "The favorite movies were: ['Nomadland', 'Trainspotting', 'Napoleon Dynamite', 'Fargo', 'Little Miss Sunshine', 'Moon', 'Back to the Future', 'Shutter Island', 'Gremlins', 'Eternal Sunshine of the spotless mind', 'Interstellar', 'Inception', 'Donnie Darko', 'Fight Club', 'Shutter Island', 'Beasts of the Southern Wild', 'Being John Malkovich', 'Shindlers List', 'Inception']\n",
      "\n",
      "\n",
      "The favorite snacks were: ['pancakes', 'banana', 'plantain', 'carrots', 'hummus', 'peanuts', 'chocolate', 'mochi', 'pineapple', 'chocolate', 'nori', 'fruit', 'sushi', 'nigiri', 'dried mango', 'dark chocolate', 'too complicated', 'maple syrup candy', 'coconut']\n",
      "\n",
      "\n",
      "The favorite animals were: ['cat', 'lizard', 'coral', 'elephant', 'barred owl', 'groundhog']\n"
     ]
    }
   ],
   "source": [
    "print('The favorite movies were: %s' %movies)\n",
    "print('\\n')\n",
    "print('The favorite snacks were: %s'%snacks)\n",
    "print('\\n')\n",
    "print('The favorite animals were: %s' %animals)"
   ]
  },
  {
   "cell_type": "markdown",
   "id": "8a1dffd6",
   "metadata": {
    "slideshow": {
     "slide_type": "subslide"
    }
   },
   "source": [
    "Initially we might want to `count` how many responses there were. We can achieve this via our old friend the `len` `function`. If we want to also check if we got responses from all 19 participants of our sample population, we can directly use `comparisons`.  "
   ]
  },
  {
   "cell_type": "code",
   "execution_count": 97,
   "id": "fe20e606",
   "metadata": {
    "slideshow": {
     "slide_type": "fragment"
    }
   },
   "outputs": [
    {
     "name": "stdout",
     "output_type": "stream",
     "text": [
      "Regarding movies there were 19 responses\n",
      "We got responses from all participants: True\n"
     ]
    }
   ],
   "source": [
    "print('Regarding movies there were %s responses' %len(movies))\n",
    "print('We got responses from all participants: %s' %str(len(movies)==19))"
   ]
  },
  {
   "cell_type": "markdown",
   "id": "7bc0621c",
   "metadata": {
    "slideshow": {
     "slide_type": "subslide"
    }
   },
   "source": [
    "We can do the same for `snacks` and `animals`:"
   ]
  },
  {
   "cell_type": "code",
   "execution_count": 98,
   "id": "a0434361",
   "metadata": {
    "slideshow": {
     "slide_type": "fragment"
    }
   },
   "outputs": [
    {
     "name": "stdout",
     "output_type": "stream",
     "text": [
      "Regarding snacks there were 19 responses\n",
      "We got responses from all participants: True\n"
     ]
    }
   ],
   "source": [
    "print('Regarding snacks there were %s responses' %len(snacks))\n",
    "print('We got responses from all participants: %s' %str(len(snacks)==19))"
   ]
  },
  {
   "cell_type": "code",
   "execution_count": 99,
   "id": "a84cd770",
   "metadata": {
    "slideshow": {
     "slide_type": "fragment"
    }
   },
   "outputs": [
    {
     "name": "stdout",
     "output_type": "stream",
     "text": [
      "Regarding animals there were 6 responses\n",
      "We got responses from all participants: False\n"
     ]
    }
   ],
   "source": [
    "print('Regarding animals there were %s responses' %len(animals))\n",
    "print('We got responses from all participants: %s' %str(len(animals)==19))"
   ]
  },
  {
   "cell_type": "markdown",
   "id": "fbc5840e",
   "metadata": {
    "slideshow": {
     "slide_type": "subslide"
    }
   },
   "source": [
    "Another thing we might want to check is the number of `unique` responses, that is if some `values` in our `list` appear multiple times and we might also want to get these `values`.  In `python` we have various ways to do this, most often you'll see (and most likely use) `set` and `numpy`'s `unique` `functions`. While the first is another example of in-built `python functions` that don't need to be `imported`, the second is a `function` of the `numpy` `module`. They however can achieve the same goal, that is getting us the number of `unique` `values`. "
   ]
  },
  {
   "cell_type": "code",
   "execution_count": 100,
   "id": "ab3c2066",
   "metadata": {
    "slideshow": {
     "slide_type": "fragment"
    }
   },
   "outputs": [
    {
     "name": "stdout",
     "output_type": "stream",
     "text": [
      "There are 17 unique responses regarding movies\n"
     ]
    }
   ],
   "source": [
    "print('There are %s unique responses regarding movies' %len(set(movies)))"
   ]
  },
  {
   "cell_type": "code",
   "execution_count": 101,
   "id": "2ee4a221",
   "metadata": {
    "slideshow": {
     "slide_type": "fragment"
    }
   },
   "outputs": [
    {
     "name": "stdout",
     "output_type": "stream",
     "text": [
      "There are 17 unique responses regarding movies\n"
     ]
    }
   ],
   "source": [
    "import numpy as np\n",
    "print('There are %s unique responses regarding movies' %len(np.unique(movies)))"
   ]
  },
  {
   "cell_type": "markdown",
   "id": "49bc0342",
   "metadata": {
    "slideshow": {
     "slide_type": "subslide"
    }
   },
   "source": [
    "The `function`s themselves will also give us the `list` of `unique` `values`:"
   ]
  },
  {
   "cell_type": "code",
   "execution_count": 102,
   "id": "fc9c849c",
   "metadata": {
    "slideshow": {
     "slide_type": "fragment"
    }
   },
   "outputs": [
    {
     "name": "stdout",
     "output_type": "stream",
     "text": [
      "The unique responses regarding movies were:  ['Back to the Future' 'Beasts of the Southern Wild' 'Being John Malkovich'\n",
      " 'Donnie Darko' 'Eternal Sunshine of the spotless mind' 'Fargo'\n",
      " 'Fight Club' 'Gremlins' 'Inception' 'Interstellar' 'Little Miss Sunshine'\n",
      " 'Moon' 'Napoleon Dynamite' 'Nomadland' 'Shindlers List' 'Shutter Island'\n",
      " 'Trainspotting']\n"
     ]
    }
   ],
   "source": [
    "import numpy as np\n",
    "print('The unique responses regarding movies were:  %s' %np.unique(movies))"
   ]
  },
  {
   "cell_type": "markdown",
   "id": "8b01e547",
   "metadata": {
    "slideshow": {
     "slide_type": "subslide"
    }
   },
   "source": [
    "Doing the same for `snacks` and `animals` again is straightforward:"
   ]
  },
  {
   "cell_type": "code",
   "execution_count": 103,
   "id": "c4b49868",
   "metadata": {
    "slideshow": {
     "slide_type": "fragment"
    }
   },
   "outputs": [
    {
     "name": "stdout",
     "output_type": "stream",
     "text": [
      "There are 18 unique responses regarding snacks\n",
      "The unique responses regarding snacks were:  ['banana' 'carrots' 'chocolate' 'coconut' 'dark chocolate' 'dried mango'\n",
      " 'fruit' 'hummus' 'maple syrup candy' 'mochi' 'nigiri' 'nori' 'pancakes'\n",
      " 'peanuts' 'pineapple' 'plantain' 'sushi' 'too complicated']\n"
     ]
    }
   ],
   "source": [
    "print('There are %s unique responses regarding snacks' %len(np.unique(snacks)))\n",
    "print('The unique responses regarding snacks were:  %s' %np.unique(snacks))"
   ]
  },
  {
   "cell_type": "code",
   "execution_count": 104,
   "id": "59ace9f1",
   "metadata": {
    "slideshow": {
     "slide_type": "fragment"
    }
   },
   "outputs": [
    {
     "name": "stdout",
     "output_type": "stream",
     "text": [
      "There are 6 unique responses regarding animals\n",
      "The unique responses regarding animals were:  ['barred owl' 'cat' 'coral' 'elephant' 'groundhog' 'lizard']\n"
     ]
    }
   ],
   "source": [
    "print('There are %s unique responses regarding animals' %len(np.unique(animals)))\n",
    "print('The unique responses regarding animals were:  %s' %np.unique(animals))"
   ]
  },
  {
   "cell_type": "markdown",
   "id": "059f195a",
   "metadata": {
    "slideshow": {
     "slide_type": "subslide"
    }
   },
   "source": [
    "##### In-built functions\n",
    "\n",
    "As indicated before, `list`s have a great set of in-built functions that allow to perform various `operations`/`transformations` on them: `sort`, `append`, `insert` and `remove`. Please note, as these `function`s are part of the `data type` \"`list`\", you don't prepend (`sort(list)`) but append them: `list.sort()`, `list.append()`, `list.insert()` and `list.remove()`.  \n",
    "\n",
    "Lets start with `sort` which, as you might have expected, will `sort` our `list`."
   ]
  },
  {
   "cell_type": "code",
   "execution_count": 105,
   "id": "80de1677",
   "metadata": {
    "slideshow": {
     "slide_type": "subslide"
    }
   },
   "outputs": [
    {
     "data": {
      "text/plain": [
       "['Back to the Future',\n",
       " 'Beasts of the Southern Wild',\n",
       " 'Being John Malkovich',\n",
       " 'Donnie Darko',\n",
       " 'Eternal Sunshine of the spotless mind',\n",
       " 'Fargo',\n",
       " 'Fight Club',\n",
       " 'Gremlins',\n",
       " 'Inception',\n",
       " 'Inception',\n",
       " 'Interstellar',\n",
       " 'Little Miss Sunshine',\n",
       " 'Moon',\n",
       " 'Napoleon Dynamite',\n",
       " 'Nomadland',\n",
       " 'Shindlers List',\n",
       " 'Shutter Island',\n",
       " 'Shutter Island',\n",
       " 'Trainspotting']"
      ]
     },
     "execution_count": 105,
     "metadata": {},
     "output_type": "execute_result"
    }
   ],
   "source": [
    "movies.sort()\n",
    "movies"
   ]
  },
  {
   "cell_type": "markdown",
   "id": "ab83b2b3",
   "metadata": {
    "slideshow": {
     "slide_type": "fragment"
    }
   },
   "source": [
    "Please note that our `list` is modified/changed in-place. While it's nice to not have to do a new `assignment`, this can become problematic if the `index` is of relevance!"
   ]
  },
  {
   "cell_type": "markdown",
   "id": "92a2f710",
   "metadata": {
    "slideshow": {
     "slide_type": "subslide"
    }
   },
   "source": [
    "`.sort()` also allows you to specify _how_ the `list` should be sorted: `ascending` or `descending`. This is controlled via the `reverse` argument of the `.sort()` `function`. By default, `list`s are sorted in an `descending` order. If you want to sort your `list` in an `ascending` order you have to set the `reverse` argument to `True`: `list.sort(reverse=True)`."
   ]
  },
  {
   "cell_type": "code",
   "execution_count": 106,
   "id": "a4689e3d",
   "metadata": {
    "slideshow": {
     "slide_type": "fragment"
    }
   },
   "outputs": [
    {
     "data": {
      "text/plain": [
       "['Trainspotting',\n",
       " 'Shutter Island',\n",
       " 'Shutter Island',\n",
       " 'Shindlers List',\n",
       " 'Nomadland',\n",
       " 'Napoleon Dynamite',\n",
       " 'Moon',\n",
       " 'Little Miss Sunshine',\n",
       " 'Interstellar',\n",
       " 'Inception',\n",
       " 'Inception',\n",
       " 'Gremlins',\n",
       " 'Fight Club',\n",
       " 'Fargo',\n",
       " 'Eternal Sunshine of the spotless mind',\n",
       " 'Donnie Darko',\n",
       " 'Being John Malkovich',\n",
       " 'Beasts of the Southern Wild',\n",
       " 'Back to the Future']"
      ]
     },
     "execution_count": 106,
     "metadata": {},
     "output_type": "execute_result"
    }
   ],
   "source": [
    "movies.sort(reverse=True)\n",
    "movies"
   ]
  },
  {
   "cell_type": "markdown",
   "id": "051d391f",
   "metadata": {
    "slideshow": {
     "slide_type": "subslide"
    }
   },
   "source": [
    "We of course also want to sort our `list`s of `snacks` and `animals`:"
   ]
  },
  {
   "cell_type": "code",
   "execution_count": 132,
   "id": "89d8593c",
   "metadata": {
    "slideshow": {
     "slide_type": "fragment"
    }
   },
   "outputs": [
    {
     "data": {
      "text/plain": [
       "['carrots',\n",
       " 'chocolate',\n",
       " 'chocolate',\n",
       " 'chocolate',\n",
       " 'coconut',\n",
       " 'dark chocolate',\n",
       " 'dried mango',\n",
       " 'fruit',\n",
       " 'hummus',\n",
       " 'maple syrup candy',\n",
       " 'mochi',\n",
       " 'nigiri',\n",
       " 'nori',\n",
       " 'pancakes',\n",
       " 'peanuts',\n",
       " 'pineapple',\n",
       " 'plantain',\n",
       " 'sushi',\n",
       " 'too complicated']"
      ]
     },
     "execution_count": 132,
     "metadata": {},
     "output_type": "execute_result"
    }
   ],
   "source": [
    "snacks.sort()\n",
    "snacks"
   ]
  },
  {
   "cell_type": "code",
   "execution_count": 108,
   "id": "7d5b6bca",
   "metadata": {
    "slideshow": {
     "slide_type": "fragment"
    }
   },
   "outputs": [
    {
     "data": {
      "text/plain": [
       "['barred owl', 'cat', 'coral', 'elephant', 'groundhog', 'lizard']"
      ]
     },
     "execution_count": 108,
     "metadata": {},
     "output_type": "execute_result"
    }
   ],
   "source": [
    "animals.sort()\n",
    "animals"
   ]
  },
  {
   "cell_type": "markdown",
   "id": "67447470",
   "metadata": {
    "slideshow": {
     "slide_type": "subslide"
    }
   },
   "source": [
    "Lets assume we got new data from two participants and thus need to update our `list`, we can simply use `.append()` to, well, append or add these new entries:"
   ]
  },
  {
   "cell_type": "code",
   "execution_count": 109,
   "id": "821094b8",
   "metadata": {
    "slideshow": {
     "slide_type": "fragment"
    }
   },
   "outputs": [
    {
     "data": {
      "text/plain": [
       "['Trainspotting',\n",
       " 'Shutter Island',\n",
       " 'Shutter Island',\n",
       " 'Shindlers List',\n",
       " 'Nomadland',\n",
       " 'Napoleon Dynamite',\n",
       " 'Moon',\n",
       " 'Little Miss Sunshine',\n",
       " 'Interstellar',\n",
       " 'Inception',\n",
       " 'Inception',\n",
       " 'Gremlins',\n",
       " 'Fight Club',\n",
       " 'Fargo',\n",
       " 'Eternal Sunshine of the spotless mind',\n",
       " 'Donnie Darko',\n",
       " 'Being John Malkovich',\n",
       " 'Beasts of the Southern Wild',\n",
       " 'Back to the Future',\n",
       " 'My Neighbor Totoro']"
      ]
     },
     "execution_count": 109,
     "metadata": {},
     "output_type": "execute_result"
    }
   ],
   "source": [
    "movies.append('My Neighbor Totoro')\n",
    "movies"
   ]
  },
  {
   "cell_type": "markdown",
   "id": "de67aa16",
   "metadata": {
    "slideshow": {
     "slide_type": "subslide"
    }
   },
   "source": [
    "We obviously do the same for `snacks` and `animals` again:"
   ]
  },
  {
   "cell_type": "code",
   "execution_count": 133,
   "id": "634c5b29",
   "metadata": {
    "slideshow": {
     "slide_type": "fragment"
    }
   },
   "outputs": [
    {
     "data": {
      "text/plain": [
       "['carrots',\n",
       " 'chocolate',\n",
       " 'chocolate',\n",
       " 'chocolate',\n",
       " 'coconut',\n",
       " 'dark chocolate',\n",
       " 'dried mango',\n",
       " 'fruit',\n",
       " 'hummus',\n",
       " 'maple syrup candy',\n",
       " 'mochi',\n",
       " 'nigiri',\n",
       " 'nori',\n",
       " 'pancakes',\n",
       " 'peanuts',\n",
       " 'pineapple',\n",
       " 'plantain',\n",
       " 'sushi',\n",
       " 'too complicated',\n",
       " 'wasabi peanuts']"
      ]
     },
     "execution_count": 133,
     "metadata": {},
     "output_type": "execute_result"
    }
   ],
   "source": [
    "snacks.append('wasabi peanuts')\n",
    "snacks"
   ]
  },
  {
   "cell_type": "code",
   "execution_count": 111,
   "id": "73ce93f3",
   "metadata": {
    "slideshow": {
     "slide_type": "fragment"
    }
   },
   "outputs": [
    {
     "data": {
      "text/plain": [
       "['barred owl', 'cat', 'coral', 'elephant', 'groundhog', 'lizard', 'bear']"
      ]
     },
     "execution_count": 111,
     "metadata": {},
     "output_type": "execute_result"
    }
   ],
   "source": [
    "animals.append('bear')\n",
    "animals"
   ]
  },
  {
   "cell_type": "markdown",
   "id": "df83f36b",
   "metadata": {
    "slideshow": {
     "slide_type": "subslide"
    }
   },
   "source": [
    "Should the `index` of the new `value` be important, you have to use `.insert` as `.append` will only ever, you guessed it: append. The `.insert` `functions` takes two `arguments`, the `index` where a new `value` should be inserted and the `value` that should be inserted: `list.insert(index, value)`. The `index` of the subsequent `values` will shift +1 accordingly. Assuming, we want to add a new `value` at the `third index` of each of our `list`s, this how we would do that:"
   ]
  },
  {
   "cell_type": "code",
   "execution_count": 112,
   "id": "88b88e6d",
   "metadata": {
    "slideshow": {
     "slide_type": "fragment"
    }
   },
   "outputs": [
    {
     "name": "stdout",
     "output_type": "stream",
     "text": [
      "['Trainspotting', 'Shutter Island', 'The Big Lebowski', 'Shutter Island', 'Shindlers List', 'Nomadland', 'Napoleon Dynamite', 'Moon', 'Little Miss Sunshine', 'Interstellar', 'Inception', 'Inception', 'Gremlins', 'Fight Club', 'Fargo', 'Eternal Sunshine of the spotless mind', 'Donnie Darko', 'Being John Malkovich', 'Beasts of the Southern Wild', 'Back to the Future', 'My Neighbor Totoro']\n"
     ]
    }
   ],
   "source": [
    "movies.insert(2, 'The Big Lebowski')\n",
    "print(movies)"
   ]
  },
  {
   "cell_type": "code",
   "execution_count": 113,
   "id": "72c6c8cf",
   "metadata": {
    "slideshow": {
     "slide_type": "subslide"
    }
   },
   "outputs": [
    {
     "name": "stdout",
     "output_type": "stream",
     "text": [
      "['banana', 'carrots', 'PB&J', 'chocolate', 'chocolate', 'coconut', 'dark chocolate', 'dried mango', 'fruit', 'hummus', 'maple syrup candy', 'mochi', 'nigiri', 'nori', 'pancakes', 'peanuts', 'pineapple', 'plantain', 'sushi', 'too complicated', 'wasabi peanuts']\n"
     ]
    }
   ],
   "source": [
    "snacks.insert(2, 'PB&J')\n",
    "print(snacks)"
   ]
  },
  {
   "cell_type": "code",
   "execution_count": 114,
   "id": "0b9c4e79",
   "metadata": {
    "slideshow": {
     "slide_type": "fragment"
    }
   },
   "outputs": [
    {
     "name": "stdout",
     "output_type": "stream",
     "text": [
      "['barred owl', 'cat', 'manatee', 'coral', 'elephant', 'groundhog', 'lizard', 'bear']\n"
     ]
    }
   ],
   "source": [
    "animals.insert(2, 'manatee')\n",
    "print(animals)"
   ]
  },
  {
   "cell_type": "markdown",
   "id": "5ce16157",
   "metadata": {
    "slideshow": {
     "slide_type": "subslide"
    }
   },
   "source": [
    "If you want to change the `value` of a `list` `element` (e.g. you noticed an error and need to change the `value`), you can do that directly by `assigning` a new `value` to the `element` at the given `index`:"
   ]
  },
  {
   "cell_type": "code",
   "execution_count": 115,
   "id": "c52d3c98",
   "metadata": {
    "slideshow": {
     "slide_type": "fragment"
    }
   },
   "outputs": [
    {
     "name": "stdout",
     "output_type": "stream",
     "text": [
      "The element at index 15 of the list movies is: Eternal Sunshine of the spotless mind\n",
      "\n",
      "It is now Last Days\n",
      "\n",
      "['Trainspotting', 'Shutter Island', 'The Big Lebowski', 'Shutter Island', 'Shindlers List', 'Nomadland', 'Napoleon Dynamite', 'Moon', 'Little Miss Sunshine', 'Interstellar', 'Inception', 'Inception', 'Gremlins', 'Fight Club', 'Fargo', 'Last Days', 'Donnie Darko', 'Being John Malkovich', 'Beasts of the Southern Wild', 'Back to the Future', 'My Neighbor Totoro']\n"
     ]
    }
   ],
   "source": [
    "print('The element at index 15 of the list movies is: %s\\n' %movies[15])\n",
    "movies[15] = 'Last Days'\n",
    "print('It is now %s\\n' %movies[15])\n",
    "print(movies)"
   ]
  },
  {
   "cell_type": "markdown",
   "id": "dab2fb07",
   "metadata": {
    "slideshow": {
     "slide_type": "fragment"
    }
   },
   "source": [
    "Please note that this is final and the original `value` overwritten. The characteristic of modifying `lists` by `assigning` new `values` to `elements` in the `list` is called `mutable` in technical jargon."
   ]
  },
  {
   "cell_type": "markdown",
   "id": "e551d0ab",
   "metadata": {
    "slideshow": {
     "slide_type": "subslide"
    }
   },
   "source": [
    "If you want to remove an `element` of a given `list` (e.g. you noticed there are unwanted duplicates, etc.), you basically have two options `list.remove(element)` and `del list[index]` and which one you have to use depends on the goal. As you can see `.remove(element)` expects the `element` that should be removed from the `list`, that is the `element` with the specified `value`. For example, if we want to remove the duplicate `Shutter Island`, we can do the following:  "
   ]
  },
  {
   "cell_type": "code",
   "execution_count": 116,
   "id": "07d714a2",
   "metadata": {
    "slideshow": {
     "slide_type": "fragment"
    }
   },
   "outputs": [
    {
     "name": "stdout",
     "output_type": "stream",
     "text": [
      "['Trainspotting', 'The Big Lebowski', 'Shutter Island', 'Shindlers List', 'Nomadland', 'Napoleon Dynamite', 'Moon', 'Little Miss Sunshine', 'Interstellar', 'Inception', 'Inception', 'Gremlins', 'Fight Club', 'Fargo', 'Last Days', 'Donnie Darko', 'Being John Malkovich', 'Beasts of the Southern Wild', 'Back to the Future', 'My Neighbor Totoro']\n"
     ]
    }
   ],
   "source": [
    "movies.remove(\"Shutter Island\")\n",
    "print(movies)"
   ]
  },
  {
   "cell_type": "markdown",
   "id": "3c3b3527",
   "metadata": {
    "slideshow": {
     "slide_type": "fragment"
    }
   },
   "source": [
    "As you can see, only one \"Shutter Island\" is removed and not both, this is because `.remove(element)` only removes the first `element` of the `specified` value. Thus, if there are more `elements` you want to remove, the `del` `function` could be more handy.  "
   ]
  },
  {
   "cell_type": "markdown",
   "id": "71f385fb",
   "metadata": {
    "slideshow": {
     "slide_type": "subslide"
    }
   },
   "source": [
    "You may have noticed that the `del` `function` expects the `index` of the `element` that should be removed from the `list`. Thus, if we, for example, want to remove the duplicate `Inception`, we can also achieve that via the following: "
   ]
  },
  {
   "cell_type": "code",
   "execution_count": 123,
   "id": "0fab6769",
   "metadata": {
    "slideshow": {
     "slide_type": "fragment"
    }
   },
   "outputs": [
    {
     "name": "stdout",
     "output_type": "stream",
     "text": [
      "['Trainspotting', 'The Big Lebowski', 'Shutter Island', 'Shindlers List', 'Nomadland', 'Napoleon Dynamite', 'Moon', 'Little Miss Sunshine', 'Interstellar', 'Inception', 'Gremlins', 'Fight Club', 'Fargo', 'Last Days', 'Donnie Darko', 'Being John Malkovich', 'Beasts of the Southern Wild', 'Back to the Future', 'My Neighbor Totoro']\n"
     ]
    }
   ],
   "source": [
    "del movies[9]\n",
    "print(movies)"
   ]
  },
  {
   "cell_type": "markdown",
   "id": "64648d82",
   "metadata": {
    "slideshow": {
     "slide_type": "subslide"
    }
   },
   "source": [
    "If there are multiple `elements` you want to remove, you can make use of `slicing` again. For example, our `snack` `list` has multiple `elements` with the `value` `chocolate`. Nothing against `chocolate`, but you might want to have this `value` only once in our `list`. To achieve that, we basically combine `slicing` and `del` via indicating what `indices` should be removed:"
   ]
  },
  {
   "cell_type": "code",
   "execution_count": 137,
   "id": "2c6b030a",
   "metadata": {
    "slideshow": {
     "slide_type": "fragment"
    }
   },
   "outputs": [
    {
     "name": "stdout",
     "output_type": "stream",
     "text": [
      "['carrots', 'chocolate', 'coconut', 'dark chocolate', 'dried mango', 'fruit', 'hummus', 'maple syrup candy', 'mochi', 'nigiri', 'nori', 'pancakes', 'peanuts', 'pineapple', 'plantain', 'sushi', 'too complicated', 'wasabi peanuts']\n"
     ]
    }
   ],
   "source": [
    "del snacks[2:4]\n",
    "print(snacks)"
   ]
  },
  {
   "cell_type": "markdown",
   "id": "9726db9d",
   "metadata": {
    "slideshow": {
     "slide_type": "subslide"
    }
   },
   "source": [
    "`List`s play a very important role in `python` and are for example used in `loops` and other `flow control structures` (discussed in the next session). There are a number of convenient `functions` for generating `list`s of various `types`, for example, the `range` function (note that in `Python 3` `range` creates a generator, so you have to use the `list` `function` to convert the output to a `list`). Creating a `list` that ranges from `10` to `50` advancing in steps of `2` is as easy as:"
   ]
  },
  {
   "cell_type": "code",
   "execution_count": 138,
   "id": "278ecca3",
   "metadata": {
    "slideshow": {
     "slide_type": "fragment"
    }
   },
   "outputs": [
    {
     "data": {
      "text/plain": [
       "[10,\n",
       " 12,\n",
       " 14,\n",
       " 16,\n",
       " 18,\n",
       " 20,\n",
       " 22,\n",
       " 24,\n",
       " 26,\n",
       " 28,\n",
       " 30,\n",
       " 32,\n",
       " 34,\n",
       " 36,\n",
       " 38,\n",
       " 40,\n",
       " 42,\n",
       " 44,\n",
       " 46,\n",
       " 48]"
      ]
     },
     "execution_count": 138,
     "metadata": {},
     "output_type": "execute_result"
    }
   ],
   "source": [
    "start = 10\n",
    "stop = 50\n",
    "step = 2\n",
    "\n",
    "list(range(start, stop, step))"
   ]
  },
  {
   "cell_type": "markdown",
   "id": "ff013c1d",
   "metadata": {
    "slideshow": {
     "slide_type": "subslide"
    }
   },
   "source": [
    "This can be very handy if you want to create `participant list`s and/or `condition list`s for your experiment and/or analyzes."
   ]
  },
  {
   "cell_type": "markdown",
   "id": "84f32c6e",
   "metadata": {
    "slideshow": {
     "slide_type": "subslide"
    }
   },
   "source": [
    "##### Exercise 6.1 \n",
    "\n",
    "Create a `variable` called `rare_animals` that stores the following `values`: 'Addax', 'Black-footed Ferret', 'Northern Bald Ibis', 'Cross River Gorilla', 'Saola', 'Amur Leopard', 'Philippine Crocodile', 'Sumatran Rhino', 'South China Tiger', 'Vaquita'. After that, please count how many `elements` the `list` has and provide the info within the following statement: \"There are [insert number of elements here] animals in the list.\"     "
   ]
  },
  {
   "cell_type": "code",
   "execution_count": 140,
   "id": "3fd8bc00",
   "metadata": {
    "solution2": "hidden",
    "solution2_first": true
   },
   "outputs": [],
   "source": [
    "# Please write your solution here"
   ]
  },
  {
   "cell_type": "code",
   "execution_count": 141,
   "id": "f63f2229",
   "metadata": {
    "solution2": "hidden"
   },
   "outputs": [
    {
     "name": "stdout",
     "output_type": "stream",
     "text": [
      "There are 10 animals in the list.\n"
     ]
    }
   ],
   "source": [
    "rare_animals = ['Addax', 'Black-footed Ferret', 'Northern Bald Ibis', 'Cross River Gorilla', 'Saola', 'Amur Leopard', 'Philippine Crocodile', 'Sumatran Rhino', 'South China Tiger', 'Vaquita']\n",
    "print(\"There are %s animals in the list.\" %len(rare_animals))"
   ]
  },
  {
   "cell_type": "markdown",
   "id": "b1d55b62",
   "metadata": {
    "slideshow": {
     "slide_type": "subslide"
    }
   },
   "source": [
    "##### Exercise 6.2\n",
    "\n",
    "Please add 'Manatee' to the list and subsequently evaluate how many unique `elements` the list has. "
   ]
  },
  {
   "cell_type": "code",
   "execution_count": 142,
   "id": "5a5b6c48",
   "metadata": {
    "solution2": "hidden",
    "solution2_first": true
   },
   "outputs": [],
   "source": [
    "# Please write your solution here"
   ]
  },
  {
   "cell_type": "code",
   "execution_count": 94,
   "id": "5b5594a6",
   "metadata": {
    "solution2": "hidden"
   },
   "outputs": [
    {
     "data": {
      "text/plain": [
       "11"
      ]
     },
     "execution_count": 94,
     "metadata": {},
     "output_type": "execute_result"
    }
   ],
   "source": [
    "rare_animals.append('Manatee')\n",
    "len(set(rare_animals))"
   ]
  },
  {
   "cell_type": "markdown",
   "id": "49028303",
   "metadata": {
    "slideshow": {
     "slide_type": "subslide"
    }
   },
   "source": [
    "##### Exercise 6.3\n",
    "\n",
    "Learning that the `manatee` is not endangered anymore, please remove it from the list. Unfortunately, we have to add \"Giant Panda\". Could you please do that at `index` `3`."
   ]
  },
  {
   "cell_type": "code",
   "execution_count": 144,
   "id": "93a181f7",
   "metadata": {
    "solution2": "hidden",
    "solution2_first": true
   },
   "outputs": [],
   "source": [
    "# Please write your solution here"
   ]
  },
  {
   "cell_type": "code",
   "execution_count": 145,
   "id": "f4be135d",
   "metadata": {
    "solution2": "hidden"
   },
   "outputs": [
    {
     "ename": "ValueError",
     "evalue": "list.remove(x): x not in list",
     "output_type": "error",
     "traceback": [
      "\u001b[0;31m---------------------------------------------------------------------------\u001b[0m",
      "\u001b[0;31mValueError\u001b[0m                                Traceback (most recent call last)",
      "\u001b[0;32m<ipython-input-145-18196b5953de>\u001b[0m in \u001b[0;36m<module>\u001b[0;34m\u001b[0m\n\u001b[0;32m----> 1\u001b[0;31m \u001b[0mrare_animals\u001b[0m\u001b[0;34m.\u001b[0m\u001b[0mremove\u001b[0m\u001b[0;34m(\u001b[0m\u001b[0;34m'Manatee'\u001b[0m\u001b[0;34m)\u001b[0m \u001b[0;31m# or del rare_animals[11]\u001b[0m\u001b[0;34m\u001b[0m\u001b[0;34m\u001b[0m\u001b[0m\n\u001b[0m\u001b[1;32m      2\u001b[0m \u001b[0mrare_animals\u001b[0m\u001b[0;34m.\u001b[0m\u001b[0minsert\u001b[0m\u001b[0;34m(\u001b[0m\u001b[0;36m2\u001b[0m\u001b[0;34m,\u001b[0m \u001b[0;34m'Giant Panda'\u001b[0m\u001b[0;34m)\u001b[0m\u001b[0;34m\u001b[0m\u001b[0;34m\u001b[0m\u001b[0m\n\u001b[1;32m      3\u001b[0m \u001b[0mrare_animals\u001b[0m\u001b[0;34m\u001b[0m\u001b[0;34m\u001b[0m\u001b[0m\n",
      "\u001b[0;31mValueError\u001b[0m: list.remove(x): x not in list"
     ]
    }
   ],
   "source": [
    "rare_animals.remove('Manatee') # or del rare_animals[11]\n",
    "rare_animals.insert(2, 'Giant Panda')\n",
    "rare_animals"
   ]
  },
  {
   "cell_type": "markdown",
   "id": "2a4167b9",
   "metadata": {
    "slideshow": {
     "slide_type": "subslide"
    }
   },
   "source": [
    "### Tuples\n",
    "\n",
    "`Tuples` are like `lists`, except that they cannot be modified once created, that is they are **immutable**. \n",
    "\n",
    "</br>\n",
    "<center><img src=\"https://raw.githubusercontent.com/PeerHerholz/Python_for_Psychologists_Winter2021/master/lecture/static/python_data_types_2.png\"></center>\n",
    "\n",
    "In `python`, `tuples` are created using the syntax `(..., ..., ...)`, or even `..., ...`:"
   ]
  },
  {
   "cell_type": "code",
   "execution_count": 146,
   "id": "7611dd36",
   "metadata": {
    "slideshow": {
     "slide_type": "subslide"
    }
   },
   "outputs": [
    {
     "name": "stdout",
     "output_type": "stream",
     "text": [
      "<class 'tuple'>\n",
      "(10, 20, 'Whoa another thing')\n"
     ]
    }
   ],
   "source": [
    "point = (10, 20, 'Whoa another thing')\n",
    "print(type(point))\n",
    "print(point)"
   ]
  },
  {
   "cell_type": "markdown",
   "id": "d0c9bb37",
   "metadata": {
    "slideshow": {
     "slide_type": "fragment"
    }
   },
   "source": [
    "`Elements` of `tuples` can also be referenced via their respective `index`:"
   ]
  },
  {
   "cell_type": "code",
   "execution_count": 147,
   "id": "02b5598a",
   "metadata": {},
   "outputs": [
    {
     "name": "stdout",
     "output_type": "stream",
     "text": [
      "10\n",
      "20\n",
      "Whoa another thing\n"
     ]
    }
   ],
   "source": [
    "print(point[0])\n",
    "print(point[1])\n",
    "print(point[2])"
   ]
  },
  {
   "cell_type": "markdown",
   "id": "60281772",
   "metadata": {
    "slideshow": {
     "slide_type": "subslide"
    }
   },
   "source": [
    "However, as mentioned above, if we try to `assign` a new `value` to an `element` in a `tuple` we get an `error`:"
   ]
  },
  {
   "cell_type": "code",
   "execution_count": 148,
   "id": "2041a03d",
   "metadata": {
    "slideshow": {
     "slide_type": "fragment"
    }
   },
   "outputs": [
    {
     "name": "stdout",
     "output_type": "stream",
     "text": [
      "TypeError: 'tuple' object does not support item assignment\n"
     ]
    }
   ],
   "source": [
    "try:\n",
    "    point[0] = 20\n",
    "except(TypeError) as er:\n",
    "    print(\"TypeError:\", er)\n",
    "else:\n",
    "    raise"
   ]
  },
  {
   "cell_type": "markdown",
   "id": "88fb8368",
   "metadata": {
    "slideshow": {
     "slide_type": "subslide"
    }
   },
   "source": [
    "Thus, `tuples` also don't have the set of `functions` to modify `elements` `lists` do."
   ]
  },
  {
   "cell_type": "markdown",
   "id": "b3caaba8",
   "metadata": {
    "slideshow": {
     "slide_type": "subslide"
    }
   },
   "source": [
    "##### Exercise 7.1\n",
    "\n",
    "Please create a `tuple` called `deep_thought` with the following `values`: 'answer', `42`."
   ]
  },
  {
   "cell_type": "code",
   "execution_count": 149,
   "id": "1ea87d26",
   "metadata": {
    "solution2": "hidden",
    "solution2_first": true
   },
   "outputs": [],
   "source": [
    "# Please write your solution here"
   ]
  },
  {
   "cell_type": "code",
   "execution_count": 101,
   "id": "77df829a",
   "metadata": {
    "solution2": "hidden"
   },
   "outputs": [
    {
     "data": {
      "text/plain": [
       "('answer', 42)"
      ]
     },
     "execution_count": 101,
     "metadata": {},
     "output_type": "execute_result"
    }
   ],
   "source": [
    "deep_thought = ('answer', 42)\n",
    "deep_thought"
   ]
  },
  {
   "cell_type": "markdown",
   "id": "50425b51",
   "metadata": {
    "slideshow": {
     "slide_type": "subslide"
    }
   },
   "source": [
    "### Dictionaries\n",
    "\n",
    "`Dictionaries` are also like `lists`, except that each element is a `key-value pair`. That is, `elements` or `entries` of the `dictionary`, the `values`, can only be assessed via their respective `key` and not via `indexing`, `slicing`, etc. . \n",
    "\n",
    "</br>\n",
    "<center><img src=\"https://raw.githubusercontent.com/PeerHerholz/Python_for_Psychologists_Winter2021/master/lecture/static/python_data_types_2.png\"></center>\n",
    "\n",
    "The syntax for dictionaries is `{key1 : value1, ...}`."
   ]
  },
  {
   "cell_type": "markdown",
   "id": "ae187a6b",
   "metadata": {
    "slideshow": {
     "slide_type": "subslide"
    }
   },
   "source": [
    "`Dictionaries` are fantastic if you need to organize your data in a highly `structured` way where a precise mapping of a multiple of `type`s is crucial and `list`s might be insufficient. For example, we want to have the information we assessed above for our `list`s in a detailed and holistic manner. Instead of specifying multiple `list`s and `variables`, we could also create a `dictionary` that comprises all of that information."
   ]
  },
  {
   "cell_type": "code",
   "execution_count": 150,
   "id": "6308c805",
   "metadata": {
    "slideshow": {
     "slide_type": "fragment"
    }
   },
   "outputs": [
    {
     "name": "stdout",
     "output_type": "stream",
     "text": [
      "<class 'dict'>\n",
      "{'n_responses': 19, 'n_responses_unique': 19, 'responses': ['Trainspotting', 'The Big Lebowski', 'Shutter Island', 'Shindlers List', 'Nomadland', 'Napoleon Dynamite', 'Moon', 'Little Miss Sunshine', 'Interstellar', 'Inception', 'Gremlins', 'Fight Club', 'Fargo', 'Last Days', 'Donnie Darko', 'Being John Malkovich', 'Beasts of the Southern Wild', 'Back to the Future', 'My Neighbor Totoro']}\n"
     ]
    }
   ],
   "source": [
    "movie_info = {\"n_responses\" :        len(movies),\n",
    "              \"n_responses_unique\" : len(set(movies)),\n",
    "              \"responses\" :          movies}\n",
    "\n",
    "print(type(movie_info))\n",
    "print(movie_info)"
   ]
  },
  {
   "cell_type": "markdown",
   "id": "828ca592",
   "metadata": {
    "slideshow": {
     "slide_type": "subslide"
    }
   },
   "source": [
    "See how great this is? We have everything in one place and can access the information we need/want via the respective `key`."
   ]
  },
  {
   "cell_type": "code",
   "execution_count": 151,
   "id": "342e5723",
   "metadata": {
    "slideshow": {
     "slide_type": "fragment"
    }
   },
   "outputs": [
    {
     "data": {
      "text/plain": [
       "19"
      ]
     },
     "execution_count": 151,
     "metadata": {},
     "output_type": "execute_result"
    }
   ],
   "source": [
    "movie_info['n_responses']"
   ]
  },
  {
   "cell_type": "code",
   "execution_count": 152,
   "id": "46aa849d",
   "metadata": {
    "slideshow": {
     "slide_type": "fragment"
    }
   },
   "outputs": [
    {
     "data": {
      "text/plain": [
       "19"
      ]
     },
     "execution_count": 152,
     "metadata": {},
     "output_type": "execute_result"
    }
   ],
   "source": [
    "movie_info['n_responses_unique']"
   ]
  },
  {
   "cell_type": "code",
   "execution_count": 153,
   "id": "b758a77b",
   "metadata": {
    "slideshow": {
     "slide_type": "fragment"
    }
   },
   "outputs": [
    {
     "data": {
      "text/plain": [
       "['Trainspotting',\n",
       " 'The Big Lebowski',\n",
       " 'Shutter Island',\n",
       " 'Shindlers List',\n",
       " 'Nomadland',\n",
       " 'Napoleon Dynamite',\n",
       " 'Moon',\n",
       " 'Little Miss Sunshine',\n",
       " 'Interstellar',\n",
       " 'Inception',\n",
       " 'Gremlins',\n",
       " 'Fight Club',\n",
       " 'Fargo',\n",
       " 'Last Days',\n",
       " 'Donnie Darko',\n",
       " 'Being John Malkovich',\n",
       " 'Beasts of the Southern Wild',\n",
       " 'Back to the Future',\n",
       " 'My Neighbor Totoro']"
      ]
     },
     "execution_count": 153,
     "metadata": {},
     "output_type": "execute_result"
    }
   ],
   "source": [
    "movie_info['responses']"
   ]
  },
  {
   "cell_type": "markdown",
   "id": "45e6dcdb",
   "metadata": {
    "slideshow": {
     "slide_type": "subslide"
    }
   },
   "source": [
    "As you can see and mentioned before: like `list`s, each `value` of a `dictionary` can entail various `types`: `integer`, `float`, `string` and even `data types`: `list`s, `tuples`, etc. . However, in contrast to `list`s, we can access `entries` can only via their `key name` and not `indices`:"
   ]
  },
  {
   "cell_type": "code",
   "execution_count": 154,
   "id": "a588da38",
   "metadata": {
    "slideshow": {
     "slide_type": "fragment"
    }
   },
   "outputs": [
    {
     "ename": "KeyError",
     "evalue": "1",
     "output_type": "error",
     "traceback": [
      "\u001b[0;31m---------------------------------------------------------------------------\u001b[0m",
      "\u001b[0;31mKeyError\u001b[0m                                  Traceback (most recent call last)",
      "\u001b[0;32m<ipython-input-154-bb9f3b0526ee>\u001b[0m in \u001b[0;36m<module>\u001b[0;34m\u001b[0m\n\u001b[0;32m----> 1\u001b[0;31m \u001b[0mmovie_info\u001b[0m\u001b[0;34m[\u001b[0m\u001b[0;36m1\u001b[0m\u001b[0;34m]\u001b[0m\u001b[0;34m\u001b[0m\u001b[0;34m\u001b[0m\u001b[0m\n\u001b[0m",
      "\u001b[0;31mKeyError\u001b[0m: 1"
     ]
    }
   ],
   "source": [
    "movie_info[1]"
   ]
  },
  {
   "cell_type": "markdown",
   "id": "188d9b7a",
   "metadata": {
    "slideshow": {
     "slide_type": "fragment"
    }
   },
   "source": [
    "If you try that, you'll get a `KeyError` indicating that the `key` whose `value` you want to access doesn't exist.\n",
    "If you're uncertain about the `keys` in your `dictionary`, you can get a `list` of all of them via `dictionary.keys()`:"
   ]
  },
  {
   "cell_type": "code",
   "execution_count": 155,
   "id": "57b96576",
   "metadata": {
    "slideshow": {
     "slide_type": "fragment"
    }
   },
   "outputs": [
    {
     "data": {
      "text/plain": [
       "dict_keys(['n_responses', 'n_responses_unique', 'responses'])"
      ]
     },
     "execution_count": 155,
     "metadata": {},
     "output_type": "execute_result"
    }
   ],
   "source": [
    "movie_info.keys()"
   ]
  },
  {
   "cell_type": "markdown",
   "id": "7e0b3d26",
   "metadata": {
    "slideshow": {
     "slide_type": "subslide"
    }
   },
   "source": [
    "Comparably, if you want to get all the `values`, you can use `dictionary.values()` to obtain a respective `list`:"
   ]
  },
  {
   "cell_type": "code",
   "execution_count": 156,
   "id": "5a04284a",
   "metadata": {
    "slideshow": {
     "slide_type": "fragment"
    }
   },
   "outputs": [
    {
     "data": {
      "text/plain": [
       "dict_values([19, 19, ['Trainspotting', 'The Big Lebowski', 'Shutter Island', 'Shindlers List', 'Nomadland', 'Napoleon Dynamite', 'Moon', 'Little Miss Sunshine', 'Interstellar', 'Inception', 'Gremlins', 'Fight Club', 'Fargo', 'Last Days', 'Donnie Darko', 'Being John Malkovich', 'Beasts of the Southern Wild', 'Back to the Future', 'My Neighbor Totoro']])"
      ]
     },
     "execution_count": 156,
     "metadata": {},
     "output_type": "execute_result"
    }
   ],
   "source": [
    "movie_info.values()"
   ]
  },
  {
   "cell_type": "markdown",
   "id": "103323c9",
   "metadata": {
    "slideshow": {
     "slide_type": "subslide"
    }
   },
   "source": [
    "Assuming you want to add new information to your `dictionary`, i.e. a new `key`, this can directly be done via `dictionary[new_key] = value`. For example, you run some stats on our `list` of `movies` and determined that this selection is `significantly awesome` with a `p value` of `0.000001`, we can easily add this to our `dictionary`:"
   ]
  },
  {
   "cell_type": "code",
   "execution_count": 157,
   "id": "c0f80f6d",
   "metadata": {
    "slideshow": {
     "slide_type": "fragment"
    }
   },
   "outputs": [
    {
     "data": {
      "text/plain": [
       "{'n_responses': 19,\n",
       " 'n_responses_unique': 19,\n",
       " 'responses': ['Trainspotting',\n",
       "  'The Big Lebowski',\n",
       "  'Shutter Island',\n",
       "  'Shindlers List',\n",
       "  'Nomadland',\n",
       "  'Napoleon Dynamite',\n",
       "  'Moon',\n",
       "  'Little Miss Sunshine',\n",
       "  'Interstellar',\n",
       "  'Inception',\n",
       "  'Gremlins',\n",
       "  'Fight Club',\n",
       "  'Fargo',\n",
       "  'Last Days',\n",
       "  'Donnie Darko',\n",
       "  'Being John Malkovich',\n",
       "  'Beasts of the Southern Wild',\n",
       "  'Back to the Future',\n",
       "  'My Neighbor Totoro'],\n",
       " 'movie_selection_awesome': True,\n",
       " 'movie_selection_awesome_p_value': 1e-06}"
      ]
     },
     "execution_count": 157,
     "metadata": {},
     "output_type": "execute_result"
    }
   ],
   "source": [
    "movie_info['movie_selection_awesome'] = True\n",
    "movie_info['movie_selection_awesome_p_value'] = 0.000001\n",
    "movie_info"
   ]
  },
  {
   "cell_type": "markdown",
   "id": "186e683b",
   "metadata": {
    "slideshow": {
     "slide_type": "subslide"
    }
   },
   "source": [
    "As with `list`s, the `value` of a given `element`, here `entry` can be modified and deleted. This means they are `mutable`. If we for example forgot to correct our `p value` for `multiple comparisons`, we can simply overwrite the original with corrected one: "
   ]
  },
  {
   "cell_type": "code",
   "execution_count": 158,
   "id": "12cb05ca",
   "metadata": {},
   "outputs": [
    {
     "data": {
      "text/plain": [
       "{'n_responses': 19,\n",
       " 'n_responses_unique': 19,\n",
       " 'responses': ['Trainspotting',\n",
       "  'The Big Lebowski',\n",
       "  'Shutter Island',\n",
       "  'Shindlers List',\n",
       "  'Nomadland',\n",
       "  'Napoleon Dynamite',\n",
       "  'Moon',\n",
       "  'Little Miss Sunshine',\n",
       "  'Interstellar',\n",
       "  'Inception',\n",
       "  'Gremlins',\n",
       "  'Fight Club',\n",
       "  'Fargo',\n",
       "  'Last Days',\n",
       "  'Donnie Darko',\n",
       "  'Being John Malkovich',\n",
       "  'Beasts of the Southern Wild',\n",
       "  'Back to the Future',\n",
       "  'My Neighbor Totoro'],\n",
       " 'movie_selection_awesome': True,\n",
       " 'movie_selection_awesome_p_value': 0.001}"
      ]
     },
     "execution_count": 158,
     "metadata": {},
     "output_type": "execute_result"
    }
   ],
   "source": [
    "movie_info['movie_selection_awesome_p_value'] = 0.001\n",
    "movie_info"
   ]
  },
  {
   "cell_type": "markdown",
   "id": "2c6f4214",
   "metadata": {
    "slideshow": {
     "slide_type": "subslide"
    }
   },
   "source": [
    "Assuming we then want to delete the `p value` from our `dictionary` because we remembered that the sole focus on `significance` and `p values` brought the entirety of science down to a very bad place, we can achieve this via:"
   ]
  },
  {
   "cell_type": "code",
   "execution_count": 159,
   "id": "961234d1",
   "metadata": {
    "slideshow": {
     "slide_type": "fragment"
    }
   },
   "outputs": [
    {
     "data": {
      "text/plain": [
       "{'n_responses': 19,\n",
       " 'n_responses_unique': 19,\n",
       " 'responses': ['Trainspotting',\n",
       "  'The Big Lebowski',\n",
       "  'Shutter Island',\n",
       "  'Shindlers List',\n",
       "  'Nomadland',\n",
       "  'Napoleon Dynamite',\n",
       "  'Moon',\n",
       "  'Little Miss Sunshine',\n",
       "  'Interstellar',\n",
       "  'Inception',\n",
       "  'Gremlins',\n",
       "  'Fight Club',\n",
       "  'Fargo',\n",
       "  'Last Days',\n",
       "  'Donnie Darko',\n",
       "  'Being John Malkovich',\n",
       "  'Beasts of the Southern Wild',\n",
       "  'Back to the Future',\n",
       "  'My Neighbor Totoro'],\n",
       " 'movie_selection_awesome': True}"
      ]
     },
     "execution_count": 159,
     "metadata": {},
     "output_type": "execute_result"
    }
   ],
   "source": [
    "del movie_info['movie_selection_awesome_p_value']\n",
    "movie_info"
   ]
  },
  {
   "cell_type": "markdown",
   "id": "5d3f54ba",
   "metadata": {
    "slideshow": {
     "slide_type": "subslide"
    }
   },
   "source": [
    "##### Exercise 8.1\n",
    "\n",
    "Oh damn, we completely forgot to create a comparable `dictionary` for our `snacks` `list`. How would create one that follows the example from the `movie` `list`? NB: you can skip the `p value` right away: "
   ]
  },
  {
   "cell_type": "code",
   "execution_count": 160,
   "id": "153e693d",
   "metadata": {
    "solution2": "hidden",
    "solution2_first": true
   },
   "outputs": [],
   "source": [
    "# Please write your solution here"
   ]
  },
  {
   "cell_type": "code",
   "execution_count": null,
   "id": "d9c0d8ca",
   "metadata": {
    "solution2": "hidden"
   },
   "outputs": [],
   "source": [
    "snack_info = {\"n_responses\" :            len(snacks),\n",
    "              \"n_responses_unique\" :     len(set(snacks)),\n",
    "              \"responses\" :              snacks,\n",
    "              \"snack_selection_awesome\": True}\n",
    "\n",
    "print(type(snack_info))\n",
    "print(snack_info)"
   ]
  },
  {
   "cell_type": "markdown",
   "id": "e61da484",
   "metadata": {
    "slideshow": {
     "slide_type": "subslide"
    }
   },
   "source": [
    "##### Exercise 8.2 \n",
    "\n",
    "Obviously, we would love to do the same thing for our `list` of `animals` again!"
   ]
  },
  {
   "cell_type": "code",
   "execution_count": 161,
   "id": "85235903",
   "metadata": {
    "solution2": "hidden",
    "solution2_first": true
   },
   "outputs": [],
   "source": [
    "# Please write your solution here"
   ]
  },
  {
   "cell_type": "code",
   "execution_count": null,
   "id": "3c5ea704",
   "metadata": {
    "solution2": "hidden"
   },
   "outputs": [],
   "source": [
    "animal_info = {\"n_responses\" :            len(animals),\n",
    "              \"n_responses_unique\" :      len(set(animals)),\n",
    "              \"responses\" :               animals,\n",
    "              \"animal_selection_awesome\": True}\n",
    "\n",
    "print(type(animal_info))\n",
    "print(animal_info)"
   ]
  },
  {
   "cell_type": "markdown",
   "id": "d7b51467",
   "metadata": {
    "slideshow": {
     "slide_type": "subslide"
    }
   },
   "source": [
    "### Everything is an object in Python\n",
    "\n",
    "* All of these `data types` are actually just `objects` in `python`\n",
    "* *Everything* is an object in `python`!\n",
    "* The `operations` you can perform with a `variable` depend on the `object`'s definition\n",
    "* E.g., the `multiplication operator` `*` is defined for some `objects` but not others\n",
    "\n",
    "</br>\n",
    "<center><img src=\"https://raw.githubusercontent.com/PeerHerholz/Python_for_Psychologists_Winter2021/master/lecture/static/python_data_types_2.png\"></center>"
   ]
  },
  {
   "cell_type": "markdown",
   "id": "dcf1ff7e",
   "metadata": {
    "slideshow": {
     "slide_type": "slide"
    }
   },
   "source": [
    "# Indentation & Control Flow\n",
    "\n",
    "## Indentation\n",
    "\n",
    "`Python` uses `whitespaces` to define `code blocks`. Using `whitespaces` at the beginning of a line is the `indentation`. This means that a `codeblock` that is `indented` with the same number of leading `whitespaces` or `tabs` should be run together. In other words: the `indentation` is part of the `syntax` in `python` and one of the major distinctions regarding other programming languages like, e.g. `Matlab`.  \n",
    "\n",
    "Usually in `Python` we use `four whitespaces` for `indentation` of `codeblocks`.\n",
    "\n",
    "Let's see what that means:"
   ]
  },
  {
   "cell_type": "code",
   "execution_count": 162,
   "id": "e8b4008e",
   "metadata": {
    "slideshow": {
     "slide_type": "subslide"
    }
   },
   "outputs": [],
   "source": [
    "days_til_christmas = 15\n",
    "current_weekday = 'Thursday'"
   ]
  },
  {
   "cell_type": "markdown",
   "id": "f5a9cf39",
   "metadata": {
    "slideshow": {
     "slide_type": "fragment"
    }
   },
   "source": [
    "Each such set of statements is called a block, meaning that the lines/`variable` assignments will be run together. We will see examples of how blocks are important later on. What happens when we introduce a \"wrong\" `indentation`?"
   ]
  },
  {
   "cell_type": "code",
   "execution_count": 163,
   "id": "c4ee7504",
   "metadata": {
    "slideshow": {
     "slide_type": "fragment"
    }
   },
   "outputs": [
    {
     "ename": "IndentationError",
     "evalue": "unexpected indent (<ipython-input-163-dbfed901ebe4>, line 2)",
     "output_type": "error",
     "traceback": [
      "\u001b[0;36m  File \u001b[0;32m\"<ipython-input-163-dbfed901ebe4>\"\u001b[0;36m, line \u001b[0;32m2\u001b[0m\n\u001b[0;31m    current_day = 'Thursday'\u001b[0m\n\u001b[0m    ^\u001b[0m\n\u001b[0;31mIndentationError\u001b[0m\u001b[0;31m:\u001b[0m unexpected indent\n"
     ]
    }
   ],
   "source": [
    "days_til_christmas = 15\n",
    "  current_day = 'Thursday'"
   ]
  },
  {
   "cell_type": "markdown",
   "id": "50473265",
   "metadata": {
    "slideshow": {
     "slide_type": "fragment"
    }
   },
   "source": [
    "One thing you should remember is that a wrong `indentation` raises an `IndentationError`."
   ]
  },
  {
   "cell_type": "markdown",
   "id": "e05843aa",
   "metadata": {
    "slideshow": {
     "slide_type": "slide"
    }
   },
   "source": [
    "## Control Flow & structures\n",
    "\n",
    "* programming language, i.e. `python`, features that allow us to `control` how code is `executed`\n",
    "* Conditionals (`if` - `else` statements statements)\n",
    "* Iteration (e.g., `for`-loops, `while` statements…)\n",
    "* [Read more here](https://docs.python.org/3/tutorial/controlflow.html)"
   ]
  },
  {
   "cell_type": "markdown",
   "id": "e7974806",
   "metadata": {
    "slideshow": {
     "slide_type": "subslide"
    }
   },
   "source": [
    "## Conditional statements: if, elif, else\n",
    "\n",
    "The `python syntax` for `conditional execution` of `code` use the keywords `if`, `elif` (else if), `else`:\n",
    "\n",
    "<center><img src=\"https://www.learnbyexample.org/wp-content/uploads/python/Python-elif-Statement-Syntax.png\" width=600></center>\n",
    "<center><small><small><small>https://www.learnbyexample.org/wp-content/uploads/python/Python-elif-Statement-Syntax.png</small></small></small></center>\n"
   ]
  },
  {
   "cell_type": "markdown",
   "id": "854ba60e",
   "metadata": {
    "slideshow": {
     "slide_type": "subslide"
    }
   },
   "source": [
    "<center><img src=\"https://www.alphacodingskills.com/python/img/python-if-elif-else.png\" width=600></center>\n",
    "<center><small><small><small>https://www.alphacodingskills.com/python/img/python-if-elif-else.png</small></small></small></center>"
   ]
  },
  {
   "cell_type": "code",
   "execution_count": null,
   "id": "85c03401",
   "metadata": {
    "slideshow": {
     "slide_type": "slide"
    }
   },
   "outputs": [],
   "source": [
    "statement1 = False\n",
    "statement2 = False\n",
    "\n",
    "if statement1:\n",
    "    print(\"statement1 is True\")\n",
    "    \n",
    "elif statement2:\n",
    "    print(\"statement2 is True\")\n",
    "    \n",
    "else:\n",
    "    print(\"statement1 and statement2 are False\")"
   ]
  },
  {
   "cell_type": "markdown",
   "id": "2266d20e",
   "metadata": {
    "slideshow": {
     "slide_type": "slide"
    }
   },
   "source": [
    "For the first time, here we encountered a peculiar and unusual aspect of the Python programming language: Program blocks are defined by their indentation level. In Python, the extent of a code block is defined by the indentation level (usually a tab or say four white spaces). This means that we have to be careful to indent our code correctly, or else we will get syntax errors. \n",
    "\n",
    "**Examples:**"
   ]
  },
  {
   "cell_type": "code",
   "execution_count": null,
   "id": "72d4a605",
   "metadata": {
    "slideshow": {
     "slide_type": "fragment"
    }
   },
   "outputs": [],
   "source": [
    "# Good indentation\n",
    "statement1 = statement2 = True\n",
    "\n",
    "if statement1:\n",
    "    if statement2:\n",
    "        print(\"both statement1 and statement2 are True\")"
   ]
  },
  {
   "cell_type": "code",
   "execution_count": null,
   "id": "af99d75b",
   "metadata": {
    "slideshow": {
     "slide_type": "fragment"
    }
   },
   "outputs": [],
   "source": [
    "# Bad indentation! This would lead to error\n",
    "if statement1:\n",
    "    if statement2:\n",
    "    print(\"both statement1 and statement2 are True\")  # this line is not properly indented"
   ]
  },
  {
   "cell_type": "code",
   "execution_count": null,
   "id": "09edef03",
   "metadata": {
    "slideshow": {
     "slide_type": "subslide"
    }
   },
   "outputs": [],
   "source": [
    "statement1 = False \n",
    "\n",
    "if statement1:\n",
    "    print(\"printed if statement1 is True\")\n",
    "    \n",
    "    print(\"still inside the if block\")"
   ]
  },
  {
   "cell_type": "code",
   "execution_count": null,
   "id": "a8d2178b",
   "metadata": {
    "slideshow": {
     "slide_type": "fragment"
    }
   },
   "outputs": [],
   "source": [
    "if statement1:\n",
    "    print(\"printed if statement1 is True\")\n",
    "    \n",
    "print(\"now outside the if block\")"
   ]
  },
  {
   "cell_type": "code",
   "execution_count": null,
   "id": "dc2f39cb",
   "metadata": {
    "slideshow": {
     "slide_type": "fragment"
    }
   },
   "outputs": [],
   "source": [
    "# We can even combine statements\n",
    "if statement1 and statement2:\n",
    "    print(\"printed if statement1 and statement2 are True\")\n",
    "elif statement1 or statement2:\n",
    "    print(\"printed if either statement1 or statement2 is True\")\n",
    "else:\n",
    "    print(\"printed if no statement is True\")"
   ]
  },
  {
   "cell_type": "markdown",
   "id": "228ac6c2",
   "metadata": {
    "slideshow": {
     "slide_type": "slide"
    }
   },
   "source": [
    "##### Exercise 1.1\n",
    "\n",
    "\n",
    "You want to go to the cinema, but you first need to check whether you have enough money. First define a variable indicating the amount of money in your wallet `money_in_wallet` as 6 EUR and the ticket price for the cinema `ticket_price` as 10 EUR. Indicate with a print statement if you can go to the cinema"
   ]
  },
  {
   "cell_type": "code",
   "execution_count": null,
   "id": "030c7fec",
   "metadata": {
    "solution2": "hidden",
    "solution2_first": true
   },
   "outputs": [],
   "source": [
    "### Write your solution here ###\n"
   ]
  },
  {
   "cell_type": "code",
   "execution_count": null,
   "id": "74a042fc",
   "metadata": {
    "slideshow": {
     "slide_type": "slide"
    },
    "solution2": "hidden"
   },
   "outputs": [],
   "source": [
    "money_in_wallet = 6\n",
    "price_of_ticket = 10\n",
    "\n",
    "\n",
    "if money_in_wallet >= price_of_ticket:\n",
    "    print(\"Let's go to the cinema\")\n",
    "else:\n",
    "    print(\"I have to stay home :(\")"
   ]
  },
  {
   "cell_type": "markdown",
   "id": "2ab57b46",
   "metadata": {
    "slideshow": {
     "slide_type": "subslide"
    }
   },
   "source": [
    "#### Exercise 1.2\n",
    "\n",
    "\n",
    "Different films cost different amounts of money. Use if statements to tests which films you can afford and print them. The films cost:\n",
    "\n",
    "- James Bond: 15 EUR\n",
    "- Spider Man - No Way Home: 11 EUR\n",
    "- Dune: 6 EUR\n",
    "- Ghostbusters: 5 EUR\n",
    "\n",
    "Note: as always in coding, there are several ways to get the right solution. "
   ]
  },
  {
   "cell_type": "code",
   "execution_count": null,
   "id": "d742e429",
   "metadata": {
    "solution2": "hidden",
    "solution2_first": true
   },
   "outputs": [],
   "source": [
    "### Write your solution here ###\n"
   ]
  },
  {
   "cell_type": "code",
   "execution_count": null,
   "id": "e2251eeb",
   "metadata": {
    "solution2": "hidden"
   },
   "outputs": [],
   "source": [
    "# possible solution one\n",
    "\n",
    "if money_in_wallet >= 15:\n",
    "    print('I can watch every film: James Bond, Spider Man, Dune & Ghostbusters')\n",
    "elif money_in_wallet >= 11:\n",
    "    print('I can watch Spider Man, Dune & Ghostbusters')\n",
    "elif money_in_wallet >= 6:\n",
    "    print('I can watch Dune & Ghostbusters')\n",
    "elif money_in_wallet >= 5:\n",
    "    print('I can watch Ghostbusters')\n",
    "else:\n",
    "    print('I can\\'t watch any film.')\n",
    "    \n",
    "\n",
    "# possible solution two:\n",
    "\n",
    "affordable_films = []\n",
    "if money_in_wallet >= 15:\n",
    "    affordable_films.append('James Bond')\n",
    "\n",
    "if money_in_wallet >= 11:\n",
    "    affordable_films.append('Spider Man')\n",
    "\n",
    "if money_in_wallet >= 6:\n",
    "    affordable_films.append('Dune')\n",
    "    \n",
    "if money_in_wallet >= 5:\n",
    "    affordable_films.append('Ghostbusters')\n",
    "\n",
    "print('I can watch the following films:', ', '.join(affordable_films))\n"
   ]
  },
  {
   "cell_type": "markdown",
   "id": "aea8b783",
   "metadata": {
    "slideshow": {
     "slide_type": "subslide"
    }
   },
   "source": [
    "#### Exercise 1.3\n",
    "\n",
    "\n",
    "It's your lucky day! You happen to find 34 EUR right in front of your house. You want to celebrate this by inviting as many of your 5 friends as possible to the cinema. How many friends can you invite, while also paying for yourself? First update your money in your wallet and then test this using if statements. "
   ]
  },
  {
   "cell_type": "code",
   "execution_count": null,
   "id": "a6c4c2f7",
   "metadata": {
    "solution2": "hidden",
    "solution2_first": true
   },
   "outputs": [],
   "source": [
    "### Write your solution here ###\n",
    "\n"
   ]
  },
  {
   "cell_type": "code",
   "execution_count": null,
   "id": "42c48f9a",
   "metadata": {
    "solution2": "hidden"
   },
   "outputs": [],
   "source": [
    "money_in_wallet += 44\n",
    "\n",
    "if money_in_wallet >= (5+1) * 10:\n",
    "    print('I can invite all 5 friends')\n",
    "elif money_in_wallet >= (4+1) * 10:\n",
    "    print('I can invite 4 friends.')\n",
    "elif money_in_wallet >= (3+1) * 10:\n",
    "    print('I can invite 3 friends.')\n",
    "elif money_in_wallet >= (2+1) * 10:\n",
    "    print('I can invite 2 friends.')\n",
    "elif money_in_wallet >= (1+1) * 10:\n",
    "    print('I can invite 1 friend.')\n",
    "elif money_in_wallet >= (0+1) * 10:\n",
    "    print('I cannot invite any of my friends.')\n",
    "else:\n",
    "    print('I can\\'t even go to the cinema by myself.')"
   ]
  },
  {
   "cell_type": "markdown",
   "id": "f71eda67",
   "metadata": {
    "slideshow": {
     "slide_type": "subslide"
    }
   },
   "source": [
    "#### Exercise 1.4 - Last one, I promise!\n",
    "\n",
    "\n",
    "This year you want to treat your dog with a christmas present but obviously only if it was a good boy. Depending on the money in your wallet, you can either buy a new toy for 10 EUR or go on a nice long walk if you don't have any money. Write a nested if statement to test which present you can buy if your dog was a good boy. Your current endowment is 11 EUR."
   ]
  },
  {
   "cell_type": "code",
   "execution_count": null,
   "id": "adbe7373",
   "metadata": {
    "solution2": "hidden",
    "solution2_first": true
   },
   "outputs": [],
   "source": [
    "### Write your solution here ###\n"
   ]
  },
  {
   "cell_type": "code",
   "execution_count": null,
   "id": "03ead9f5",
   "metadata": {
    "solution2": "hidden"
   },
   "outputs": [],
   "source": [
    "was_good_boy = True\n",
    "endowment = 11\n",
    "if was_good_boy:\n",
    "    if endowment >= 10:\n",
    "        print('Buy the toy')\n",
    "    else:\n",
    "        print('Can\\'t afford any present. Go on a walk.')\n",
    "else:\n",
    "    print('Only presents for good boys')"
   ]
  },
  {
   "cell_type": "markdown",
   "id": "77556a4c",
   "metadata": {
    "slideshow": {
     "slide_type": "slide"
    }
   },
   "source": [
    "\n",
    "These many `if` statements were very tedious. Can we not do this more efficiently?"
   ]
  },
  {
   "cell_type": "markdown",
   "id": "bbc537b8",
   "metadata": {
    "slideshow": {
     "slide_type": "fragment"
    }
   },
   "source": [
    "Wait no more. We have a solution (at least for some situations)"
   ]
  },
  {
   "cell_type": "markdown",
   "id": "03e9dc0e",
   "metadata": {
    "slideshow": {
     "slide_type": "slide"
    }
   },
   "source": [
    "## Loops\n",
    "\n",
    "In `python`, loops can be programmed in a number of different ways. The most common is the `for` loop, which is used together with `iterable objects`, such as `list`s. The `basic syntax` is:\n",
    "\n",
    "<center><img src=\"https://www.learnbyexample.org/wp-content/uploads/python/Python-for-Loop-Syntax.png\" width=600></center>\n",
    "<center><small><small><small>https://www.learnbyexample.org/wp-content/uploads/python/Python-for-Loop-Syntax.png</small></small></small></center>"
   ]
  },
  {
   "cell_type": "code",
   "execution_count": null,
   "id": "818a626d",
   "metadata": {
    "slideshow": {
     "slide_type": "subslide"
    }
   },
   "outputs": [],
   "source": [
    "for x in [1,2,3]:\n",
    "    print(x)"
   ]
  },
  {
   "cell_type": "markdown",
   "id": "027ea9d1",
   "metadata": {
    "slideshow": {
     "slide_type": "subslide"
    }
   },
   "source": [
    "The `for` loop iterates over the elements of the supplied list and executes the containing block once for each element. Any kind of list can be used in the `for` loop. For example:"
   ]
  },
  {
   "cell_type": "code",
   "execution_count": null,
   "id": "2d87df90",
   "metadata": {},
   "outputs": [],
   "source": [
    "for x in range(4): # by default range start at 0\n",
    "    print(x)"
   ]
  },
  {
   "cell_type": "markdown",
   "id": "523469be",
   "metadata": {
    "slideshow": {
     "slide_type": "subslide"
    }
   },
   "source": [
    "Note: `range(4)` does not include `4`! Try to remember the aspects of `indexing` and `slicing` we addressed during the session on `string`s and `list`s. "
   ]
  },
  {
   "cell_type": "code",
   "execution_count": null,
   "id": "b2f18009",
   "metadata": {},
   "outputs": [],
   "source": [
    "for x in range(-3,3):\n",
    "    print(x)"
   ]
  },
  {
   "cell_type": "code",
   "execution_count": null,
   "id": "aec9c65d",
   "metadata": {
    "slideshow": {
     "slide_type": "subslide"
    }
   },
   "outputs": [],
   "source": [
    "for word in [\"scientific\", \"computing\", \"with\", \"python\"]:\n",
    "    print(word)"
   ]
  },
  {
   "cell_type": "markdown",
   "id": "0a973371",
   "metadata": {
    "slideshow": {
     "slide_type": "subslide"
    }
   },
   "source": [
    "To iterate over key-value pairs of a dictionary:"
   ]
  },
  {
   "cell_type": "code",
   "execution_count": null,
   "id": "72c6e3d8",
   "metadata": {},
   "outputs": [],
   "source": [
    "params = {\n",
    "    'parameter1': 'A',\n",
    "    'parameter2': 'B',\n",
    "    'parameter3': 'C',\n",
    "    'parameter4': 'D'\n",
    "}\n",
    "\n",
    "for key, value in params.items():\n",
    "    print(key + \" = \" + str(value))"
   ]
  },
  {
   "cell_type": "markdown",
   "id": "dce3de5a",
   "metadata": {
    "slideshow": {
     "slide_type": "subslide"
    }
   },
   "source": [
    "Sometimes it is useful to have access to the indices of the values when iterating over a `list`. We can use the `enumerate` function for this:"
   ]
  },
  {
   "cell_type": "code",
   "execution_count": null,
   "id": "82cc08d9",
   "metadata": {},
   "outputs": [],
   "source": [
    "for idx, x in enumerate(range(-3,3)):\n",
    "    print(idx, x)"
   ]
  },
  {
   "cell_type": "markdown",
   "id": "76db1aab",
   "metadata": {
    "slideshow": {
     "slide_type": "subslide"
    }
   },
   "source": [
    "### `break`, `continue` and `pass`\n",
    "\n",
    "To control the flow of a certain loop you can also use `break`, `continue` and `pass`.\n",
    "\n",
    "</br>\n",
    "\n",
    "<center><img src=\"https://raw.githubusercontent.com/PeerHerholz/Python_for_Psychologists_Winter2021/master/lecture/static/python_break_continue_pass.png\" width=900></center>\n"
   ]
  },
  {
   "cell_type": "code",
   "execution_count": null,
   "id": "4f907636",
   "metadata": {
    "slideshow": {
     "slide_type": "subslide"
    }
   },
   "outputs": [],
   "source": [
    "rangelist = list(range(10))\n",
    "print(list(rangelist))\n",
    "\n",
    "for number in rangelist:\n",
    "    # Check if number is one of\n",
    "    # the numbers in the tuple.\n",
    "    if number in [4, 5, 7, 9]:\n",
    "        # \"Break\" terminates a for without\n",
    "        # executing the \"else\" clause.\n",
    "        break\n",
    "    else:\n",
    "        # \"Continue\" starts the next iteration\n",
    "        # of the loop. It's rather useless here,\n",
    "        # as it's the last statement of the loop.\n",
    "        print(number)\n",
    "        continue\n",
    "else:\n",
    "    # The \"else\" clause is optional and is\n",
    "    # executed only if the loop didn't \"break\".\n",
    "    pass # Do nothing"
   ]
  },
  {
   "cell_type": "markdown",
   "id": "03fdfd18",
   "metadata": {
    "slideshow": {
     "slide_type": "subslide"
    }
   },
   "source": [
    "#### Exercise 2.1\n",
    "\n",
    "Use a for loop to print every **even** number from 0 to 10\n",
    "\n",
    "Hint: you can check if a number is even with `number % 2 == 0`"
   ]
  },
  {
   "cell_type": "code",
   "execution_count": null,
   "id": "fd2fa781",
   "metadata": {
    "solution2": "hidden",
    "solution2_first": true
   },
   "outputs": [],
   "source": [
    "### Write your solution here ###\n"
   ]
  },
  {
   "cell_type": "code",
   "execution_count": null,
   "id": "5b2a958c",
   "metadata": {
    "solution2": "hidden"
   },
   "outputs": [],
   "source": [
    "for num in range(10):\n",
    "    if num % 2 == 0:\n",
    "        print(num)\n",
    "    else: \n",
    "        continue"
   ]
  },
  {
   "cell_type": "markdown",
   "id": "68977c0b",
   "metadata": {
    "slideshow": {
     "slide_type": "subslide"
    }
   },
   "source": [
    "#### Exercise 2.2\n",
    "\n",
    "Use a for loop that iterates over all days in december (31) and always prints the number of days left until christmas. This loop should break once christmas is reached and should wish you a merry christmas. \n"
   ]
  },
  {
   "cell_type": "code",
   "execution_count": null,
   "id": "bc268596",
   "metadata": {
    "solution2": "hidden",
    "solution2_first": true
   },
   "outputs": [],
   "source": [
    "### Write your solution here ###\n"
   ]
  },
  {
   "cell_type": "code",
   "execution_count": null,
   "id": "822f5ccf",
   "metadata": {
    "solution2": "hidden"
   },
   "outputs": [],
   "source": [
    "christmas_day = 24\n",
    "for i in range(31):\n",
    "    if i < christmas_day:\n",
    "        print(f'{christmas_day - i} days until christmas')\n",
    "    else:\n",
    "        print('It\\'s christmas day!')\n",
    "        break    "
   ]
  },
  {
   "cell_type": "markdown",
   "id": "d8c73da8",
   "metadata": {
    "slideshow": {
     "slide_type": "subslide"
    }
   },
   "source": [
    "#### Exercise 2.3\n",
    "\n",
    "create a list of your three most favourite foods and iterate over it. In each iteration print the position and the food. For example:\n",
    "- 1. Pasta\n",
    "- 2. Nutella\n",
    "- 3. Wraps"
   ]
  },
  {
   "cell_type": "code",
   "execution_count": null,
   "id": "0bec0246",
   "metadata": {
    "solution2": "hidden",
    "solution2_first": true
   },
   "outputs": [],
   "source": [
    "### Write your solution here ###\n"
   ]
  },
  {
   "cell_type": "code",
   "execution_count": null,
   "id": "99441029",
   "metadata": {
    "solution2": "hidden"
   },
   "outputs": [],
   "source": [
    "fav_food = ['Pasta', 'Nutella', 'Wraps']\n",
    "for i, food in enumerate(fav_food):\n",
    "    print(f'{i+1}. {food}')"
   ]
  },
  {
   "cell_type": "markdown",
   "id": "bbb0bbae",
   "metadata": {
    "slideshow": {
     "slide_type": "subslide"
    }
   },
   "source": [
    "**List comprehensions: Creating lists using `for` loops**:\n",
    "\n",
    "A convenient and compact way to initialize lists:\n",
    "\n",
    "\n",
    "<center><img src=\"https://www.learnbyexample.org/wp-content/uploads/python/Python-List-Comprehension-Syntax.png\" width=600></center>\n",
    "<center><small><small><small><small><small><small><small>https://www.learnbyexample.org/wp-content/uploads/python/Python-List-Comprehension-Syntax.png</small></small></small></small></small></small></small></center>"
   ]
  },
  {
   "cell_type": "markdown",
   "id": "b4951825",
   "metadata": {
    "slideshow": {
     "slide_type": "subslide"
    }
   },
   "source": [
    "<center><img src=\"https://4.bp.blogspot.com/-uRPZqKbIGwQ/XRtgWhC6qqI/AAAAAAAAH0w/--oGnwKsnpo00GwQgH2gV3RPwHwK8uONgCLcBGAs/s1600/comprehension.PNG\" width=600></center>\n",
    "<center><small><small><small><small><small><small><small>https://4.bp.blogspot.com/-uRPZqKbIGwQ/XRtgWhC6qqI/AAAAAAAAH0w/--oGnwKsnpo00GwQgH2gV3RPwHwK8uONgCLcBGAs/s1600/comprehension.PNG</small></small></small></small></small></small></small></center>"
   ]
  },
  {
   "cell_type": "code",
   "execution_count": null,
   "id": "3ed60c79",
   "metadata": {},
   "outputs": [],
   "source": [
    "l1 = [x**2 for x in range(0,5)]\n",
    "\n",
    "print(l1)"
   ]
  },
  {
   "cell_type": "markdown",
   "id": "10e3db9b",
   "metadata": {
    "slideshow": {
     "slide_type": "subslide"
    }
   },
   "source": [
    "You can also use an if statement in your list comprehension. But be careful with the ordering. A single if can be after the for loop. However, if and else together have to be in front. Lets see some examples."
   ]
  },
  {
   "cell_type": "code",
   "execution_count": null,
   "id": "ed980372",
   "metadata": {},
   "outputs": [],
   "source": [
    "l2 = [x**2 for x in range(0,5) if x > 2]\n",
    "print(l2)"
   ]
  },
  {
   "cell_type": "code",
   "execution_count": null,
   "id": "0a390f5b",
   "metadata": {},
   "outputs": [],
   "source": [
    "l3 = [x**2 for x in range(0,5) if x > 2 else x]\n",
    "print(l3)"
   ]
  },
  {
   "cell_type": "markdown",
   "id": "b5dcfa0b",
   "metadata": {
    "slideshow": {
     "slide_type": "subslide"
    }
   },
   "source": [
    "Now lets put the if-else statement before the `for` loop"
   ]
  },
  {
   "cell_type": "code",
   "execution_count": null,
   "id": "8a469ac0",
   "metadata": {},
   "outputs": [],
   "source": [
    "l3 = [x**2 if x > 2 else x for x in range(0,5)]\n",
    "print(l3)"
   ]
  },
  {
   "cell_type": "markdown",
   "id": "defa12a1",
   "metadata": {
    "slideshow": {
     "slide_type": "subslide"
    }
   },
   "source": [
    "#### Exercise 2.4\n",
    "\n",
    "Use list comprehension to create a list containing all letters that are in the word 'human'"
   ]
  },
  {
   "cell_type": "code",
   "execution_count": null,
   "id": "6413bf55",
   "metadata": {
    "solution2": "hidden",
    "solution2_first": true
   },
   "outputs": [],
   "source": [
    "### Write your solution here ###\n"
   ]
  },
  {
   "cell_type": "code",
   "execution_count": null,
   "id": "724bae01",
   "metadata": {
    "solution2": "hidden"
   },
   "outputs": [],
   "source": [
    "h_letters = [ letter for letter in 'human' ]\n",
    "print( h_letters)"
   ]
  },
  {
   "cell_type": "markdown",
   "id": "2d32dde4",
   "metadata": {
    "slideshow": {
     "slide_type": "subslide"
    }
   },
   "source": [
    "#### Exercise 2.5\n",
    "Use list comprehension to create a list with all **even** numbers from 0 to 19 "
   ]
  },
  {
   "cell_type": "code",
   "execution_count": null,
   "id": "6dc74c4c",
   "metadata": {
    "solution2": "hidden",
    "solution2_first": true
   },
   "outputs": [],
   "source": [
    "### Write your solution here ###\n"
   ]
  },
  {
   "cell_type": "code",
   "execution_count": null,
   "id": "8b1176fd",
   "metadata": {
    "solution2": "hidden"
   },
   "outputs": [],
   "source": [
    "number_list = [ x for x in range(20) if x % 2 == 0]\n",
    "print(number_list)"
   ]
  },
  {
   "cell_type": "markdown",
   "id": "d2568bd5",
   "metadata": {
    "slideshow": {
     "slide_type": "subslide"
    }
   },
   "source": [
    "#### Exercise 2.6\n",
    "Use list comprehension to create a list with all **uneven** numbers from 0 to 19 and set all even numbers to zero"
   ]
  },
  {
   "cell_type": "code",
   "execution_count": null,
   "id": "85a64c24",
   "metadata": {
    "solution2": "hidden",
    "solution2_first": true
   },
   "outputs": [],
   "source": [
    "### Write your solution here ###\n"
   ]
  },
  {
   "cell_type": "code",
   "execution_count": null,
   "id": "6333b7ae",
   "metadata": {
    "solution2": "hidden"
   },
   "outputs": [],
   "source": [
    "number_list = [ 0 if x % 2 == 0 else x for x in range(20) ]\n",
    "print(number_list)"
   ]
  },
  {
   "cell_type": "markdown",
   "id": "1d1330e6",
   "metadata": {
    "slideshow": {
     "slide_type": "subslide"
    }
   },
   "source": [
    "## `while` loops:\n",
    "\n",
    "A `while loop` is used when you want to perform a task `indefinitely`, until a particular `condition` is met. It is s a `condition-controlled loop`.\n",
    "\n",
    "<center><img src=\"https://www.learnbyexample.org/wp-content/uploads/python/Python-while-Loop-Syntax.png\" width=600></center>\n",
    "<center><small><small><small><small><small><small><small>https://www.learnbyexample.org/wp-content/uploads/python/Python-while-Loop-Syntax.png</small></small></small></small></small></small></small></center>"
   ]
  },
  {
   "cell_type": "markdown",
   "id": "e8d4f04d",
   "metadata": {
    "slideshow": {
     "slide_type": "subslide"
    }
   },
   "source": [
    "<center><img src=\"https://media.geeksforgeeks.org/wp-content/uploads/20191101170515/while-loop.jpg\" width=600></center>\n",
    "<center><small><small><small><small><small><small><small>https://media.geeksforgeeks.org/wp-content/uploads/20191101170515/while-loop.jpg</small></small></small></small></small></small></small></center>"
   ]
  },
  {
   "cell_type": "code",
   "execution_count": null,
   "id": "f4f4c786",
   "metadata": {
    "slideshow": {
     "slide_type": "subslide"
    }
   },
   "outputs": [],
   "source": [
    "i = 0\n",
    "\n",
    "while i < 5:\n",
    "    print(i)\n",
    "    \n",
    "    i = i + 1\n",
    "    \n",
    "print(\"done\")"
   ]
  },
  {
   "cell_type": "markdown",
   "id": "546fe199",
   "metadata": {
    "slideshow": {
     "slide_type": "subslide"
    }
   },
   "source": [
    "Note that the `print \"done\"` statement is not part of the `while` loop body because of the difference in the indentation."
   ]
  },
  {
   "cell_type": "markdown",
   "id": "159f9279",
   "metadata": {
    "slideshow": {
     "slide_type": "subslide"
    }
   },
   "source": [
    "`while`loops can be dangerous to use. For example if you would forget the `i = i+1` statement"
   ]
  },
  {
   "cell_type": "code",
   "execution_count": null,
   "id": "aefe0c39",
   "metadata": {
    "slideshow": {
     "slide_type": "-"
    }
   },
   "outputs": [],
   "source": [
    "# if you run this cell you will need to stop the kernel, as it is an infinite loop\n",
    "# i = 0\n",
    "# while i < 5:\n",
    "#     print(i)"
   ]
  },
  {
   "cell_type": "markdown",
   "id": "9ba027fd",
   "metadata": {
    "slideshow": {
     "slide_type": "subslide"
    }
   },
   "source": [
    "You can also include an `else` statement after your `while` loop, to include a codeblock that should be executed once the condition returns False"
   ]
  },
  {
   "cell_type": "code",
   "execution_count": null,
   "id": "6caad19f",
   "metadata": {},
   "outputs": [],
   "source": [
    "counter = 0\n",
    "\n",
    "while counter < 3:\n",
    "    print(\"Inside loop\")\n",
    "    counter = counter + 1\n",
    "else:\n",
    "    print(\"Inside else\")"
   ]
  },
  {
   "cell_type": "markdown",
   "id": "41683d76",
   "metadata": {
    "slideshow": {
     "slide_type": "subslide"
    }
   },
   "source": [
    "#### Exercise 2.7\n",
    "\n",
    "Calculate the number of friends that you can invite to the cinema using a `while`-loop\n",
    "\n",
    "Remember:\n",
    "- money = 43\n",
    "- ticket_price = 10\n",
    "\n",
    "Hint: You can alter your money to calculate this. \n",
    "    "
   ]
  },
  {
   "cell_type": "code",
   "execution_count": null,
   "id": "d008fde3",
   "metadata": {
    "solution2": "hidden",
    "solution2_first": true
   },
   "outputs": [],
   "source": [
    "### Write your solution here ###\n"
   ]
  },
  {
   "cell_type": "markdown",
   "id": "7c2aea3d",
   "metadata": {
    "slideshow": {
     "slide_type": "subslide"
    }
   },
   "source": [
    "## Functions\n",
    "\n",
    "Rule of thumb for great `programming`: \"Whenever you copy-paste while coding, you do something wrong.'\n",
    "\n",
    "We use `functions` to solve problems that are `repetitive`. \n",
    "\n",
    "What should you put into a `function`: \n",
    "- Anything, that you will do more than once\n",
    "- All `code blocks` that have some kind of `meaning`, e.g. calculating the `square root` of a `value`\n",
    "- `Code` that can be increased in readability, where you would like to add a comment"
   ]
  },
  {
   "cell_type": "markdown",
   "id": "d74360f7",
   "metadata": {
    "slideshow": {
     "slide_type": "subslide"
    }
   },
   "source": [
    "A `function` ...\n",
    "- is a `block of code` that only runs when explicitly called\n",
    "- can accept `arguments` (or `parameters`) that `alter` its `behavior`\n",
    "- can accept any number/`type` of `inputs`, but always `return` a `single object`\n",
    "\n",
    "Note: `functions` can return `tuples` (may look like `multiple objects`)"
   ]
  },
  {
   "cell_type": "markdown",
   "id": "e4976fbf",
   "metadata": {
    "slideshow": {
     "slide_type": "subslide"
    }
   },
   "source": [
    "A function in `Python` is defined using the keyword `def`, followed by a `function name`, a `signature` within parentheses `()`, and a colon `:`. The following `code`, with one additional level of `indentation`, is the `function body`. \n",
    "\n",
    "</br>\n",
    "</br>\n",
    "\n",
    "<center><img src=\"https://raw.githubusercontent.com/PeerHerholz/Python_for_Psychologists_Winter2021/master/lecture/static/python_functions.png\" width=700></center>\n",
    "\n",
    "Let's check this different components in further detail."
   ]
  },
  {
   "cell_type": "code",
   "execution_count": null,
   "id": "0262ba07",
   "metadata": {
    "slideshow": {
     "slide_type": "subslide"
    }
   },
   "outputs": [],
   "source": [
    "def say_hello():\n",
    "    # block belonging to the function\n",
    "    print('hello world')\n",
    "\n",
    "say_hello() # call the function"
   ]
  },
  {
   "cell_type": "markdown",
   "id": "dae24de3",
   "metadata": {
    "slideshow": {
     "slide_type": "-"
    }
   },
   "source": [
    "The `function` above does not take any `arguments` but only executes the `code` within. As there is no explicit `return statement` the function will simply return `None`. \n",
    "\n",
    "Let's check that. To access the `return value` of a `function`, you simply `assign` the `function` to a `variable`, as we learned above and in the previous sessions."
   ]
  },
  {
   "cell_type": "code",
   "execution_count": null,
   "id": "fe3493ff",
   "metadata": {},
   "outputs": [],
   "source": [
    "greetings = say_hello()\n",
    "print(greetings)"
   ]
  },
  {
   "cell_type": "markdown",
   "id": "f821e0f0",
   "metadata": {
    "slideshow": {
     "slide_type": "subslide"
    }
   },
   "source": [
    "As you see, the `function` still printed the `'hello world'` but the returned `value` that was stored in `greetings` is `None`. \n",
    "\n",
    "A `function` can also accept `arguments` within the `parentheses`, making it super flexible. For example:"
   ]
  },
  {
   "cell_type": "code",
   "execution_count": null,
   "id": "524f2f12",
   "metadata": {},
   "outputs": [],
   "source": [
    "def calc_power(x, p):\n",
    "    power = x ** p\n",
    "    return power\n",
    "\n",
    "print(calc_power(5,2))\n",
    "print(calc_power(3,3))\n"
   ]
  },
  {
   "cell_type": "markdown",
   "id": "15509f93",
   "metadata": {
    "slideshow": {
     "slide_type": "subslide"
    }
   },
   "source": [
    "As we used a `return statement` this time, the `power` that we calculated is `returned` and can be `printed` or `assigned` to a `variable`. \n",
    "\n",
    "\n",
    "These were all simple examples, however, we can also put more complex `code blocks` into a `function`."
   ]
  },
  {
   "cell_type": "code",
   "execution_count": null,
   "id": "f197e677",
   "metadata": {},
   "outputs": [],
   "source": [
    "def get_maximum(a, b):\n",
    "    maximum = None\n",
    "    if a > b:\n",
    "        print( a, 'is maximum')\n",
    "        maximum = a\n",
    "    elif a == b:\n",
    "        print(a, 'is equal to', b)\n",
    "        maximum = a\n",
    "    else:\n",
    "        print(b, 'is maximum')\n",
    "        maximum = b\n",
    "    return maximum\n",
    "\n",
    "# directly pass literal values\n",
    "maximum = get_maximum(3, 4)\n",
    "\n",
    "x = 7\n",
    "y = 7\n",
    "\n",
    "# pass variables as arguments\n",
    "maximum = get_maximum(x, y)"
   ]
  },
  {
   "cell_type": "markdown",
   "id": "53c252b1",
   "metadata": {
    "slideshow": {
     "slide_type": "subslide"
    }
   },
   "source": [
    "We can also `return` multiple `values` from a `function` using `tuples`:"
   ]
  },
  {
   "cell_type": "code",
   "execution_count": null,
   "id": "e2e967bd",
   "metadata": {},
   "outputs": [],
   "source": [
    "def calc_powers(x):\n",
    "    \"\"\"\n",
    "    Return a few powers of x.\n",
    "    \"\"\"\n",
    "    return x ** 2, x ** 3, x ** 4"
   ]
  },
  {
   "cell_type": "code",
   "execution_count": null,
   "id": "ce06f6ce",
   "metadata": {
    "slideshow": {
     "slide_type": "fragment"
    }
   },
   "outputs": [],
   "source": [
    "x = 5\n",
    "powers = calc_powers(x)\n",
    "print(powers)"
   ]
  },
  {
   "cell_type": "markdown",
   "id": "23ebbe55",
   "metadata": {
    "slideshow": {
     "slide_type": "subslide"
    }
   },
   "source": [
    "As you see, your `output variable` `powers` is a `tuple` that contains the `output values` of the `function`. We can however, split this `tuple` directly into the specific `values`. This can help to make your `code` more readable. "
   ]
  },
  {
   "cell_type": "code",
   "execution_count": null,
   "id": "892dd2f9",
   "metadata": {},
   "outputs": [],
   "source": [
    "x2, x3, x4 = calc_powers(5)\n",
    "print(x3)"
   ]
  },
  {
   "cell_type": "markdown",
   "id": "9b090c80",
   "metadata": {
    "slideshow": {
     "slide_type": "subslide"
    }
   },
   "source": [
    "**Very important**: `Variables` inside a `function` are treated as `local variables` and therefore don't interfere with `variables` outside the scope of the `function`."
   ]
  },
  {
   "cell_type": "code",
   "execution_count": null,
   "id": "7ec83c5c",
   "metadata": {},
   "outputs": [],
   "source": [
    "x = 50\n",
    "\n",
    "def func(x):\n",
    "    print('x is', x)\n",
    "    x = 2\n",
    "    print('Changed local x to', x)\n",
    "\n",
    "func(x)\n",
    "print('x is still', x)"
   ]
  },
  {
   "cell_type": "markdown",
   "id": "27649a9c",
   "metadata": {
    "slideshow": {
     "slide_type": "subslide"
    }
   },
   "source": [
    "To access a `local function variable`, we can extend the `local scope` with the keyword `global`."
   ]
  },
  {
   "cell_type": "code",
   "execution_count": null,
   "id": "d661d09c",
   "metadata": {},
   "outputs": [],
   "source": [
    "x = 50\n",
    "\n",
    "def func():\n",
    "    global x\n",
    "\n",
    "    print('x is', x)\n",
    "    x = 2\n",
    "    print('Changed global x to', x)\n",
    "\n",
    "func()\n",
    "print('Value of x is', x)"
   ]
  },
  {
   "cell_type": "markdown",
   "id": "6441a2fc",
   "metadata": {
    "slideshow": {
     "slide_type": "subslide"
    }
   },
   "source": [
    "Optionally, but highly recommended, we can define a so called `\"docstring\"`, which is a `description` of the `functions` purpose and behavior. The `docstring` should follow directly after the `function definition`, before the `code` in the `function body`.\n",
    "\n",
    "You can also define the `input` and `return` `parameters` in the `docstring`. There are several `conventions` to do this."
   ]
  },
  {
   "cell_type": "code",
   "execution_count": null,
   "id": "4dfa3673",
   "metadata": {},
   "outputs": [],
   "source": [
    "def func_with_docstring(s):\n",
    "    \"\"\"\n",
    "    Print a string 's' and tell how many characters it has    \n",
    "    :param s (string): input string of any length\n",
    "    :returns: None\n",
    "    \"\"\"\n",
    "    \n",
    "    print(s + \" has \" + str(len(s)) + \" characters\")"
   ]
  },
  {
   "cell_type": "code",
   "execution_count": null,
   "id": "9c56f1c6",
   "metadata": {
    "slideshow": {
     "slide_type": "subslide"
    }
   },
   "outputs": [],
   "source": [
    "help(func_with_docstring)"
   ]
  },
  {
   "cell_type": "code",
   "execution_count": null,
   "id": "c228c78d",
   "metadata": {},
   "outputs": [],
   "source": [
    "func_with_docstring('So much fun to write functions')"
   ]
  },
  {
   "cell_type": "markdown",
   "id": "6ad27d58",
   "metadata": {
    "slideshow": {
     "slide_type": "subslide"
    }
   },
   "source": [
    "### Positional vs. keyword arguments\n",
    "\n",
    "- `Positional arguments` are defined by `position` and must be passed\n",
    "    - `Arguments` in the `function signature` are filled _in order_\n",
    "- `Keyword arguments` have a `default value`\n",
    "    - `Arguments` can be passed in _arbitrary order_ (_after any `positional arguments`_)"
   ]
  },
  {
   "cell_type": "markdown",
   "id": "31de0440",
   "metadata": {
    "slideshow": {
     "slide_type": "subslide"
    }
   },
   "source": [
    "You might not think that at the moment, but `coding` is all about readability. You only write it once, but you will probably read it several times. \n",
    "\n",
    "In `Python` we can increase readability when calling a `function` by also naming our `positional arguments`. For example:"
   ]
  },
  {
   "cell_type": "code",
   "execution_count": null,
   "id": "e53efbca",
   "metadata": {},
   "outputs": [],
   "source": [
    "def calc_power(x, power):\n",
    "    return x ** power"
   ]
  },
  {
   "cell_type": "markdown",
   "id": "cf606311",
   "metadata": {
    "slideshow": {
     "slide_type": "fragment"
    }
   },
   "source": [
    "We could now simply input the variables that we want to compute:"
   ]
  },
  {
   "cell_type": "code",
   "execution_count": null,
   "id": "423813a7",
   "metadata": {},
   "outputs": [],
   "source": [
    "calc_power(2, 2)"
   ]
  },
  {
   "cell_type": "markdown",
   "id": "8e9ab79a",
   "metadata": {
    "slideshow": {
     "slide_type": "subslide"
    }
   },
   "source": [
    "The input in the function is **positionally** defined. Hence, the first parameter represents `x` and the second `power`. But does this really tell you what is happening, just from reading the `function`? \n",
    "We can increase readability by calling the `parameters` by their names:"
   ]
  },
  {
   "cell_type": "code",
   "execution_count": null,
   "id": "8aa72780",
   "metadata": {},
   "outputs": [],
   "source": [
    "calc_power(x=2, power=2)"
   ]
  },
  {
   "cell_type": "markdown",
   "id": "6cd2d2bd",
   "metadata": {
    "slideshow": {
     "slide_type": "subslide"
    }
   },
   "source": [
    "Now everyone that looks at your code, can directly see what is happening. If we explicitly list the name of the `arguments` in the `function calls`, they do not need to come in the same order as in the `function definition`. This is called **keyword** `arguments` and is often very useful in `functions` that take a lot of `optional arguments`.\n",
    "\n",
    "Additionally we could also give `default values` to the `arguments` the `function` takes:"
   ]
  },
  {
   "cell_type": "code",
   "execution_count": null,
   "id": "79a5c314",
   "metadata": {},
   "outputs": [],
   "source": [
    "def calc_power(x, power=2):\n",
    "    return x ** power"
   ]
  },
  {
   "cell_type": "markdown",
   "id": "b9ad491e",
   "metadata": {
    "slideshow": {
     "slide_type": "subslide"
    }
   },
   "source": [
    "If we don’t provide a `value` for the `power` argument when calling the the function `calc_power` it `defaults` to the `value` provided in the `function definition`:"
   ]
  },
  {
   "cell_type": "code",
   "execution_count": null,
   "id": "b099b7ce",
   "metadata": {},
   "outputs": [],
   "source": [
    "x = 3\n",
    "calc_power(x)"
   ]
  },
  {
   "cell_type": "markdown",
   "id": "ff554aea",
   "metadata": {
    "slideshow": {
     "slide_type": "subslide"
    }
   },
   "source": [
    "Such `default values` are especially useful for `functions` that take a lot of `arguments`, as it reduces the amount of `arguments` that you have to pass to the `function`. \n",
    "\n",
    "`Arguments` with a `default value` ...\n",
    "- have to be `defined` /called _AFTER_ the `positional values`\n",
    "- don't have to be called in order"
   ]
  },
  {
   "cell_type": "markdown",
   "id": "e1c9c746",
   "metadata": {
    "slideshow": {
     "slide_type": "subslide"
    }
   },
   "source": [
    "#### Let's quickly talk about function names...\n",
    "\n",
    "`Function names` are very important. They will allow you to tell the story of your code. Time spent on naming is never wasted time in `coding`.\n",
    "\n",
    "The 'pythonic' way to write `functions` is to also imply in the name what the `function` will do. \n",
    "\n",
    "Some examples:\n",
    "- when you calculate something you can use `calc` in your `function name`. \n",
    "- when you want to test if something is `true` with your `function` you could use `is`. E.g., `is_above_value(x, value=10)` could return `True` if the `input value` `x` is above the `default value`.\n",
    "- use `print` if your `function` only `prints` `statements`\n",
    "\n"
   ]
  },
  {
   "cell_type": "markdown",
   "id": "6b7026ca",
   "metadata": {
    "slideshow": {
     "slide_type": "subslide"
    },
    "solution2": "hidden",
    "solution2_first": true
   },
   "source": [
    "#### Exercise 3.1\n",
    "\n",
    "Define a `function` called `get_longest_string` that takes two `strings` as `input` and `returns` the `longer string`. If the `strings` have the same `length`, the `first` one should be `returned`. \n",
    "\n",
    "Call your `function` once, using `positional arguments` and once using `keyword arguments`."
   ]
  },
  {
   "cell_type": "code",
   "execution_count": null,
   "id": "1b71d6bf",
   "metadata": {
    "solution2": "hidden",
    "solution2_first": true
   },
   "outputs": [],
   "source": [
    "## Write your solution here"
   ]
  },
  {
   "cell_type": "code",
   "execution_count": null,
   "id": "827ce008",
   "metadata": {
    "solution2": "hidden"
   },
   "outputs": [],
   "source": [
    "def get_longest_string(string_one, string_two):\n",
    "    if len(string_one) >= len(string_two):\n",
    "        return string_one\n",
    "    else:\n",
    "        string_two\n",
    "        \n",
    "longest_string = get_longest_string('yoda', 'skywalker')\n",
    "longest_string = get_longest_string(string_one='yoda', string_two='skywalker')"
   ]
  },
  {
   "cell_type": "markdown",
   "id": "a35cb5eb",
   "metadata": {
    "slideshow": {
     "slide_type": "subslide"
    },
    "solution2": "hidden",
    "solution2_first": true
   },
   "source": [
    "#### Exercise 3.2\n",
    "\n",
    "Define a `function` `happy_holidays` that wishes the user happy holidays. It takes the name of the `user` as `input` `argument`. When the `user` does not define a name, your `function` should use a `default value`. \n",
    "Then call it once, `inputting` a `user name` and once without. "
   ]
  },
  {
   "cell_type": "code",
   "execution_count": null,
   "id": "100b38ee",
   "metadata": {
    "solution2": "hidden",
    "solution2_first": true
   },
   "outputs": [],
   "source": [
    "## Write your solution here"
   ]
  },
  {
   "cell_type": "markdown",
   "id": "56bb5687",
   "metadata": {
    "slideshow": {
     "slide_type": "slide"
    }
   },
   "source": [
    "### Why do programming/science in Python?\n",
    "\n",
    "Lets go through some advantages of the `python` programming language.  \n",
    "<br/><br/>\n",
    "\n",
    "<center><img src=\"https://funvizeo.com/media/memes/9114fb92b16ca1b8/java-python-think-why-waste-time-word-when-few-word-trick-meme-7a08727102156f3c-e9db4e91c4b2a7d5.jpg\"></center>\n",
    "<center><sup><sup><sup><sup> https://funvizeo.com/media/memes/9114fb92b16ca1b8/java-python-think-why-waste-time-word-when-few-word-trick-meme-7a08727102156f3c-e9db4e91c4b2a7d5.jpg </sup></sup></sup></sup></center>"
   ]
  },
  {
   "cell_type": "markdown",
   "id": "dff2525f",
   "metadata": {
    "slideshow": {
     "slide_type": "subslide"
    }
   },
   "source": [
    "### Easy to learn\n",
    "* Readable, explicit syntax\n",
    "* Most packages are very well documented\n",
    "    * e.g., `scikit-learn`'s [documentation](http://scikit-learn.org/stable/documentation.html) is widely held up as a model\n",
    "* A huge number of tutorials, guides, and other educational materials"
   ]
  },
  {
   "cell_type": "markdown",
   "id": "bf285b4f",
   "metadata": {
    "slideshow": {
     "slide_type": "subslide"
    }
   },
   "source": [
    "### Comprehensive standard library\n",
    "* The [Python standard library](https://docs.python.org/2/library/) contains a huge number of high-quality modules\n",
    "* When in doubt, check the standard library first before you write your own tools!\n",
    "* For example:\n",
    "    * `os`: operating system tools\n",
    "    * `re`: regular expressions\n",
    "    * `collections`: useful data structures\n",
    "    * `multiprocessing`: simple parallelization tools\n",
    "    * `pickle`: serialization\n",
    "    * `json`: reading and writing JSON"
   ]
  },
  {
   "cell_type": "markdown",
   "id": "5744da18",
   "metadata": {
    "slideshow": {
     "slide_type": "subslide"
    }
   },
   "source": [
    "### Exceptional external libraries\n",
    "\n",
    "* `Python` has very good (often best-in-class) external `packages` for almost everything\n",
    "* Particularly important for \"data science\", which draws on a very broad toolkit\n",
    "* Package management is easy (`conda`, `pip`)\n",
    "* Examples:\n",
    "    * Web development: flask, Django\n",
    "    * Database ORMs: SQLAlchemy, Django ORM (w/ adapters for all major DBs)\n",
    "    * Scraping/parsing text/markup: beautifulsoup, scrapy\n",
    "    * Natural language processing (NLP): nltk, gensim, textblob\n",
    "    * Numerical computation and data analysis: numpy, scipy, pandas, xarray, statsmodels, pingouin\n",
    "    * Machine learning: scikit-learn, Tensorflow, keras\n",
    "    * Image processing: pillow, scikit-image, OpenCV\n",
    "    * audio processing: librosa, pyaudio\n",
    "    * Plotting: matplotlib, seaborn, altair, ggplot, Bokeh\n",
    "    * GUI development: pyQT, wxPython\n",
    "    * Testing: py.test\n",
    "    * Etc. etc. etc."
   ]
  },
  {
   "cell_type": "markdown",
   "id": "b22bfea2",
   "metadata": {
    "slideshow": {
     "slide_type": "subslide"
    }
   },
   "source": [
    "### (Relatively) good performance\n",
    "* `Python` is a high-level dynamic language — this comes at a performance cost\n",
    "* For many (not all!) use cases, performance is irrelevant most of the time\n",
    "* In general, the less `Python` code you write yourself, the better your performance will be\n",
    "    * Much of the standard library consists of `Python` interfaces to `C` functions\n",
    "    * `Numpy`, `scikit-learn`, etc. all rely heavily on `C/C++` or `Fortran`"
   ]
  },
  {
   "cell_type": "markdown",
   "id": "0cab3262",
   "metadata": {
    "slideshow": {
     "slide_type": "slide"
    }
   },
   "source": [
    "### Python vs. other data science languages\n",
    "\n",
    "* `Python` competes for mind share with many other languages\n",
    "* Most notably, `R`\n",
    "* To a lesser extent, `Matlab`, `Mathematica`, `SAS`, `Julia`, `Java`, `Scala`, etc."
   ]
  },
  {
   "cell_type": "markdown",
   "id": "fe9a7b0a",
   "metadata": {
    "slideshow": {
     "slide_type": "subslide"
    }
   },
   "source": [
    "### R\n",
    "* [R](https://www.r-project.org/) is dominant in traditional statistics and some fields of science\n",
    "    * Has attracted many SAS, SPSS, and Stata users\n",
    "* Exceptional statistics support; hundreds of best-in-class libraries\n",
    "* Designed to make data analysis and visualization as easy as possible\n",
    "* Slow\n",
    "* Language quirks drive many experienced software developers crazy\n",
    "* Less support for most things non-data-related"
   ]
  },
  {
   "cell_type": "markdown",
   "id": "18c50e08",
   "metadata": {
    "slideshow": {
     "slide_type": "subslide"
    }
   },
   "source": [
    "### MATLAB\n",
    "* A proprietary numerical computing language widely used by engineers\n",
    "* Good performance and very active development, but expensive\n",
    "* Closed ecosystem, relatively few third-party libraries\n",
    "    * There is an open-source port (Octave)\n",
    "* Not suitable for use as a general-purpose language"
   ]
  },
  {
   "cell_type": "markdown",
   "id": "32f5ff62",
   "metadata": {
    "slideshow": {
     "slide_type": "subslide"
    }
   },
   "source": [
    "### So, why Python?\n",
    "Why choose Python over other languages?\n",
    "* Arguably none of these offers the same combination of readability, flexibility, libraries, and performance\n",
    "* Python is sometimes described as \"the second best language for everything\"\n",
    "* Doesn't mean you should always use Python\n",
    "    * Depends on your needs, community, etc.\n",
    "    \n",
    "<center><img src=\"https://raw.githubusercontent.com/PeerHerholz/Python_for_Psychologists_Winter2021/master/lecture/static/general_purpose_meme.png\"></center>    "
   ]
  },
  {
   "cell_type": "markdown",
   "id": "a89c21dd",
   "metadata": {
    "slideshow": {
     "slide_type": "subslide"
    }
   },
   "source": [
    "### You can have your cake _and_ eat it!\n",
    "* Many languages—particularly R—now interface seamlessly with Python\n",
    "* You can work primarily in Python, fall back on R when you need it (or vice versa)\n",
    "* The best of all possible worlds?"
   ]
  },
  {
   "cell_type": "markdown",
   "id": "eed6acc5",
   "metadata": {
    "slideshow": {
     "slide_type": "slide"
    }
   },
   "source": [
    "### The core Python \"data science\" stack\n",
    "* The Python ecosystem contains tens of thousands of packages\n",
    "* Several are very widely used in data science applications:\n",
    "    * [Jupyter](http://jupyter.org): interactive notebooks\n",
    "    * [Numpy](http://numpy.org): numerical computing in Python\n",
    "    * [pandas](http://pandas.pydata.org/): data structures for Python\n",
    "    * [Scipy](http://scipy.org): scientific Python tools\n",
    "    * [Matplotlib](http://matplotlib.org): plotting in Python\n",
    "    * [scikit-learn](http://scikit-learn.org): machine learning in Python\n",
    "* We'll cover the first three very briefly here\n",
    "    * Other tutorials will go into greater detail on most of the others"
   ]
  },
  {
   "cell_type": "markdown",
   "id": "dc93328f",
   "metadata": {
    "slideshow": {
     "slide_type": "subslide"
    }
   },
   "source": [
    "### The core \"Python for Neuroscience/Psychology\" stack\n",
    "* The `Python ecosystem` contains tens of thousands of `packages`\n",
    "* Several are very widely used in neuroscience/psychology research:\n",
    "    * [Jupyter](http://jupyter.org): interactive notebooks\n",
    "    * [Numpy](http://numpy.org): numerical computing in `Python`\n",
    "    * [pandas](http://pandas.pydata.org/): data structures for `Python`\n",
    "    * [Scipy](http://scipy.org): scientific `Python` tools\n",
    "    * [Matplotlib](http://matplotlib.org): plotting in `Python`\n",
    "    * [seaborn](https://seaborn.pydata.org/index.html): plotting in `Python`\n",
    "    * [scikit-learn](http://scikit-learn.org): machine learning in `Python`\n",
    "    * [statsmodels](https://www.statsmodels.org/stable/index.html): statistical analyses in `Python`\n",
    "    * [pingouin](https://pingouin-stats.org/): statistical analyses in `Python`\n",
    "    * [psychopy](https://www.psychopy.org/): running experiments in `Python`\n",
    "    * [nilearn](https://nilearn.github.io/stable/index.html): brain imaging analyses in `Python``\n",
    "    * [mne](https://mne.tools/stable/index.html): electrophysiology analyses in `Python` \n",
    "    * there are many free tutorials online that will go into greater detail and also cover  other `packages`"
   ]
  },
  {
   "cell_type": "markdown",
   "id": "0919d334",
   "metadata": {
    "slideshow": {
     "slide_type": "subslide"
    }
   },
   "source": [
    "### Running experiments in Python vs. other programming languages\n",
    "\n",
    "#### The \"classics\"\n",
    "\n",
    "<img align=\"right\" src=\"data/experiments_proprietary.png\">\n",
    "\n",
    "- proprietary with very expensive single or  \n",
    "  group licenses\n",
    "- platform/OS/hardware dependencies\n",
    "- own programming languages\n",
    "- restricted purpose/functionality \n"
   ]
  },
  {
   "cell_type": "markdown",
   "id": "5719258d",
   "metadata": {
    "slideshow": {
     "slide_type": "subslide"
    }
   },
   "source": [
    "#### The other \"classic\"\n",
    "\n",
    "<img align=\"right\" src=\"data/experiments_psychtoolbox.png\">\n",
    "\n",
    "- often used with matlab -> proprietary\n",
    "- also works with GNU Octave -> open\n",
    "- limited documentation\n",
    "- no direct support for online studies\n"
   ]
  },
  {
   "cell_type": "markdown",
   "id": "2ad3559c",
   "metadata": {
    "slideshow": {
     "slide_type": "subslide"
    }
   },
   "source": [
    "#### Open-source Python software \n",
    "\n",
    "<img align=\"right\" src=\"data/experiments_open_source.png\">\n",
    "\n",
    "- completely open source & free -> based on Python                         \n",
    "- cross-platform/OS\n",
    "- great documentation & open support\n",
    "- online studies & general purpose\n",
    "\n"
   ]
  },
  {
   "cell_type": "markdown",
   "id": "269a263f",
   "metadata": {
    "slideshow": {
     "slide_type": "subslide"
    }
   },
   "source": [
    "`“Clearly open source can’t match the performance of proprietary software.”`\n",
    "\n",
    "<img align=\"right\" src=\"data/experiments_comparison.png\" width=\"500\">\n",
    "\n",
    "\n",
    "[The timing mega-study: comparing a range of  \n",
    "experiment generators, both lab-based and online](https://peerj.com/articles/9414/)\n",
    "\n",
    "- compared prominently used software   \n",
    "  across OS, local & online\n",
    "- Psychopy showed performance    \n",
    "  comparable to proprietary software\n",
    "- prominent differences between OS:  \n",
    "  ubuntu > windows > macOS \n",
    "- also prominent differences between \n",
    "  browsers \n",
    "- online versions less precise,  \n",
    "  independent of software but Psychopy  \n",
    "  overall best\n"
   ]
  },
  {
   "cell_type": "markdown",
   "id": "2248e8f0",
   "metadata": {
    "slideshow": {
     "slide_type": "subslide"
    }
   },
   "source": [
    "<img align=\"center\" src=\"data/experiments_psychopy.png\" width=\"1000\">"
   ]
  },
  {
   "cell_type": "markdown",
   "id": "7683bcca",
   "metadata": {
    "slideshow": {
     "slide_type": "fragment"
    }
   },
   "source": [
    "- seamlessly supports/integrates with `Eye-Tracker`/`MRI`/`EEG`/etc.\n",
    "- many examples and openly shared experiments, as well as dedicated online platform [pavlovia](https://pavlovia.org/)"
   ]
  },
  {
   "cell_type": "markdown",
   "id": "41c91103",
   "metadata": {
    "slideshow": {
     "slide_type": "subslide"
    }
   },
   "source": [
    "### Analyzing data in Python\n",
    "\n",
    "#### Pandas\n",
    "\n",
    "<img align=\"right\" src=\"data/pandas.png\" width=\"550\">\n",
    "\n",
    "- support for basically all formats\n",
    "- THE library for anything related  \n",
    "  to `dataframes`\n",
    "- extensive in-built functionality  \n",
    "  (`read`, `write`, `wrangling`, etc.) \n",
    "- comprehensive documentation, including  \n",
    "  tutorials and migration guides"
   ]
  },
  {
   "cell_type": "markdown",
   "id": "328dda1a",
   "metadata": {
    "slideshow": {
     "slide_type": "subslide"
    }
   },
   "source": [
    "#### Statistical analyses using [Pingouin](https://pingouin-stats.org/index.html)\n",
    "\n",
    "<img align=\"right\" src=\"https://pingouin-stats.org/_images/logo_pingouin.png\" width=\"550\">\n",
    "\n",
    "<img align=\"left\" src=\"data/pingouin_functions.png\" width=\"650\">"
   ]
  },
  {
   "cell_type": "markdown",
   "id": "e0e80ba8",
   "metadata": {
    "slideshow": {
     "slide_type": "subslide"
    }
   },
   "source": [
    "<img align=\"center\" src=\"data/pingouin_examples.png\" width=\"1200\">\n",
    "\n"
   ]
  },
  {
   "cell_type": "markdown",
   "id": "f719a2a0",
   "metadata": {
    "slideshow": {
     "slide_type": "subslide"
    }
   },
   "source": [
    "#### Data visualization using [seaborn](https://seaborn.pydata.org/)\n",
    "\n",
    "<img align=\"right\" src=\"data/seaborn_overview.png\" width=\"400\">\n",
    "\n",
    "- high-level interface for all types of visualizations,  \n",
    "  including statistics\n",
    "- built on [matplotlib](https://matplotlib.org/stable/index.html), highly customizable \n",
    "- integrates nicely with other packages, e.g. `pandas`\n",
    "- focus on data exploration and understanding\n",
    "- many `colormaps`  \n",
    "  (e.g. `perceptually uniform`, etc.)\n",
    "- context-adaptation  \n",
    "  (e.g. `publication`, `poster`, etc.) \n",
    "- comprehensive documentation & tutorials"
   ]
  },
  {
   "cell_type": "markdown",
   "id": "81891e6a",
   "metadata": {
    "slideshow": {
     "slide_type": "subslide"
    }
   },
   "source": [
    "<img align=\"center\" src=\"data/seaborn_examples.png\" width=\"1250\">\n"
   ]
  },
  {
   "cell_type": "markdown",
   "id": "a62c6d26",
   "metadata": {
    "slideshow": {
     "slide_type": "subslide"
    }
   },
   "source": [
    "#### Neuroimaging analyses using [nilearn](https://nilearn.github.io/stable/index.html)\n",
    "\n",
    "<img align=\"right\" src=\"data/nilearn_examples.png\" width=\"500\">\n",
    "\n",
    "\n",
    "- working with `MRI data`?  \n",
    "  → `nilearn` is _the_ `library`\n",
    "\n",
    "- `data/image` `wrangling/operations`\n",
    "\n",
    "- statistical analyses, individual & group  \n",
    "  level, encoding models\n",
    "\n",
    "- functional connectivity\n",
    "\n",
    "- machine learning\n",
    "\n",
    "- all the plotting functionality\n",
    "\n",
    "- works nicely with BIDS and includes  \n",
    "  informative output reports\n"
   ]
  },
  {
   "cell_type": "markdown",
   "id": "6003a7c3",
   "metadata": {
    "slideshow": {
     "slide_type": "subslide"
    }
   },
   "source": [
    "#### M/EEG/iEEG/ECoG/NIRS analyses using [mne](https://mne.tools/stable/)\n",
    "\n",
    "<img align=\"right\" src=\"data/mne_examples.png\" width=\"550\">\n",
    "\n",
    "\n",
    "- everything you ever wanted for your  \n",
    "  `neurophysiological data`: `MEG`,  \n",
    "  `EEG`, `sEEG`, `ECoG`, `NIRS`, etc.\n",
    "\n",
    "- preprocessing, uni-/multivariate analyses,  \n",
    "  encoding/decoding, source estimates,  \n",
    "  connectivity, time frequency\n",
    "\n",
    "- ALL the graphics  \n",
    "\n",
    "- works nicely with BIDS and includes  \n",
    "  informative output reports\n",
    "\n"
   ]
  },
  {
   "cell_type": "markdown",
   "id": "037a5c8c",
   "metadata": {
    "slideshow": {
     "slide_type": "slide"
    }
   },
   "source": [
    "### Some examples from the `\"Neuroscience-Python-Ecosystem\"`\n",
    "* Let's have look at some other several widely used `libraries`:\n",
    "    * [DIPY](https://mne.tools/stable/): `DWI analyses`\n",
    "    * [NiMARE](https://nimare.readthedocs.io/en/latest/about.html): `Neuroimaging Meta-Analyses`\n",
    "    * [BrainSpace](https://brainspace.readthedocs.io/en/latest/): `gradient analyses` \n",
    "    * [BrainStat](https://brainstat.readthedocs.io/en/master/index.html): `statistical analyses & contextualization`\n",
    "    * [tedana](https://tedana.readthedocs.io/en/stable/index.html): `multi-echo MRI analyses`\n",
    "    * [nobrainer](https://github.com/neuronets/nobrainer): `DL` applications to `3D images`\n",
    "    * [nighres](https://nighres.readthedocs.io/en/latest/index.html): `Ultra high resolution analyses`\n",
    "    * [abagen](https://abagen.readthedocs.io/): integrating `genomics` and `MRI`\n",
    "    * [brainsmash](https://brainsmash.readthedocs.io/): `statistical comparisons` of `brain maps`\n",
    "    * [neuromaps](https://netneurolab.github.io/neuromaps/index.html): working with `brain annotations`\n",
    "    * [pyrsa](https://rsatoolbox.readthedocs.io/en/latest/): `RSA` for `M/EEG` & `fMRI` \n",
    "    * there are many more libraries for basically anything you want to work with, including `eye-tracking`, `behavioral modeling`, `machine/deep learning`, `stimulus processing`, etc."
   ]
  },
  {
   "cell_type": "markdown",
   "id": "fb502656",
   "metadata": {
    "slideshow": {
     "slide_type": "subslide"
    }
   },
   "source": [
    "#### DWI analyses using [DIPY](https://mne.tools/stable/)\n",
    "\n",
    "<img align=\"right\" src=\"data/dipy_examples.png\" width=\"450\">\n",
    "\n",
    "\n",
    "- you have `diffusion MRI data`?  \n",
    "  -> `DIPY` has all the things\n",
    "\n",
    "- `preprocessing`, `reconstruction`,  \n",
    "  `fiber tracking`, `streamline analysis`,  \n",
    "  `registration`, `segmentation`,  \n",
    "  `connectivity`, etc.\n",
    "\n",
    "- great (interactive) visualizations"
   ]
  },
  {
   "cell_type": "markdown",
   "id": "3760f80e",
   "metadata": {
    "slideshow": {
     "slide_type": "subslide"
    }
   },
   "source": [
    "#### Meta-analyses [NiMARE](https://nimare.readthedocs.io/en/latest/about.html)\n",
    "\n",
    "<img align=\"right\" src=\"https://nimare.readthedocs.io/en/latest/_images/nimare_overview.png\" width=\"500\">\n",
    "\n",
    "\n",
    "- everything `meta-analyses`\n",
    "\n",
    "- `CBMA` & `IBMA` \n",
    "\n",
    "- multiple `databases`\n",
    "\n",
    "- `annotations`\n",
    "\n",
    "- `functional decoding`, `coactivation`\n"
   ]
  },
  {
   "cell_type": "markdown",
   "id": "23a87077",
   "metadata": {
    "slideshow": {
     "slide_type": "subslide"
    }
   },
   "source": [
    "#### Analyzing Gradients using [BrainSpace](https://brainspace.readthedocs.io/en/latest/)\n",
    "\n",
    "<img align=\"right\" src=\"data/brainspace_examples.png\" width=\"570\">\n",
    "\n",
    "\n",
    "- everything `macroscale gradient`  \n",
    "  `mapping`\n",
    "\n",
    "- creation & `alignment` of `gradients`\n",
    "\n",
    "- various `null models`\n",
    "\n",
    "- multimodal data `gradient`  \n",
    "  correspondence \n",
    "\n",
    "- all the plotting functions\n",
    "\n"
   ]
  },
  {
   "cell_type": "markdown",
   "id": "3619006a",
   "metadata": {
    "slideshow": {
     "slide_type": "subslide"
    }
   },
   "source": [
    "#### Statistical analyses using [BrainStat](https://brainstat.readthedocs.io/en/master/index.html)\n",
    "\n",
    "<img align=\"right\" src=\"data/brainstat_examples.png\" width=\"520\">\n",
    "\n",
    "\n",
    "- everything statistical analyses &  \n",
    "  `context decoding` \n",
    "\n",
    "- `univariate` & `multivariate models`\n",
    "\n",
    "- interfaces with various `atlases`,  \n",
    "  `datasets` & other tools\n",
    "\n",
    "- support for `volume`, `surface`  \n",
    "  and `parcel data`\n",
    "\n",
    "- all the plotting functions\n",
    "\n",
    "\n"
   ]
  },
  {
   "cell_type": "markdown",
   "id": "f07893f8",
   "metadata": {
    "slideshow": {
     "slide_type": "subslide"
    }
   },
   "source": [
    "#### Multi-echo analyses using [tedana](https://tedana.readthedocs.io/en/stable/index.html)\n",
    "\n",
    "<img align=\"right\" src=\"data/tedana_examples.png\" width=\"470\">\n",
    "\n",
    "\n",
    "- `multi-echo fMRI` is giving you a hard time?  \n",
    "   -> no worries, `tedana`’s got your back\n",
    "\n",
    "- `adaptive mask generation`,  \n",
    "  `monoexponential decay model fit`,  \n",
    "  `optimal combination`, `denoising`,   \n",
    "   `TEDPCA`, `TEDICA`,  \n",
    "   `removal of spatially diffuse noise`\n",
    "\n",
    "- provides `QC` & `confounds`\n",
    "\n",
    "- intuitive output reports and summary statistics \n",
    "\n",
    "\n",
    "\n"
   ]
  },
  {
   "cell_type": "markdown",
   "id": "2542406e",
   "metadata": {
    "slideshow": {
     "slide_type": "subslide"
    }
   },
   "source": [
    "#### DL analyses/applications using [nobrainer](https://github.com/neuronets/nobrainer)\n",
    "\n",
    "<img align=\"right\" src=\"data/nobrainer_examples.png\" width=\"510\">\n",
    "\n",
    "\n",
    "- `deep learning framework` for  \n",
    "  `3D image processing`\n",
    "\n",
    "- multiple `3D convolutional` models  \n",
    "  from current literature\n",
    "\n",
    "- `TensorFlow` or `Keras` implementation\n",
    "\n",
    "- `pre-trained models` for  \n",
    "  `brain extraction`, `segmentation`, etc.\n",
    "\n",
    "\n",
    "\n",
    "\n"
   ]
  },
  {
   "cell_type": "markdown",
   "id": "83b01fcc",
   "metadata": {
    "slideshow": {
     "slide_type": "subslide"
    }
   },
   "source": [
    "#### Ultra high resolution MRI using [nighres](https://nighres.readthedocs.io/en/latest/index.html)\n",
    "\n",
    "<img align=\"right\" src=\"data/nighres_examples.png\" width=\"500\">\n",
    "\n",
    "\n",
    "- everything `high resolution MRI` \n",
    "\n",
    "- `vascular reconstruction`,  \n",
    "  `tissue classification`,  \n",
    "  `parcellations`, `co-registration`,  \n",
    "  `cortical depth estimation`,  \n",
    "  `laminar`, `surface`\n",
    "\n",
    "- build upon CBS tools\n",
    "\n",
    "- make sure to also check [LAYNII](https://github.com/layerfMRI/LAYNII)\n",
    "\n",
    "\n",
    "\n",
    "\n"
   ]
  },
  {
   "cell_type": "markdown",
   "id": "af0d568b",
   "metadata": {
    "slideshow": {
     "slide_type": "subslide"
    }
   },
   "source": [
    "#### Integrating Genomics & MRI using [abagen](https://abagen.readthedocs.io)\n",
    "\n",
    "<img align=\"right\" src=\"data/abagen_examples.png\" width=\"530\">\n",
    "\n",
    "\n",
    "- interface for fetching and working with the  \n",
    "  `Allen Human Brain Atlas (AHBA)`  \n",
    "  `microarray expression data`\n",
    "\n",
    "- support for various `parcellations`,  \n",
    "  `probe selection`,  \n",
    "  `donor aggregation`,   \n",
    "  `data normalization`, etc.\n",
    "\n",
    "- `masking` & `report generation`"
   ]
  },
  {
   "cell_type": "markdown",
   "id": "8098c72b",
   "metadata": {
    "slideshow": {
     "slide_type": "subslide"
    }
   },
   "source": [
    "#### Comparing brain maps using [brainsmash](https://brainsmash.readthedocs.io)\n",
    "\n",
    "<img align=\"right\" src=\"data/brainsmash_examples.png\" width=\"550\">\n",
    "\n",
    "\n",
    "- statistical testing of  \n",
    "  `spatially autocorrelated`  \n",
    "  `brain maps`\n",
    "\n",
    "- simulate `surrogate brain maps`  \n",
    "  with `spatial autocorrelation`  \n",
    "  that is `matched` to  \n",
    "  `spatial autocorrelation`  \n",
    "  in a `target brain map`\n",
    "\n",
    "- `parcel-based` & `dense data` \n"
   ]
  },
  {
   "cell_type": "markdown",
   "id": "5c4badd1",
   "metadata": {
    "slideshow": {
     "slide_type": "subslide"
    }
   },
   "source": [
    "#### Working with brain annotations using [neuromaps](https://netneurolab.github.io/neuromaps/index.html)\n",
    "\n",
    "<img align=\"right\" src=\"data/neuromaps_examples.png\" width=\"600\">\n",
    "\n",
    "\n",
    "- easy access to over `20`  \n",
    "  `brain annotations`, including    \n",
    "  `structure`, `function`,  \n",
    "  `genetics`, `metabolism`,   \n",
    "  `cross-species`, etc.\n",
    "\n",
    "- continuously extended and open  \n",
    "  for submissions\n",
    "\n",
    "- `parcel-based` & `dense data` \n",
    "\n",
    "- `statistical comparisons` via  \n",
    "  various `spatial null models`\n"
   ]
  },
  {
   "cell_type": "markdown",
   "id": "cfa6f56f",
   "metadata": {
    "slideshow": {
     "slide_type": "subslide"
    }
   },
   "source": [
    "#### RSA using [pyrsa](https://rsatoolbox.readthedocs.io/en/latest/)\n",
    "\n",
    "<img align=\"right\" src=\"data/pyrsa_examples.png\" width=\"500\">\n",
    "\n",
    "\n",
    "- everything for  \n",
    "  `representation similarity`  \n",
    "  `analyses`\n",
    "\n",
    "- `compute` and `compare`  \n",
    "  `representation dissimilarity`  \n",
    "  `matrices`\n",
    "\n",
    "- support for `M/EEG` and `fMRI`\n",
    "\n",
    "- diverse set of visualizations\n",
    "\n"
   ]
  },
  {
   "cell_type": "markdown",
   "id": "b0b73fd9",
   "metadata": {
    "slideshow": {
     "slide_type": "subslide"
    }
   },
   "source": [
    "### Some examples from the `\"Neuroscience-Python-Ecosystem\"`\n",
    "* Let's have look at some other several widely used `libraries`:\n",
    "    * there are many more libraries for basically anything you want to work with, including `eye-tracking`, `behavioral modeling`, `machine/deep learning`, `stimulus processing`, etc.\n",
    "* The `\"Proof-of-Principle\"`: you tell me what you are working on and I tell you the fitting `python library`!\n",
    "    "
   ]
  },
  {
   "cell_type": "markdown",
   "id": "f45238c1",
   "metadata": {
    "slideshow": {
     "slide_type": "slide"
    }
   },
   "source": [
    "Thank you very much for your attention.\n",
    "\n",
    "I’m happy to answer questions during the chat and/or via `twitter` (@peerherholz but given recent developments rather not...), `mastodon` (`@peerherholz@mastodon.online`)  or `email` (`herholz dot peer at gmail dot com`)."
   ]
  }
 ],
 "metadata": {
  "anaconda-cloud": {},
  "celltoolbar": "Slideshow",
  "kernelspec": {
   "display_name": "Python 3",
   "language": "python",
   "name": "base"
  },
  "language_info": {
   "codemirror_mode": {
    "name": "ipython",
    "version": 3
   },
   "file_extension": ".py",
   "mimetype": "text/x-python",
   "name": "python",
   "nbconvert_exporter": "python",
   "pygments_lexer": "ipython3",
   "version": "3.6.7"
  }
 },
 "nbformat": 4,
 "nbformat_minor": 5
}
